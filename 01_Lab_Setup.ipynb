{
 "cells": [
  {
   "attachments": {},
   "cell_type": "markdown",
   "metadata": {
    "deletable": false,
    "editable": false
   },
   "source": [
    "<div style=\"width:100%; background-color: #121017;\"><a target=\"_blank\" href=\"http://university.yugabyte.com?utm_source=gitpod&utm_medium=notebook\"><img src=\"assets/YBU_Logo.png\" /></a></div><br>\n",
    "\n",
    "> **YugabyteDB YCQL Development**\n",
    ">\n",
    "> Enroll for free at [Yugabyte University](https://university.yugabyte.com/courses/yugabytedb-ycql-development?utm_source=gitpod&utm_medium=notebook).\n",
    ">\n",
    "<br>\n",
    "This notebook file is:\n",
    "\n",
    "`01_Lab_Setup.ipynb`"
   ]
  },
  {
   "cell_type": "markdown",
   "metadata": {},
   "source": [
    "# About these notebook Labs\n",
    "The labs for this course consists of several Jupyter notebooks that run in Gitpod. [Gitpod](https://www.gitpod.io/) facilitates runtime environments using Ubuntu and VS Code in a Chromium (browser) environment. \n",
    "\n",
    "A Gitpod instance belongs to your Gitpod workspace. The instance automatically runs a three node, YugabyteDB database cluster. YugabyteDB is the world's #1 open source, distributed SQL database. \n",
    "\n",
    "> Although a three node cluster is up and running, Gitpod does not support visiting loopback addresses over a web ui, even if exposed on a different port.\n",
    "> 127.0.0.1 is the only web user interface that is exposed. To see all available ports in Gitpod, in the Terminal tab, you can run `gp ports list`.\n",
    "> "
   ]
  },
  {
   "cell_type": "markdown",
   "metadata": {},
   "source": [
    "## 🛠️ Requirements\n",
    "Here are the requirements for this lab:\n",
    "- ✅ Launch using this Gitpod workspace, which you are already doing\n",
    "- ✅ A running, 3 node YugabyteDB cluster, which is already running\n",
    "- ☑️ Select the **Python 3.11.8** for the notebook, *which you need to select right now!!!*\n",
    "- ☑️ Fix Pop-ups Blocked, *which you need to select right now!!!*\n",
    "- ☑️ Connect to YugabyteDB with `ycqlsh`, YCQL shell, *which you need to do next*"
   ]
  },
  {
   "cell_type": "markdown",
   "metadata": {},
   "source": [
    "### Select your notebook kernel\n",
    "- In the Notebook toolbar, click **Select Kernel**.\n",
    "<br>\n",
    "<img width=50% src=\"assets/01_01_Select_Kernel_Toolbar.png\" />\n",
    "\n",
    "- Next, in the dropdown, select **Python 3.11.8**.\n",
    "<br>\n",
    "<img width=50% src=\"assets/01_02_Select_Kernel_Dropdown.png\" />\n",
    "\n",
    "> 👉 **IMPORTANT!** 👈\n",
    "> \n",
    "> You must select **Python 3.11.8**. \n",
    "> \n",
    "> Do **NOT** select _Python 3.12_ or higher!!! \n",
    ">\n",
    "\n",
    "\n",
    "### Fix Pop-ups Blocked\n",
    "- In your Chromium browser, select the Pop-ups Blocked icon in the browser address bar.\n",
    "- In the dialog, select **Always allow**. This lets you view the YugabyteD web user interface on port `15433`.\n",
    "  <br>\n",
    "  <img width=25% src=\"assets/01_03_Popups_Blocked.png\" />\n",
    "\n",
    "<br>\n",
    "That's it!"
   ]
  },
  {
   "attachments": {},
   "cell_type": "markdown",
   "metadata": {},
   "source": [
    "<details>\n",
    "<summary>About Jupyter notebooks</summary>\n",
    "\n",
    "## About Jupyter notebooks\n",
    "\n",
    "A Juypter notebook is a runtime environment for executing code. A notebook consists of one or more cells. There are three types of cells in a notebook: Markdown, Code, and Output. This is a Markdown cell.\n",
    "\n",
    "A cell has two modes: read-mode and edit-mode. By default, the cells in a notebook are in read-mode. You can run a read-mode cell that is code. To execute a code cell, select the play icon in the cell's left gutter. \n",
    "\n",
    "The execution of a code cell often results in Output. An Output cell shows the `stdout` of the previous executed code cell. You can delete an Output cell. You can also collapse the cell. In addition, you can also select `Clear Outputs of All Cells`.\n",
    "\n",
    "To modify a cell, select `Enter` or `Return`. In edit-mode, you can modify the contents of a cell. Certain labs contain challenges or experiments that require you to do just that: modify a code cell and re-run it! To switch from edit-mode to read-mode, use the `Shift+Enter` or `Shift+Return` keystroke.\n",
    "\n",
    "### Notebook keyboard shortcuts\n",
    "The Jupyter extension for Gitpod supports the following keyboard shortcuts:\n",
    "\n",
    "| Keystroke | Description |\n",
    "|--|--|\n",
    "| ESC | Change the cell mode |\n",
    "| A | Add a cell above |\n",
    "| B | Add a cell below |\n",
    "| J or down arrow key |  Change a cell to below | \n",
    "| K or up arrow key | Change a cell to above | \n",
    "| Ctrl+Enter | Run the currently selected cell |\n",
    "| Shift+Enter | Run the currently selected cell and insert a new cell immediately below (focus moves to new cell) |\n",
    "| Alt+Enter | Run the currently selected cell and insert a new cell immediately below (focus remains on current cell) |\n",
    "| dd | Delete a selected cell |\n",
    "| z | Undo the last change | \n",
    "| M | switch the cell type to Markdown | \n",
    "| Y | switch the cell type to code |\n",
    "| L | Enable/Disable line numbers |\n",
    "\n",
    "\n",
    "  </details>"
   ]
  },
  {
   "cell_type": "markdown",
   "metadata": {},
   "source": [
    "## ⛑️ Getting help\n",
    "The best way to get help from the Yugabyte University team is to post your question on YugabyteDB Community Slack in the #training channels. To sign up, visit [YugabyteDB Community Slack](https://join.slack.com/t/yugabyte-db/shared_invite/zt-xbd652e9-3tN0N7UG0eLpsace4t1d2A?utm_source=gitpod&utm_medium=notebook)."
   ]
  },
  {
   "attachments": {},
   "cell_type": "markdown",
   "metadata": {
    "deletable": false,
    "editable": false
   },
   "source": [
    "## 👣 Setup steps\n",
    "Here are the steps to setup this lab:\n",
    "- Create the notebook styles \n",
    "- Create the notebook variables"
   ]
  },
  {
   "cell_type": "markdown",
   "metadata": {},
   "source": [
    "### 👇 Create the notebook styles"
   ]
  },
  {
   "cell_type": "code",
   "execution_count": null,
   "metadata": {},
   "outputs": [],
   "source": [
    "from IPython.core.display import HTML\n",
    "def css_styling():\n",
    "    styles = open(\"./styles/custom.css\", \"r\").read()\n",
    "    return HTML(styles)\n",
    "css_styling()"
   ]
  },
  {
   "attachments": {},
   "cell_type": "markdown",
   "metadata": {
    "deletable": false,
    "editable": false
   },
   "source": [
    "### 👇 Create the notebook variables \n",
    "\n",
    "> 👉 **IMPORTANT!** 👈\n",
    "> \n",
    "> Do **NOT** skip running this cell. \n",
    "> \n",
    "\n",
    "The following Python cell creates and stores variables that all the notebooks in this lab will use. You can view these variables in the Jupyter tab.\n",
    "\n",
    "- To run the script, select Execute Cell (Play Arrow) in the left gutter of the cell.\n",
    "- Verify the accuracy of the output values\n",
    "\n",
    "👇 👇 👇 "
   ]
  },
  {
   "cell_type": "code",
   "execution_count": null,
   "metadata": {},
   "outputs": [],
   "source": [
    "# Env variables for Notebook\n",
    "import os\n",
    "\n",
    "# read env_vars.env\n",
    "env_vars = !cat env_vars.env\n",
    "for var in env_vars:\n",
    "    key, value = var.split('=')\n",
    "    os.environ[key] = value\n",
    "\n",
    "### Begin: Gitpod or local\n",
    "#\n",
    "### Uncomment Gitpod specific\n",
    "#\n",
    "NB_YB_PATH=os.environ.get('ENV_YB_PATH_GITPOD')\n",
    "NB_YB_PATH_BIN=os.environ.get('ENV_YB_PATH_BIN_GITPOD')\n",
    "NB_YB_PATH_DATA=os.environ.get('ENV_YB_PATH_DATA_GITPOD')\n",
    "NB_GITPOD_WORKSPACE_URL=os.environ.get('GITPOD_WORKSPACE_URL')\n",
    "#\n",
    "### Comment out Local \n",
    "#\n",
    "# NB_YB_PATH_BIN=os.environ.get('ENV_YB_PATH_BIN_LOCAL')\n",
    "# NB_YB_PATH_DATA=os.environ.get('ENV_YB_PATH_DATA_LOCAL')\n",
    "# NB_GITPOD_WORKSPACE_URL=os.environ.get('ENV_GITPOD_WORKSPACE_URL_LOCAL')\n",
    "##\n",
    "### End: Gitpod or local\n",
    "\n",
    "# env_vars defines the following\n",
    "NB_DB_NAME=os.environ.get('ENV_DB_NAME')\n",
    "NB_HOST_IPv4_01=os.environ.get('ENV_HOST_IPv4_01')\n",
    "NB_HOST_IPv4_02=os.environ.get('ENV_HOST_IPv4_02')\n",
    "NB_HOST_IPv4_03=os.environ.get('ENV_HOST_IPv4_03')\n",
    "\n",
    "NB_MASTER_WEB_PORT=os.environ.get('ENV_MASTER_WEB_PORT')\n",
    "NB_TSERVER_WEBSERVER_PORT=os.environ.get('ENV_TSERVER_WEBSERVER_PORT')\n",
    "NB_YUGABYTED_WEB_UI_PORT=os.environ.get('ENV_YUGABYTED_WEB_UI_PORT')\n",
    "\n",
    "# Gitpod URLS\n",
    "NB_YB_MASTER_HOST_GITPOD_URL = NB_GITPOD_WORKSPACE_URL.replace('https://','https://'+NB_MASTER_WEB_PORT+'-')\n",
    "NB_YB_TSERVER_HOST_GITPOD_URL = NB_GITPOD_WORKSPACE_URL.replace('https://','https://'+NB_TSERVER_WEBSERVER_PORT+'-')\n",
    "NB_YUGABYTED_UI_HOST_GITPOD_URL = NB_GITPOD_WORKSPACE_URL.replace('https://','https://'+NB_YUGABYTED_WEB_UI_PORT+'-')\n",
    "\n",
    "# Current directory of project and related child folders\n",
    "NB_NOTEBOOK_DIR=os.getcwd()\n",
    "NB_NOTEBOOK_DATA_FOLDER=NB_NOTEBOOK_DIR +'/data'\n",
    "\n",
    "# Data files\n",
    "\n",
    "NB_DATA_DDL_FILE=os.environ.get(\"ENV_DATA_DDL_FILE\")\n",
    "NB_DATA_DML_FILE=os.environ.get(\"ENV_DATA_DML_FILE\")\n",
    "\n",
    "\n",
    "# Store the note book values for other notebooks to use\n",
    "%store NB_YB_PATH\n",
    "%store NB_YB_PATH_BIN\n",
    "%store NB_YB_PATH_DATA\n",
    "%store NB_GITPOD_WORKSPACE_URL\n",
    "\n",
    "%store NB_DB_NAME\n",
    "%store NB_HOST_IPv4_01\n",
    "%store NB_HOST_IPv4_02\n",
    "%store NB_HOST_IPv4_03\n",
    "\n",
    "%store NB_MASTER_WEB_PORT\n",
    "%store NB_TSERVER_WEBSERVER_PORT\n",
    "%store NB_YUGABYTED_WEB_UI_PORT\n",
    "\n",
    "%store NB_YB_MASTER_HOST_GITPOD_URL\n",
    "%store NB_YB_TSERVER_HOST_GITPOD_URL\n",
    "%store NB_YUGABYTED_UI_HOST_GITPOD_URL\n",
    "\n",
    "%store NB_NOTEBOOK_DIR\n",
    "%store NB_NOTEBOOK_DATA_FOLDER\n",
    "\n",
    "%store NB_DATA_DDL_FILE\n",
    "%store NB_DATA_DML_FILE"
   ]
  },
  {
   "attachments": {},
   "cell_type": "markdown",
   "metadata": {},
   "source": [
    "---\n",
    "## Connect to YugabyteDB with `ycqlsh`, YCQL shell\n",
    "The following commands are YCQL shell commands. Using `ycqlsh`, you can execute YCQL statements for zero or more keyspaces. \n",
    "\n",
    "You can view the commands using `--help`."
   ]
  },
  {
   "attachments": {},
   "cell_type": "markdown",
   "metadata": {},
   "source": [
    "You can connect a keyspace with `-k` or `--keyspace`."
   ]
  },
  {
   "cell_type": "code",
   "execution_count": null,
   "metadata": {
    "vscode": {
     "languageId": "shellscript"
    }
   },
   "outputs": [],
   "source": [
    "%%bash -s \"$NB_YB_PATH_BIN\"   # Shell Commands\n",
    "YB_PATH=${1}\n",
    "cd $YB_PATH\n",
    "\n",
    "./ycqlsh --help | grep -A 0 keyspace"
   ]
  },
  {
   "attachments": {},
   "cell_type": "markdown",
   "metadata": {},
   "source": [
    "You can run Data Definition Language (DDL) and Data Manipulation Language (DML) commands with `-e` or `--execute`."
   ]
  },
  {
   "cell_type": "code",
   "execution_count": null,
   "metadata": {
    "vscode": {
     "languageId": "shellscript"
    }
   },
   "outputs": [],
   "source": [
    "%%bash -s \"$NB_YB_PATH_BIN\"   # Shell Commands\n",
    "YB_PATH=${1}\n",
    "cd $YB_PATH\n",
    "\n",
    "./ycqlsh --help | grep -A 1 execute"
   ]
  },
  {
   "attachments": {},
   "cell_type": "markdown",
   "metadata": {},
   "source": [
    "When connecting, it can be helpful to refresh metadata using `-r` or `--refresh_on_describe`."
   ]
  },
  {
   "cell_type": "code",
   "execution_count": null,
   "metadata": {
    "vscode": {
     "languageId": "shellscript"
    }
   },
   "outputs": [],
   "source": [
    "%%bash -s \"$NB_YB_PATH_BIN\"   # Shell Commands\n",
    "YB_PATH=${1}\n",
    "cd $YB_PATH\n",
    "\n",
    "./ycqlsh --help | grep -A 2 refresh_on_describe"
   ]
  },
  {
   "attachments": {},
   "cell_type": "markdown",
   "metadata": {},
   "source": [
    "---\n",
    "## YCQL commands and helpful queries\n",
    "Yugabyte Cloud Query Language (YCQL) is an Apache Cassandra compatible language. Here are some YCQL language commands that you will helpful."
   ]
  },
  {
   "cell_type": "code",
   "execution_count": null,
   "metadata": {
    "vscode": {
     "languageId": "shellscript"
    }
   },
   "outputs": [],
   "source": [
    "%%bash -s \"$NB_YB_PATH_BIN\"   # YCQL commands and queries\n",
    "YB_PATH=${1}\n",
    "cd $YB_PATH\n",
    "\n",
    "./ycqlsh -r -e \"\n",
    "  CONSISTENCY;\n",
    "\""
   ]
  },
  {
   "attachments": {},
   "cell_type": "markdown",
   "metadata": {},
   "source": [
    "YCQL is compatible with CQL 3.4.2."
   ]
  },
  {
   "cell_type": "code",
   "execution_count": null,
   "metadata": {
    "vscode": {
     "languageId": "shellscript"
    }
   },
   "outputs": [],
   "source": [
    "%%bash -s \"$NB_YB_PATH_BIN\"   # YCQL commands and queries\n",
    "YB_PATH=${1}\n",
    "cd $YB_PATH\n",
    "\n",
    "./ycqlsh -r -e \"\n",
    "  show version;\n",
    "\"  "
   ]
  },
  {
   "attachments": {},
   "cell_type": "markdown",
   "metadata": {},
   "source": [
    "You can also run a query to show the `cql` version."
   ]
  },
  {
   "cell_type": "code",
   "execution_count": null,
   "metadata": {
    "vscode": {
     "languageId": "shellscript"
    }
   },
   "outputs": [],
   "source": [
    "%%bash -s \"$NB_YB_PATH_BIN\"   # YCQL commands and queries\n",
    "YB_PATH=${1}\n",
    "cd $YB_PATH\n",
    "\n",
    "./ycqlsh -r -e \"\n",
    "  select cql_version from system.local;\n",
    "\"  "
   ]
  },
  {
   "attachments": {},
   "cell_type": "markdown",
   "metadata": {},
   "source": [
    "`show host` details the host connection."
   ]
  },
  {
   "cell_type": "code",
   "execution_count": null,
   "metadata": {
    "vscode": {
     "languageId": "shellscript"
    }
   },
   "outputs": [],
   "source": [
    "%%bash -s \"$NB_YB_PATH_BIN\"   # YCQL commands and queries\n",
    "YB_PATH=${1}\n",
    "cd $YB_PATH\n",
    "\n",
    "./ycqlsh -r -e \"\n",
    "  show host;\n",
    "\"  "
   ]
  },
  {
   "attachments": {},
   "cell_type": "markdown",
   "metadata": {},
   "source": [
    "`decribe kespaces`  returns the names of all keyspaces."
   ]
  },
  {
   "cell_type": "code",
   "execution_count": null,
   "metadata": {
    "vscode": {
     "languageId": "shellscript"
    }
   },
   "outputs": [],
   "source": [
    "%%bash -s \"$NB_YB_PATH_BIN\"   # YCQL commands and queries\n",
    "YB_PATH=${1}\n",
    "cd $YB_PATH\n",
    "\n",
    "./ycqlsh -r -e \"\n",
    "  help describe;\n",
    "\"  \n"
   ]
  },
  {
   "attachments": {},
   "cell_type": "markdown",
   "metadata": {},
   "source": [
    "`describe tables` or `desc tables` returns the names of all tables in the current keyspace, or in all keyspacces."
   ]
  },
  {
   "cell_type": "code",
   "execution_count": null,
   "metadata": {
    "vscode": {
     "languageId": "shellscript"
    }
   },
   "outputs": [],
   "source": [
    "%%bash -s \"$NB_YB_PATH_BIN\"   # YCQL commands and queries\n",
    "YB_PATH=${1}\n",
    "cd $YB_PATH\n",
    "\n",
    "./ycqlsh -r -e \"\n",
    "  desc tables;\n",
    "\""
   ]
  },
  {
   "attachments": {},
   "cell_type": "markdown",
   "metadata": {},
   "source": [
    "The following queries the roles table. `cassandra` is a default role. "
   ]
  },
  {
   "cell_type": "code",
   "execution_count": null,
   "metadata": {
    "vscode": {
     "languageId": "shellscript"
    }
   },
   "outputs": [],
   "source": [
    "%%bash -s \"$NB_YB_PATH_BIN\"   # YCQL commands and queries\n",
    "YB_PATH=${1}\n",
    "cd $YB_PATH\n",
    "\n",
    "./ycqlsh -r -k \"system_auth\" -e \"\n",
    "  select * from roles;\n",
    "\"  "
   ]
  },
  {
   "attachments": {},
   "cell_type": "markdown",
   "metadata": {},
   "source": [
    "---\n",
    "# 🌟 Nice work! \n",
    "In this notebook, you completed the following:\n",
    "- Introduction\n",
    "  - Requirements\n",
    "  - About Jupyter notebooks\n",
    "  - Setup steps\n",
    "  - Connect to YugabyteDB with `ycqlsh`, YCQL shell\n",
    "  - YCQL commands and helpful queries\n",
    "\n",
    "## 😊 Next up!\n",
    "Continue your learning by opening the next notebook, `02_Language_fundamentals.ipynb`. \n",
    "\n",
    "You can either open the file from the Explorer or simply run the following cell:"
   ]
  },
  {
   "cell_type": "code",
   "execution_count": null,
   "metadata": {
    "vscode": {
     "languageId": "shellscript"
    }
   },
   "outputs": [],
   "source": [
    "%%bash\n",
    "gp open '02_Language_fundamentals.ipynb'"
   ]
  }
 ],
 "metadata": {
  "kernelspec": {
   "display_name": "Python 3",
   "language": "python",
   "name": "python3"
  },
  "language_info": {
   "codemirror_mode": {
    "name": "ipython",
    "version": 3
   },
   "file_extension": ".py",
   "mimetype": "text/x-python",
   "name": "python",
   "nbconvert_exporter": "python",
   "pygments_lexer": "ipython3",
   "version": "3.11.2"
  },
  "orig_nbformat": 4,
  "vscode": {
   "interpreter": {
    "hash": "31f2aee4e71d21fbe5cf8b01ff0e069b9275f58929596ceb00d14d90e3e16cd6"
   }
  }
 },
 "nbformat": 4,
 "nbformat_minor": 2
}
