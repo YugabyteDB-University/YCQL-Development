{
 "cells": [
  {
   "attachments": {},
   "cell_type": "markdown",
   "metadata": {
    "deletable": false,
    "editable": false
   },
   "source": [
    "<div style=\"width:100%; background-color: #121017;\"><a target=\"_blank\" href=\"http://university.yugabyte.com?utm_source=gitpod&utm_medium=notebook\"><img src=\"assets/YBU_Logo.png\" /></a></div><br>\n",
    "\n",
    "> **YugabyteDB YCQL Development**\n",
    ">\n",
    "> Enroll for free at [Yugabyte University](https://university.yugabyte.com/courses/yugabytedb-ycql-development?utm_source=gitpod&utm_medium=notebook).\n",
    ">\n",
    "\n",
    "<br>\n",
    "This notebook file is:\n",
    "\n",
    "`02_Language_fundamentals.ipynb`"
   ]
  },
  {
   "cell_type": "markdown",
   "metadata": {},
   "source": [
    "# Language fundamentals\n",
    "This notebook showcases various Data Definition Language (DDL) and Data Manipulation Language (DML) statements for Yugabyte Cloud Query Language (YCQL).\n",
    "\n",
    "YCQL is inspired by Apache Cassandra. YCQL is one of two Yugabyte Query Language APIs for YugabyteDB, the world's #1, open source, distributed SQL database.\n",
    "\n",
    "In addition to learning about YCQL, a learning goal for this notebook is to also demystify how YugabyteDB stores data in its distributed document store, DocDB."
   ]
  },
  {
   "attachments": {},
   "cell_type": "markdown",
   "metadata": {
    "deletable": false,
    "editable": false
   },
   "source": [
    "## 🛠️ Requirements\n",
    "Here are the requirements for this notebook:\n",
    "- ✅ Create the notebook variables in `01_Lab_Setup.ipynb`, which you previously did\n",
    "- ☑️ Select the **Python 3.11.8** for the notebook, *which you need to select right now!!!*\n",
    "- ☑️ Import the notebook variables, *which you must do next*\n",
    "- ☑️ Create the `ks_ybu` keyspace, *which you must do next*"
   ]
  },
  {
   "cell_type": "markdown",
   "metadata": {},
   "source": [
    "### Select your notebook kernel\n",
    "- In the Notebook toolbar, click **Select Kernel**.\n",
    "<br>\n",
    "<img width=50% src=\"assets/01_01_Select_Kernel_Toolbar.png\" />\n",
    "\n",
    "- Next, in the dropdown, select **Python 3.11.8**.\n",
    "<br>\n",
    "<img width=50% src=\"assets/01_02_Select_Kernel_Dropdown.png\" />\n",
    "\n",
    "> 👉 **IMPORTANT!** 👈\n",
    "> \n",
    "> You must select **Python 3.11.8**. \n",
    "> \n",
    "> Do **NOT** select _Python 3.12_ or higher!!! \n",
    ">\n"
   ]
  },
  {
   "cell_type": "markdown",
   "metadata": {},
   "source": [
    "## ⛑️ Getting help\n",
    "The best way to get help from the Yugabyte University team is to post your question on YugabyteDB Community Slack in the #training channels. To sign up, visit [YugabyteDB Community Slack](https://join.slack.com/t/yugabyte-db/shared_invite/zt-xbd652e9-3tN0N7UG0eLpsace4t1d2A?utm_source=gitpod&utm_medium=notebook)."
   ]
  },
  {
   "cell_type": "markdown",
   "metadata": {},
   "source": [
    "## 👣 Setup steps\n",
    "Here are the steps to setup this lab:\n",
    "- Create the notebook styles\n",
    "- Import the notebook variables"
   ]
  },
  {
   "cell_type": "markdown",
   "metadata": {},
   "source": [
    "### 👇 Create the notebook styles"
   ]
  },
  {
   "cell_type": "code",
   "execution_count": null,
   "metadata": {},
   "outputs": [],
   "source": [
    "from IPython.core.display import HTML\n",
    "def css_styling():\n",
    "    styles = open(\"./styles/custom.css\", \"r\").read()\n",
    "    return HTML(styles)\n",
    "css_styling()"
   ]
  },
  {
   "cell_type": "markdown",
   "metadata": {},
   "source": [
    "### 👇 Create the notebook variables \n",
    "\n",
    "> 👉 **IMPORTANT!** 👈\n",
    "> \n",
    "> Do **NOT** skip running this cell. \n",
    "> \n",
    "\n",
    "The following Python cell creates and stores variables that all the notebooks in this lab will use. You can view these variables in the Jupyter tab.\n",
    "\n",
    "- To run the script, select Execute Cell (Play Arrow) in the left gutter of the cell.\n",
    "- Verify the accuracy of the output values\n",
    "\n",
    "👇 👇 👇 "
   ]
  },
  {
   "cell_type": "code",
   "execution_count": null,
   "metadata": {},
   "outputs": [],
   "source": [
    "# Use %store -r to read 01_Lab_Setup variables\n",
    "%store -r"
   ]
  },
  {
   "attachments": {},
   "cell_type": "markdown",
   "metadata": {},
   "source": [
    "---\n",
    "## DDL: Commands for YCQL\n",
    "Data definition language commands in YCQL allow you to create, modify, and delete objects. The parent object for YCQL is a keyspace. You create tables to store data."
   ]
  },
  {
   "attachments": {},
   "cell_type": "markdown",
   "metadata": {
    "deletable": false,
    "editable": false
   },
   "source": [
    "### Create the `ks_ybu` keyspace\n",
    "Run the following cells to connect to the YugabyteDB cluster using `ycqlsh`. Then, complete the following tasks:\n",
    "- Create the `ks_ybu` keyspace \n",
    "- Create the `tbl_employees` table\n",
    "- Describe the  `tbl_employees` table\n",
    "\n",
    "Drop `ks_ybu` if it exists. If the keyspace has a table in it, the following will throw an error:"
   ]
  },
  {
   "cell_type": "code",
   "execution_count": null,
   "metadata": {
    "vscode": {
     "languageId": "shellscript"
    }
   },
   "outputs": [],
   "source": [
    "%%bash -s \"$NB_YB_PATH_BIN\" \"$NB_DB_NAME\"   # Drop the keyspace, ks_ybu\n",
    "YB_PATH=${1}\n",
    "DB_NAME=${2}\n",
    "cd $YB_PATH\n",
    "\n",
    "# DB_NAME=ks_ybu\n",
    "./ycqlsh -r -e \"\n",
    "  drop keyspace if exists $DB_NAME;\n",
    "  \""
   ]
  },
  {
   "attachments": {},
   "cell_type": "markdown",
   "metadata": {},
   "source": [
    "Create the keyspace, `ks_ybu`."
   ]
  },
  {
   "cell_type": "code",
   "execution_count": null,
   "metadata": {
    "vscode": {
     "languageId": "shellscript"
    }
   },
   "outputs": [],
   "source": [
    "%%bash -s \"$NB_YB_PATH_BIN\" \"$NB_DB_NAME\"  # Create the keyspace, ks_ybu. \n",
    "YB_PATH=${1}\n",
    "DB_NAME=${2}\n",
    "cd $YB_PATH\n",
    "\n",
    "# DB_NAME=ks_ybu\n",
    "./ycqlsh -r -e \"\n",
    "  create keyspace if not exists $DB_NAME;\n",
    "  \""
   ]
  },
  {
   "attachments": {},
   "cell_type": "markdown",
   "metadata": {},
   "source": [
    "Confirm the keyspace creation."
   ]
  },
  {
   "cell_type": "code",
   "execution_count": null,
   "metadata": {
    "vscode": {
     "languageId": "shellscript"
    }
   },
   "outputs": [],
   "source": [
    "%%bash -s \"$NB_YB_PATH_BIN\"  \"$NB_DB_NAME\" # describe the keyspace\n",
    "YB_PATH=${1}\n",
    "DB_NAME=${2}\n",
    "cd $YB_PATH\n",
    "\n",
    "# DB_NAME=ks_ybu\n",
    "./ycqlsh -r -e \"\n",
    "  describe keyspace $DB_NAME;\n",
    "\""
   ]
  },
  {
   "attachments": {},
   "cell_type": "markdown",
   "metadata": {},
   "source": [
    "### Create the `tbl_employees` table"
   ]
  },
  {
   "attachments": {},
   "cell_type": "markdown",
   "metadata": {},
   "source": [
    "If the table already exists, the command will drop the table."
   ]
  },
  {
   "cell_type": "code",
   "execution_count": null,
   "metadata": {
    "vscode": {
     "languageId": "shellscript"
    }
   },
   "outputs": [],
   "source": [
    "%%bash -s \"$NB_YB_PATH_BIN\"  \"$NB_DB_NAME\"  # Drop the table if it exists\n",
    "YB_PATH=${1}\n",
    "DB_NAME=${2}  \n",
    "cd $YB_PATH\n",
    "\n",
    "# DB_NAME=ks_ybu\n",
    "./ycqlsh -r -k $DB_NAME -e \"\n",
    "  drop table if exists tbl_employees;\n",
    "  \""
   ]
  },
  {
   "attachments": {},
   "cell_type": "markdown",
   "metadata": {},
   "source": [
    "Create the table, `tbl_employees`. \n",
    "\n",
    "> Note: A primary key is required for all user tables in a keyspace."
   ]
  },
  {
   "cell_type": "code",
   "execution_count": null,
   "metadata": {
    "vscode": {
     "languageId": "shellscript"
    }
   },
   "outputs": [],
   "source": [
    "%%bash -s \"$NB_YB_PATH_BIN\"  \"$NB_DB_NAME\"  # Create the table\n",
    "YB_PATH=${1}\n",
    "DB_NAME=${2}  \n",
    "cd $YB_PATH\n",
    "\n",
    "# DB_NAME=ks_ybu\n",
    "./ycqlsh -r -k $DB_NAME  -e \"\n",
    "  create table if not exists tbl_employees ( \n",
    "    id int, \n",
    "    full_name text, \n",
    "    email text,\n",
    "    year int,\n",
    "    primary key (id, full_name) \n",
    "    );\n",
    "  \""
   ]
  },
  {
   "attachments": {},
   "cell_type": "markdown",
   "metadata": {},
   "source": [
    "Describe `tbl_employees`. \n",
    "\n",
    ">🤔  Question:\n",
    ">   \n",
    "> What is different about the table description and the create table statement?"
   ]
  },
  {
   "cell_type": "code",
   "execution_count": null,
   "metadata": {
    "vscode": {
     "languageId": "shellscript"
    }
   },
   "outputs": [],
   "source": [
    "%%bash -s \"$NB_YB_PATH_BIN\" \"$NB_DB_NAME\"  # Describe the table\n",
    "YB_PATH=${1}\n",
    "DB_NAME=${2}  \n",
    "\n",
    "cd $YB_PATH\n",
    "# DB_NAME=ks_ybu\n",
    "./ycqlsh -r -k $DB_NAME -e \"\n",
    "  desc tbl_employees;\n",
    "\""
   ]
  },
  {
   "attachments": {},
   "cell_type": "markdown",
   "metadata": {},
   "source": [
    "> 🙋 Answer:\n",
    ">   \n",
    "> The description of the table reveals that the primary key consists of two key columns. The first key column is `id`. The second key column is `full_name`. \n",
    "> \n",
    "> `id` is the partition key for the table. The clustering key column is `full_name`. \n",
    "> \n",
    "> Ascending is the order of the clustering key column."
   ]
  },
  {
   "attachments": {},
   "cell_type": "markdown",
   "metadata": {},
   "source": [
    "---\n",
    "## DML: Write with `insert`\n",
    "\n",
    "Insert rows into the `tbl_employees` table."
   ]
  },
  {
   "cell_type": "code",
   "execution_count": null,
   "metadata": {
    "vscode": {
     "languageId": "shellscript"
    }
   },
   "outputs": [],
   "source": [
    "%%bash -s \"$NB_YB_PATH_BIN\"  \"$NB_DB_NAME\"   # Populate the employees table\n",
    "YB_PATH=${1}\n",
    "DB_NAME=${2}  \n",
    "\n",
    "cd $YB_PATH\n",
    "# DB_NAME=ks_ybu\n",
    "./ycqlsh -r -k $DB_NAME  -e \"\n",
    "  insert into tbl_employees (id, full_name, email, year) values (1, 'Bruce Wayne', 'batman@yb.com', 2020);\n",
    "  insert into tbl_employees (id, full_name, email, year) values (2, 'Dick Grayson', 'robin@yb.com', 2020);\n",
    "  insert into tbl_employees (id, full_name, email, year) values (4, 'Clark Kent', 'superman@yb.com', 2021);\n",
    "  insert into tbl_employees (id, full_name, email, year) values (5, 'Kara Zor-El' ,'supergirl@yb.com', 2023); \n",
    "  insert into tbl_employees (id, full_name, email, year) values (6, 'Natalie Reed','ladyblackhawk@yb.com',2020);\n",
    "  insert into tbl_employees (id, full_name, email, year) values (7, 'Peter Parker', 'spiderman@yb.com', 2021);\n",
    "  insert into tbl_employees (id, full_name, email, year) values (8, 'Diana Prince', 'wonderwoman@yb.com', 2021);\n",
    "  insert into tbl_employees (id, full_name, email, year) values (9, 'Harold Jordan','greenlantern@yb.com', 2022);\n",
    "  insert into tbl_employees (id, full_name, email, year) values (10, 'Carter Hal', 'hawkman@yb.com', 2022);\n",
    "  insert into tbl_employees (id, full_name, email, year) values (11, 'Michael Holt', 'mrterrific@yb.com',2022);\n",
    "\""
   ]
  },
  {
   "attachments": {},
   "cell_type": "markdown",
   "metadata": {},
   "source": [
    "Verify that the preceding inserted rows into the table."
   ]
  },
  {
   "cell_type": "code",
   "execution_count": null,
   "metadata": {
    "vscode": {
     "languageId": "shellscript"
    }
   },
   "outputs": [],
   "source": [
    "%%bash -s \"$NB_YB_PATH_BIN\"  \"$NB_DB_NAME\"   # Query the table\n",
    "YB_PATH=${1}\n",
    "DB_NAME=${2}  \n",
    "\n",
    "cd $YB_PATH\n",
    "\n",
    "# DB_NAME=ks_ybu\n",
    "./ycqlsh -r -k $DB_NAME  -e \"\n",
    "  select * from tbl_employees;\n",
    "\""
   ]
  },
  {
   "attachments": {},
   "cell_type": "markdown",
   "metadata": {},
   "source": [
    "> 🤔 Question:\n",
    ">\n",
    "> In terms of the result order, what's interesting about the results above? How does it differ from the insert statement order?\n",
    ">\n",
    "> 🙋 Answer:\n",
    ">\n",
    "> The result order differs from the insertion statement.\n",
    ">"
   ]
  },
  {
   "attachments": {},
   "cell_type": "markdown",
   "metadata": {},
   "source": [
    "---\n",
    "## Partition key, partition key hash, and the `partition_hash()` built-in function\n",
    "For every row in a table, the distributed document store of YugabyteDB saves a partition key, partition key hash, and any clustering keys as a `DocKey`. In just a few more notebook cells, you will learn more about a `DocKey` and `DocDB`.\n",
    "\n",
    "The saved partition key hash is a hexadecimal value. The `partition_hash()` function is a special function that only works with partition hash columns. The function converts the hexadecimal value for a partition key hash into an integer value. The range of possible integer values for a partition key hash is from `0` to `65,535`.\n",
    "\n",
    "In this exercise, using the built-in function, `partition_hash()`, you will examine the partition key and partition key hash for `tbl_employees`. \n",
    "\n",
    "To begin, review the DLL for `tbl_employees`:"
   ]
  },
  {
   "cell_type": "code",
   "execution_count": null,
   "metadata": {
    "vscode": {
     "languageId": "shellscript"
    }
   },
   "outputs": [],
   "source": [
    "%%bash -s \"$NB_YB_PATH_BIN\" \"$NB_DB_NAME\"  # Describe the table\n",
    "YB_PATH=${1}\n",
    "DB_NAME=${2}  \n",
    "\n",
    "cd $YB_PATH\n",
    "\n",
    "# DB_NAME=ks_ybu\n",
    "./ycqlsh -r -k $DB_NAME -e \"\n",
    "  desc tbl_employees;\n",
    "\""
   ]
  },
  {
   "attachments": {},
   "cell_type": "markdown",
   "metadata": {},
   "source": [
    "The primary key for the table has two columns. The first column is the partition key column. The second column is the clustering key column. Using the  `partition_hash()` built-in function, you can view the integer value of the partition key hash."
   ]
  },
  {
   "cell_type": "code",
   "execution_count": null,
   "metadata": {
    "vscode": {
     "languageId": "shellscript"
    }
   },
   "outputs": [],
   "source": [
    "%%bash -s \"$NB_YB_PATH_BIN\" \"$NB_DB_NAME\"  # query using partition_hash() \n",
    "YB_PATH=${1}\n",
    "DB_NAME=${2}  \n",
    "\n",
    "cd $YB_PATH\n",
    "\n",
    "# DB_NAME=ks_ybu\n",
    "./ycqlsh -r -k $DB_NAME -e \"\n",
    "  select partition_hash(id) as partition_key_hash, id, full_name from tbl_employees;\n",
    "\""
   ]
  },
  {
   "attachments": {},
   "cell_type": "markdown",
   "metadata": {},
   "source": [
    "> 🤔 Question:\n",
    ">\n",
    "> In terms of the result order, what's interesting about the results above? How does it differ from the insert statement order?\n",
    ">\n",
    "> 🙋 Answer:\n",
    ">\n",
    "> The rows are sorted by the partition key hash! \n",
    ">\n",
    "\n",
    "The `partition_hash()` function reveals, in part, how YugabyteDB stores data. As mentioned previously, for every row in a table, the distributed document store of YugabyteDB saves a partition key, partition key hash, and any clustering keys as a `DocKey`. In just a few more notebook cells, you will learn more about a `DocKey` and `DocDB`."
   ]
  },
  {
   "attachments": {},
   "cell_type": "markdown",
   "metadata": {},
   "source": [
    "---\n",
    "## DML: Upsert with `insert`\n",
    "\n",
    "An `insert` statement exhibit an upsert behavior for a row with an existing primary key. \n",
    "\n",
    "A row already exists in `tbl_employees` for the primary key of `id=2` and `full_name='Dick Grasyon'`. The following statement will update the `email` and `year` columns for the row:\n",
    "\n",
    "```\n",
    "insert into tbl_employees (id, full_name, email, year) values (2, 'Dick Grayson', 'nightwingc@yb.com', 2022);\n",
    "```\n",
    "\n",
    "To begin, run the following `select` statement:"
   ]
  },
  {
   "cell_type": "code",
   "execution_count": null,
   "metadata": {
    "vscode": {
     "languageId": "shellscript"
    }
   },
   "outputs": [],
   "source": [
    "%%bash -s \"$NB_YB_PATH_BIN\"  \"$NB_DB_NAME\"   # Query by id\n",
    "YB_PATH=${1}\n",
    "DB_NAME=${2}  \n",
    "\n",
    "cd $YB_PATH\n",
    "\n",
    "# DB_NAME=ks_ybu\n",
    "./ycqlsh -r -k $DB_NAME  -e \"\n",
    "  select * from tbl_employees where id = 2;\n",
    "\""
   ]
  },
  {
   "attachments": {},
   "cell_type": "markdown",
   "metadata": {},
   "source": [
    "Next, run the following `insert` statement:"
   ]
  },
  {
   "cell_type": "code",
   "execution_count": null,
   "metadata": {
    "vscode": {
     "languageId": "shellscript"
    }
   },
   "outputs": [],
   "source": [
    "%%bash -s \"$NB_YB_PATH_BIN\"  \"$NB_DB_NAME\"   # insert into the table \n",
    "YB_PATH=${1}\n",
    "DB_NAME=${2}  \n",
    "\n",
    "cd $YB_PATH\n",
    "\n",
    "# DB_NAME=ks_ybu\n",
    "./ycqlsh -r -k $DB_NAME  -e \"\n",
    "  insert into tbl_employees (id, full_name, email, year) values (2, 'Dick Grayson', 'nightwingc@yb.com', 2022);\n",
    "\""
   ]
  },
  {
   "attachments": {},
   "cell_type": "markdown",
   "metadata": {},
   "source": [
    "To view the results of the upsert, run the previous `select` statement."
   ]
  },
  {
   "cell_type": "code",
   "execution_count": null,
   "metadata": {
    "vscode": {
     "languageId": "shellscript"
    }
   },
   "outputs": [],
   "source": [
    "%%bash -s \"$NB_YB_PATH_BIN\"  \"$NB_DB_NAME\"   # Query by id \n",
    "YB_PATH=${1}\n",
    "DB_NAME=${2}  \n",
    "\n",
    "cd $YB_PATH\n",
    "\n",
    "# DB_NAME=ks_ybu.\n",
    "./ycqlsh -r -k $DB_NAME  -e \"\n",
    "  select * from tbl_employees where id = 2;\n",
    "\""
   ]
  },
  {
   "attachments": {},
   "cell_type": "markdown",
   "metadata": {},
   "source": [
    "---\n",
    "## Distributed Document Store (DocDB)\n",
    "For every row in a table, the distributed document store of YugabyteDB saves a partition key, partition key hash, and any clustering keys as a `DocKey`. The partition key for the table determines how the consistent hash sharding algorithm of YugabyteDB distributes rows into tablets. A tablet is a customized version of RocksDB, a persistent key-value store.\n",
    "\n",
    "A tablet in YCQL has at least one tablet leader per YB-TServer node in the cluster. The replication factor for the cluster determines the number of followers per tablet leader. \n",
    "\n",
    "Your YugabyteDB cluster in this Gitpod instance is a three node cluster. On each node there is a YB-Master services and a YB-TServer service. \n",
    "\n",
    "The cluster is also running with a replication factor of 3. This means that for each tablet leader, there is are two tablet followers.\n",
    "\n",
    "Run the following cell to confirm this configuration:"
   ]
  },
  {
   "cell_type": "code",
   "execution_count": null,
   "metadata": {
    "vscode": {
     "languageId": "shellscript"
    }
   },
   "outputs": [],
   "source": [
    "%%bash -s \"$NB_YB_PATH_BIN\"  # Status of cluster with yb-ctl.\n",
    "YB_PATH=${1}\n",
    "cd $YB_PATH\n",
    "\n",
    "./yb-ctl status | grep -A 1 -B 1  \"Replication Factor\""
   ]
  },
  {
   "attachments": {},
   "cell_type": "markdown",
   "metadata": {},
   "source": [
    "Your cluster also is running with a global flag that automatically configures the number of tablets per node per table at `1`."
   ]
  },
  {
   "cell_type": "code",
   "execution_count": null,
   "metadata": {
    "vscode": {
     "languageId": "shellscript"
    }
   },
   "outputs": [],
   "source": [
    "%%bash -s \"$NB_HOST_IPv4_01\" \n",
    "HOST_IPv4=$( echo \"${1}\" | tr -d \" \")\n",
    "MY_URL=\"http://${HOST_IPv4}:7000/varz\"\n",
    "\n",
    "curl -s  ${MY_URL} | html2text | grep  yb_num_shards_per_tserver "
   ]
  },
  {
   "attachments": {},
   "cell_type": "markdown",
   "metadata": {},
   "source": [
    "This means that the table, `tbl_employees`, automatically has 3 tablet leaders (one for each cluster node) and 6 tablet followers (2 for each leader). "
   ]
  },
  {
   "attachments": {},
   "cell_type": "markdown",
   "metadata": {},
   "source": [
    "### DocDB, DocKey, and SubDocKey\n",
    "A tablet leader persists data to disk in two forms: as a Write Ahead Log (WAL) file and then as a Sorted Sequence Table (SST) file. The WAL file for a tablet leader replicates to the tablet followers in its tablet-peer, raft consensus group. At a configurable size, the WAL file flushes to disk and persists as a SST file. As a SST file grows, it will undergo compaction using a universal compaction strategy. By default, tablet data grows to about 100 GB in size before a tablet splits.\n",
    "\n",
    "The SST file stores row data in a particular schema for RocksDB. This schema for YugabyteDB is known as DocDB. It consists of a DocKey and document values.  A DocKey is made up of a partition key hash, a partition key value, and any cluster key values. Document values are sub-keys of the DocKey. A SubDocKey contains a column id, a hybrid-logical clock time, a write order, and the actual value. Here is an example:\n",
    "\n",
    "```\n",
    "SubDocKey(DocKey(0x0a73, [5], [\"Kara Zor-El\"]), [SystemColumnId(0); HT{ physical: 1672165185893549 }]) -> null\n",
    "SubDocKey(DocKey(0x0a73, [5], [\"Kara Zor-El\"]), [ColumnId(2); HT{ physical: 1672165185893549 w: 1 }]) -> \"supergirl@yb.com\"\n",
    "SubDocKey(DocKey(0x0a73, [5], [\"Kara Zor-El\"]), [ColumnId(3); HT{ physical: 1672165185893549 w: 2 }]) -> 2023\n",
    "```\n",
    "\n",
    "In this exercise, you will decode a SST file for a tablet leader for `tbl_employees`."
   ]
  },
  {
   "attachments": {},
   "cell_type": "markdown",
   "metadata": {},
   "source": [
    "#### Select a YB-TServer host\n",
    "<a id=\"select-a-yb-tserver-host-1\"> </a>\n",
    "Set the host variable for one of the nodes. All three nodes in the cluster are running a Tablet Server (YB-TServer). You can comment/uncomment lines 7-9 as needed."
   ]
  },
  {
   "cell_type": "code",
   "execution_count": null,
   "metadata": {
    "vscode": {
     "languageId": "shellscript"
    }
   },
   "outputs": [],
   "source": [
    "%%bash -s \"$NB_HOST_IPv4_01\" \"$NB_HOST_IPv4_02\" \"$NB_HOST_IPv4_03\" --out NB_HOST_IPv4\n",
    "HOST_IPv4_01=$( echo \"${1}\" | tr -d \" \")\n",
    "HOST_IPv4_02=$( echo \"${2}\" | tr -d \" \")\n",
    "HOST_IPv4_03=$( echo \"${3}\" | tr -d \" \")\n",
    "\n",
    "# change the hosts for different tablet leaders by commenting out a line and removing a comment for a line\n",
    "HOST_IPv4=$HOST_IPv4_01\n",
    "#NB_HOST_IPv4=$HOST_IPv4_02\n",
    "#NB_HOST_IPv4=$HOST_IPv4_03\n",
    "\n",
    "echo ${HOST_IPv4}"
   ]
  },
  {
   "attachments": {},
   "cell_type": "markdown",
   "metadata": {},
   "source": [
    "Store the select host variable."
   ]
  },
  {
   "cell_type": "code",
   "execution_count": null,
   "metadata": {},
   "outputs": [],
   "source": [
    "%store NB_HOST_IPv4\n",
    "print(NB_HOST_IPv4)"
   ]
  },
  {
   "attachments": {},
   "cell_type": "markdown",
   "metadata": {},
   "source": [
    "Save the table name as a variable."
   ]
  },
  {
   "cell_type": "code",
   "execution_count": null,
   "metadata": {},
   "outputs": [],
   "source": [
    "NB_OBJECT_NAME=\"tbl_employees\"\n",
    "%store NB_OBJECT_NAME\n",
    "print(NB_OBJECT_NAME)"
   ]
  },
  {
   "attachments": {},
   "cell_type": "markdown",
   "metadata": {},
   "source": [
    "Grep the Table_ID for the the table using `curl` and `jq`."
   ]
  },
  {
   "cell_type": "code",
   "execution_count": null,
   "metadata": {
    "vscode": {
     "languageId": "shellscript"
    }
   },
   "outputs": [],
   "source": [
    "%%bash -s \"$NB_OBJECT_NAME\" \"$NB_HOST_IPv4\"  \"$NB_DB_NAME\"  \"$NB_TSERVER_WEBSERVER_PORT\"  --out NB_TABLE_ID\n",
    "OBJECT_NAME=$( echo \"${1}\" | tr -d \" \")\n",
    "HOST_IPv4=$( echo \"${2}\" | tr -d \" \")\n",
    "DB_NAME=$( echo \"${3}\" | tr -d \" \")\n",
    "TSERVER_WEBSERVER_PORT=$( echo \"${4}\" | tr -d \" \")\n",
    "\n",
    "MY_URL=\"http://${HOST_IPv4}:${TSERVER_WEBSERVER_PORT}/metrics\"\n",
    "\n",
    "TABLE_ID=`curl -s --compressed ${MY_URL} | jq -r 'limit(1;  .[] | select(.attributes.namespace_name==\"'${DB_NAME}'\" and .type==\"tablet\" and .attributes.table_name==\"'${OBJECT_NAME}'\") |  .attributes.table_id) '`\n",
    "\n",
    "echo ${TABLE_ID}"
   ]
  },
  {
   "attachments": {},
   "cell_type": "markdown",
   "metadata": {},
   "source": [
    "Store the table_id for the table."
   ]
  },
  {
   "cell_type": "code",
   "execution_count": null,
   "metadata": {},
   "outputs": [],
   "source": [
    "%store NB_TABLE_ID\n",
    "print(NB_TABLE_ID)"
   ]
  },
  {
   "attachments": {},
   "cell_type": "markdown",
   "metadata": {},
   "source": [
    "Get the tablet_id for the tablet leader for the select node host."
   ]
  },
  {
   "cell_type": "code",
   "execution_count": null,
   "metadata": {
    "vscode": {
     "languageId": "shellscript"
    }
   },
   "outputs": [],
   "source": [
    "%%bash -s \"$NB_OBJECT_NAME\" \"$NB_HOST_IPv4\" --out NB_TABLET_ID\n",
    "OBJECT_NAME=$( echo \"${1}\" | tr -d \" \")\n",
    "HOST_IPv4=$( echo \"${2}\" | tr -d \" \")\n",
    "\n",
    "MY_URL=\"http://${HOST_IPv4}:8200/metrics\"\n",
    "\n",
    "TABLET_ID=`curl -s --compressed ${MY_URL} | jq --raw-output ' .[] | select(.attributes.namespace_name==\"ks_ybu\" and .type==\"tablet\" and .attributes.table_name==\"'$OBJECT_NAME'\") | {tablet_id: .id, metrics: .metrics[] | select(.name == (\"is_raft_leader\") ) | select(.value == 1) } | select(.tablet_id) | {tablet_id} | .tablet_id '`\n",
    "\n",
    "echo ${TABLET_ID}"
   ]
  },
  {
   "attachments": {},
   "cell_type": "markdown",
   "metadata": {},
   "source": [
    "Store the tablet_id for the tablet leader."
   ]
  },
  {
   "cell_type": "code",
   "execution_count": null,
   "metadata": {},
   "outputs": [],
   "source": [
    "%store NB_TABLET_ID\n",
    "print(NB_TABLET_ID)"
   ]
  },
  {
   "attachments": {},
   "cell_type": "markdown",
   "metadata": {},
   "source": [
    "Flush the WAL file to a SST file for the given table_id."
   ]
  },
  {
   "cell_type": "code",
   "execution_count": null,
   "metadata": {
    "vscode": {
     "languageId": "shellscript"
    }
   },
   "outputs": [],
   "source": [
    "%%bash -s \"$NB_YB_PATH_BIN\" \"$NB_HOST_IPv4\" \"$NB_TABLE_ID\"  # Import file path of Yugabyte and DB name\n",
    "YB_PATH=$( echo \"${1}\" | tr -d \" \")\n",
    "HOST_IPv4=$( echo \"${2}\" | tr -d \" \")\n",
    "TABLE_ID=$( echo \"${3}\" | tr -d \" \")\n",
    "cd $YB_PATH\n",
    "\n",
    "./yb-admin -init_master_addrs ${HOST_IPv4}:7100 flush_table_by_id ${TABLE_ID} 600"
   ]
  },
  {
   "attachments": {},
   "cell_type": "markdown",
   "metadata": {},
   "source": [
    "Dump and decode the SST file in human-readable form.\n",
    "\n",
    "> Note:\n",
    ">\n",
    "> If the following does dump the SST file, it is most likely that there are not any rows written to this tablet. To resolve this issue, you need to select a different Tablet Server host. \n",
    "> \n",
    "> Return back to [Select a YB-TServer host](#select-a-yb-tserver-host-1) and select a different node host by commenting out (add a `#` sign) to line 7 and uncomment out (remove the`#` sign) line 8 or line 9."
   ]
  },
  {
   "cell_type": "code",
   "execution_count": null,
   "metadata": {
    "vscode": {
     "languageId": "shellscript"
    }
   },
   "outputs": [],
   "source": [
    "%%bash -s \"$NB_YB_PATH_BIN\" \"$NB_YB_PATH_DATA\" \"$NB_TABLE_ID\" \"$NB_TABLET_ID\"  # Import file path of Yugabyte and DB name\n",
    "YB_PATH=$( echo \"${1}\" | tr -d \" \")\n",
    "YB_PATH_DATA=$( echo \"${2}\" | tr -d \" \")\n",
    "TABLE_ID=$( echo \"${3}\" | tr -d \" \")\n",
    "TABLET_ID=$( echo \"${4}\" | tr -d \" \")\n",
    "\n",
    "cd $YB_PATH/\n",
    "\n",
    "TABLE_ID_PATH=${YB_PATH_DATA}/node-1/disk-1/yb-data/tserver/data/rocksdb/table-${TABLE_ID}/tablet-${TABLET_ID}\n",
    "#ls -l  ${TABLE_ID_PATH}\n",
    "\n",
    "./sst_dump --command=scan --file=${TABLE_ID_PATH} --output_format=decoded_regulardb"
   ]
  },
  {
   "attachments": {},
   "cell_type": "markdown",
   "metadata": {},
   "source": [
    "---"
   ]
  },
  {
   "attachments": {},
   "cell_type": "markdown",
   "metadata": {},
   "source": [
    "## DML: Query with `select` \n",
    "Run the following cells to observe the differences between:\n",
    "- query all rows of the table \n",
    "- query the table with a where-expression that contains equality operators for all the columns in the primary key\n",
    "- query the table with a where-expression that is for a range for a regular, non-primary key column"
   ]
  },
  {
   "attachments": {},
   "cell_type": "markdown",
   "metadata": {},
   "source": [
    "Query all the rows from `tbl_employees` using a `select statement` and a wildcard."
   ]
  },
  {
   "cell_type": "code",
   "execution_count": null,
   "metadata": {
    "vscode": {
     "languageId": "shellscript"
    }
   },
   "outputs": [],
   "source": [
    "%%bash -s \"$NB_YB_PATH_BIN\"  \"$NB_DB_NAME\"  # Query wildcard all rows\n",
    "YB_PATH=${1}\n",
    "DB_NAME=${2}\n",
    "cd $YB_PATH\n",
    "\n",
    "# DB_NAME=ks_ybu\n",
    "./ycqlsh -r -k $DB_NAME -e \"\n",
    "  select * from tbl_employees;\n",
    "\""
   ]
  },
  {
   "attachments": {},
   "cell_type": "markdown",
   "metadata": {},
   "source": [
    "Query the table with a where-expression that contains equality operators for all the columns in the primary key."
   ]
  },
  {
   "cell_type": "code",
   "execution_count": null,
   "metadata": {
    "vscode": {
     "languageId": "shellscript"
    }
   },
   "outputs": [],
   "source": [
    "%%bash -s \"$NB_YB_PATH_BIN\"  \"$NB_DB_NAME\"  # query by PK\n",
    "YB_PATH=${1}\n",
    "DB_NAME=${2}\n",
    "cd $YB_PATH\n",
    "\n",
    "# DB_NAME=ks_ybu\n",
    "./ycqlsh -r -k $DB_NAME -e \"\n",
    "  select * from tbl_employees\n",
    "  where id = 2 and full_name='Dick Grayson';\n",
    "\""
   ]
  },
  {
   "attachments": {},
   "cell_type": "markdown",
   "metadata": {},
   "source": [
    "Query the table with a where-expression that is for a range for a regular, non-primary key column."
   ]
  },
  {
   "cell_type": "code",
   "execution_count": null,
   "metadata": {
    "vscode": {
     "languageId": "shellscript"
    }
   },
   "outputs": [],
   "source": [
    "%%bash -s \"$NB_YB_PATH_BIN\"  \"$NB_DB_NAME\"  # Query by range\n",
    "YB_PATH=${1}\n",
    "DB_NAME=${2}\n",
    "cd $YB_PATH\n",
    "\n",
    "# DB_NAME=ks_ybu\n",
    "./ycqlsh -r -k $DB_NAME -e \"\n",
    "  select * from tbl_employees \n",
    "  where year > 2020 and year < 2023;\n",
    "\""
   ]
  },
  {
   "attachments": {},
   "cell_type": "markdown",
   "metadata": {},
   "source": [
    "---\n",
    "## DML: Modify with  `update`\n",
    "You can easily update a column value for a primary key value with an `update` statement. To begin, first confirm the content of the row with a `select` query."
   ]
  },
  {
   "cell_type": "code",
   "execution_count": null,
   "metadata": {
    "vscode": {
     "languageId": "shellscript"
    }
   },
   "outputs": [],
   "source": [
    "%%bash -s \"$NB_YB_PATH_BIN\"  \"$NB_DB_NAME\"  # Query by  id\n",
    "YB_PATH=${1}\n",
    "DB_NAME=${2}\n",
    "cd $YB_PATH\n",
    "\n",
    "# DB_NAME=ks_ybu\n",
    "./ycqlsh -r -k $DB_NAME -e \"\n",
    "  select * from tbl_employees where id = 2;\n",
    "  \""
   ]
  },
  {
   "attachments": {},
   "cell_type": "markdown",
   "metadata": {},
   "source": [
    "Execute the `update` statement."
   ]
  },
  {
   "cell_type": "code",
   "execution_count": null,
   "metadata": {
    "vscode": {
     "languageId": "shellscript"
    }
   },
   "outputs": [],
   "source": [
    "%%bash -s \"$NB_YB_PATH_BIN\"  \"$NB_DB_NAME\"  # Update a column value for a primary key\n",
    "YB_PATH=${1}\n",
    "DB_NAME=${2}\n",
    "cd $YB_PATH\n",
    "\n",
    "# DB_NAME=ks_ybu\n",
    "./ycqlsh -r -k $DB_NAME -e \"\n",
    "  update tbl_employees\n",
    "   set email='robin@yb.com'\n",
    "     , year =2020\n",
    "  where id = 2\n",
    "    and full_name = 'Dick Grayson';\n",
    "\""
   ]
  },
  {
   "attachments": {},
   "cell_type": "markdown",
   "metadata": {},
   "source": [
    "Confirm the change."
   ]
  },
  {
   "cell_type": "code",
   "execution_count": null,
   "metadata": {
    "vscode": {
     "languageId": "shellscript"
    }
   },
   "outputs": [],
   "source": [
    "%%bash -s \"$NB_YB_PATH_BIN\"  \"$NB_DB_NAME\"  # Query by id\n",
    "YB_PATH=${1}\n",
    "DB_NAME=${2}\n",
    "cd $YB_PATH\n",
    "\n",
    "# DB_NAME=ks_ybu\n",
    "./ycqlsh -r -k $DB_NAME -e \"\n",
    "  select * from tbl_employees where id = 2;\n",
    "\""
   ]
  },
  {
   "attachments": {},
   "cell_type": "markdown",
   "metadata": {},
   "source": [
    "---\n",
    "## DML: Upsert with `update`\n",
    "The following `update` statement exhibits upsert behavior when there is no row to update based on the where clause predicate. As a result, the `update`  statement  will insert a new row into the table."
   ]
  },
  {
   "cell_type": "code",
   "execution_count": null,
   "metadata": {
    "vscode": {
     "languageId": "shellscript"
    }
   },
   "outputs": [],
   "source": [
    "%%bash -s \"$NB_YB_PATH_BIN\"  \"$NB_DB_NAME\"  # Upsert with update\n",
    "YB_PATH=${1}\n",
    "DB_NAME=${2}\n",
    "cd $YB_PATH\n",
    "\n",
    "# DB_NAME=ks_ybu\n",
    "./ycqlsh -r -k $DB_NAME -e \"\n",
    "  update tbl_employees\n",
    "    set email='captainamerica@yb.com'\n",
    "      , year = 2022\n",
    "  where id = 12\n",
    "    and full_name = 'Steven Rogers';\n",
    "\""
   ]
  },
  {
   "attachments": {},
   "cell_type": "markdown",
   "metadata": {},
   "source": [
    "Confirm the new row."
   ]
  },
  {
   "cell_type": "code",
   "execution_count": null,
   "metadata": {
    "vscode": {
     "languageId": "shellscript"
    }
   },
   "outputs": [],
   "source": [
    "%%bash -s \"$NB_YB_PATH_BIN\"  \"$NB_DB_NAME\"  # Query by id\n",
    "YB_PATH=${1}\n",
    "DB_NAME=${2}\n",
    "cd $YB_PATH\n",
    "\n",
    "# DB_NAME=ks_ybu\n",
    "./ycqlsh -r -k $DB_NAME -e \"\n",
    "  select * from tbl_employees \n",
    "  where id = 12;\n",
    "\""
   ]
  },
  {
   "attachments": {},
   "cell_type": "markdown",
   "metadata": {},
   "source": [
    "---\n",
    "## DML: Deletions with `delete`\n",
    "There are various actions you can take using `delete` statements such as:\n",
    "- single-row deletion\n",
    "- multi-row deletion\n",
    "- column value deletion"
   ]
  },
  {
   "attachments": {},
   "cell_type": "markdown",
   "metadata": {},
   "source": [
    "### Single-row deletion\n",
    "You can delete a single row by with a `delete` statement. You must specify equality operators for the columns of the primary key in the where clause."
   ]
  },
  {
   "cell_type": "code",
   "execution_count": null,
   "metadata": {
    "vscode": {
     "languageId": "shellscript"
    }
   },
   "outputs": [],
   "source": [
    "%%bash -s \"$NB_YB_PATH_BIN\"  \"$NB_DB_NAME\"  # Delete by pk\n",
    "YB_PATH=${1}\n",
    "DB_NAME=${2}\n",
    "cd $YB_PATH\n",
    "\n",
    "# DB_NAME=ks_ybu\n",
    "./ycqlsh -r -k $DB_NAME -e \"\n",
    "  delete from tbl_employees \n",
    "  where id = 12\n",
    "    and full_name = 'Steven Rogers';\n",
    "\""
   ]
  },
  {
   "attachments": {},
   "cell_type": "markdown",
   "metadata": {},
   "source": [
    "Confirm the row deletion."
   ]
  },
  {
   "cell_type": "code",
   "execution_count": null,
   "metadata": {
    "vscode": {
     "languageId": "shellscript"
    }
   },
   "outputs": [],
   "source": [
    "%%bash -s \"$NB_YB_PATH_BIN\"  \"$NB_DB_NAME\"  # Query for id\n",
    "YB_PATH=${1}\n",
    "DB_NAME=${2}\n",
    "cd $YB_PATH\n",
    "\n",
    "# DB_NAME=ks_ybu\n",
    "./ycqlsh -r -k $DB_NAME -e \"\n",
    "  select * from tbl_employees \n",
    "  where id = 12;\n",
    "\""
   ]
  },
  {
   "attachments": {},
   "cell_type": "markdown",
   "metadata": {},
   "source": [
    "### Multi-row deletion\n",
    "You can delete multiple rows that hae the same partition key. To begin, first insert another row so that there are two rows with the same partition key value, `id=2`."
   ]
  },
  {
   "cell_type": "code",
   "execution_count": null,
   "metadata": {
    "vscode": {
     "languageId": "shellscript"
    }
   },
   "outputs": [],
   "source": [
    "%%bash -s \"$NB_YB_PATH_BIN\"  \"$NB_DB_NAME\"  # insert if not exists\n",
    "YB_PATH=${1}\n",
    "DB_NAME=${2}\n",
    "cd $YB_PATH\n",
    "\n",
    "# DB_NAME=ks_ybu\n",
    "./ycqlsh -r -k $DB_NAME -e \"\n",
    "  insert into tbl_employees (id, full_name, email, year) values (2, 'Richard Grayson', 'nightwingc@yb.com', 2022) if not exists;\n",
    "\""
   ]
  },
  {
   "attachments": {},
   "cell_type": "markdown",
   "metadata": {},
   "source": [
    "Next, verify that there are two rows."
   ]
  },
  {
   "cell_type": "code",
   "execution_count": null,
   "metadata": {
    "vscode": {
     "languageId": "shellscript"
    }
   },
   "outputs": [],
   "source": [
    "%%bash -s \"$NB_YB_PATH_BIN\"  \"$NB_DB_NAME\"  # Query for id\n",
    "YB_PATH=${1}\n",
    "DB_NAME=${2}\n",
    "cd $YB_PATH\n",
    "\n",
    "# DB_NAME=ks_ybu\n",
    "./ycqlsh -r -k $DB_NAME -e \"\n",
    "  select * from tbl_employees \n",
    "  where id = 2;\n",
    "\""
   ]
  },
  {
   "attachments": {},
   "cell_type": "markdown",
   "metadata": {},
   "source": [
    "Now, delete the two rows."
   ]
  },
  {
   "cell_type": "code",
   "execution_count": null,
   "metadata": {
    "vscode": {
     "languageId": "shellscript"
    }
   },
   "outputs": [],
   "source": [
    "%%bash -s \"$NB_YB_PATH_BIN\"  \"$NB_DB_NAME\"  # delete multiple rows using the partition key\n",
    "YB_PATH=${1}\n",
    "DB_NAME=${2}\n",
    "cd $YB_PATH\n",
    "\n",
    "# DB_NAME=ks_ybu\n",
    "./ycqlsh -r -k $DB_NAME -e \"\n",
    "  delete from tbl_employees \n",
    "  where id = 2;\n",
    "\""
   ]
  },
  {
   "attachments": {},
   "cell_type": "markdown",
   "metadata": {},
   "source": [
    "Verify the row deletion."
   ]
  },
  {
   "cell_type": "code",
   "execution_count": null,
   "metadata": {
    "vscode": {
     "languageId": "shellscript"
    }
   },
   "outputs": [],
   "source": [
    "%%bash -s \"$NB_YB_PATH_BIN\"  \"$NB_DB_NAME\"  # Query for id\n",
    "YB_PATH=${1}\n",
    "DB_NAME=${2}\n",
    "cd $YB_PATH\n",
    "\n",
    "# DB_NAME=ks_ybu\n",
    "./ycqlsh -r -k $DB_NAME -e \"\n",
    "  select * from tbl_employees \n",
    "  where id = 2;\n",
    "\""
   ]
  },
  {
   "attachments": {},
   "cell_type": "markdown",
   "metadata": {},
   "source": [
    "### Column value deletion\n",
    "A `delete` statement must give the entire primary key if specifying non-static columns. In following cell, `year` is a regular column."
   ]
  },
  {
   "cell_type": "code",
   "execution_count": null,
   "metadata": {
    "vscode": {
     "languageId": "shellscript"
    }
   },
   "outputs": [],
   "source": [
    "%%bash -s \"$NB_YB_PATH_BIN\"  \"$NB_DB_NAME\"  # delete a column value for a primary key\n",
    "YB_PATH=${1}\n",
    "DB_NAME=${2}\n",
    "cd $YB_PATH\n",
    "\n",
    "# DB_NAME=ks_ybu\n",
    "./ycqlsh -r -k $DB_NAME -e \"\n",
    "  delete year from tbl_employees\n",
    "  where id = 11\n",
    "    and full_name = 'Michael Holt';\n",
    "\""
   ]
  },
  {
   "attachments": {},
   "cell_type": "markdown",
   "metadata": {},
   "source": [
    "Confirm the deletion of year value from the row."
   ]
  },
  {
   "cell_type": "code",
   "execution_count": null,
   "metadata": {
    "vscode": {
     "languageId": "shellscript"
    }
   },
   "outputs": [],
   "source": [
    "%%bash -s \"$NB_YB_PATH_BIN\"  \"$NB_DB_NAME\"  # Query for id\n",
    "YB_PATH=${1}\n",
    "DB_NAME=${2}\n",
    "cd $YB_PATH\n",
    "\n",
    "# DB_NAME=ks_ybu\n",
    "./ycqlsh -r -k $DB_NAME -e \"\n",
    "  select * from tbl_employees \n",
    "  where id = 11;\n",
    "\""
   ]
  },
  {
   "attachments": {},
   "cell_type": "markdown",
   "metadata": {},
   "source": [
    "## DDL: Advanced data types\n",
    "As a semi-relational database, YCQL stores relational data using advanced data types. YCQL offers a variety of advanced data types such as collections, user-defined data types, and JSONB.\n",
    "\n",
    "### Collections\n",
    "Collections are advanced data types that describe relational data for the table entity. There are three types of collections in YCQL: \n",
    "- list\n",
    "- map\n",
    "- set\n",
    "\n",
    "A list is similar to an array data structure. All elements in a list must be of the same primitive type. \n",
    "\n",
    "A map is a sorted collection of key-value pairs where the key and value elements each have a data type, and the values of the key element determine the sort order. \n",
    "\n",
    "A set is a sorted collection of elements.\n",
    "\n",
    "In general, collections are for storing small sets of values that are not expected to grow to arbitrary size. A good example of a collection are the phone numbers or mail addresses for a contact. A poor example of a collection are message posts for individual users in a discussion forum. In this regard, a large collection may have a significant, negative impact on performance for related queries. For example, some list operations require a read-before-write access pattern such as inserting an element into a list at a particular index.\n",
    "\n",
    "> 📝 Note\n",
    ">\n",
    "> Collections have usage restrictions. A collection cannot be part of a primary key unless frozen. A collection cannot be part of a secondary index. A collection cannot be referenced in a where expression.  Empty collections are treated as null values and collections cannot be nested."
   ]
  },
  {
   "attachments": {},
   "cell_type": "markdown",
   "metadata": {},
   "source": [
    "#### list\n",
    "A list is similar to an array data structure. All elements in a list must be of the same primitive type. \n",
    "\n",
    "Run the following cell to alter the employees table so as to add a list of authorized offices."
   ]
  },
  {
   "cell_type": "code",
   "execution_count": null,
   "metadata": {
    "vscode": {
     "languageId": "shellscript"
    }
   },
   "outputs": [],
   "source": [
    "%%bash -s \"$NB_YB_PATH_BIN\"  \"$NB_DB_NAME\"  # alter the table, first drop , then add\n",
    "YB_PATH=${1}\n",
    "DB_NAME=${2}\n",
    "cd $YB_PATH\n",
    "\n",
    "# DB_NAME=ks_ybu, drop\n",
    "./ycqlsh -r -k $DB_NAME -e \"\n",
    "  alter table tbl_employees \n",
    "  drop authorized_offices;\n",
    "\"\n",
    "\n",
    "sleep 1;\n",
    "\n",
    "# DB_NAME=ks_ybu, add\n",
    "./ycqlsh -r -k $DB_NAME -e \"\n",
    "  alter table tbl_employees \n",
    "  add authorized_offices LIST<TEXT>\n",
    "  ;\n",
    "\""
   ]
  },
  {
   "attachments": {},
   "cell_type": "markdown",
   "metadata": {},
   "source": [
    "> You can ignore the initial error from the preceding cell. It is related to the drop column.\n",
    "\n",
    "Next, update the table with the array list."
   ]
  },
  {
   "cell_type": "code",
   "execution_count": null,
   "metadata": {
    "vscode": {
     "languageId": "shellscript"
    }
   },
   "outputs": [],
   "source": [
    "%%bash -s \"$NB_YB_PATH_BIN\"  \"$NB_DB_NAME\"  # update\n",
    "YB_PATH=${1}\n",
    "DB_NAME=${2}\n",
    "cd $YB_PATH\n",
    "\n",
    "# DB_NAME=ks_ybu\n",
    "./ycqlsh -r -k $DB_NAME -e \"\n",
    "  update tbl_employees\n",
    "  set authorized_offices = ['Sunnyvale', 'Boston', 'Singapore', 'Tokyo', 'Banglore', 'Gothom']\n",
    "  where id = 1\n",
    "    and full_name = 'Bruce Wayne';\n",
    "  ;\n",
    "\""
   ]
  },
  {
   "attachments": {},
   "cell_type": "markdown",
   "metadata": {},
   "source": [
    "Confirm the update."
   ]
  },
  {
   "cell_type": "code",
   "execution_count": null,
   "metadata": {
    "vscode": {
     "languageId": "shellscript"
    }
   },
   "outputs": [],
   "source": [
    "%%bash -s \"$NB_YB_PATH_BIN\"  \"$NB_DB_NAME\"  # Query for list and index ordinal\n",
    "YB_PATH=${1}\n",
    "DB_NAME=${2}\n",
    "cd $YB_PATH\n",
    "\n",
    "# DB_NAME=ks_ybu\n",
    "./ycqlsh -r -k $DB_NAME -e \"\n",
    "  select id,\n",
    "    full_name, \n",
    "    authorized_offices,\n",
    "    authorized_offices[0] as primary_office\n",
    "  from tbl_employees\n",
    "  where id = 1\n",
    "    and full_name = 'Bruce Wayne';\n",
    "  ;\n",
    "\""
   ]
  },
  {
   "attachments": {},
   "cell_type": "markdown",
   "metadata": {},
   "source": [
    "> 🤔 Question:\n",
    ">\n",
    "> Is the array of authorized offices sorted?\n",
    ">\n",
    "> 🙋 Answer:\n",
    ">\n",
    "> No. The ordering of the elements of the array are in their original order.\n",
    ">\n",
    "> 🤔 Question:\n",
    ">\n",
    "> Does a list support an array index?\n",
    ">\n",
    "> 🙋 Answer:\n",
    ">\n",
    "> Yes, you can use an array index to query a specific element."
   ]
  },
  {
   "attachments": {},
   "cell_type": "markdown",
   "metadata": {},
   "source": [
    "#### set\n",
    "A set is a sorted collection of elements. \n",
    "\n",
    "Run the following cell to alter the employees table so as to add an sorted collection of authorized offices."
   ]
  },
  {
   "cell_type": "code",
   "execution_count": null,
   "metadata": {
    "vscode": {
     "languageId": "shellscript"
    }
   },
   "outputs": [],
   "source": [
    "%%bash -s \"$NB_YB_PATH_BIN\"  \"$NB_DB_NAME\"  # alter the table, first drop , then add\n",
    "YB_PATH=${1}\n",
    "DB_NAME=${2}\n",
    "cd $YB_PATH\n",
    "\n",
    "# DB_NAME=ks_ybu, drop\n",
    "./ycqlsh -r -k $DB_NAME -e \"\n",
    "  alter table tbl_employees \n",
    "  drop authorized_offices\n",
    "  ;\n",
    "\"\n",
    "\n",
    "sleep 1;\n",
    "# DB_NAME=ks_ybu, add\n",
    "./ycqlsh -r -k $DB_NAME -e \"\n",
    "  alter table tbl_employees \n",
    "  add authorized_offices SET<TEXT>\n",
    "  ;\n",
    "\""
   ]
  },
  {
   "attachments": {},
   "cell_type": "markdown",
   "metadata": {},
   "source": [
    "> You can ignore the initial error from the preceding cell. It is related to the drop column.\n",
    "\n",
    "Next, update the table with the set of values."
   ]
  },
  {
   "cell_type": "code",
   "execution_count": null,
   "metadata": {
    "vscode": {
     "languageId": "shellscript"
    }
   },
   "outputs": [],
   "source": [
    "%%bash -s \"$NB_YB_PATH_BIN\"  \"$NB_DB_NAME\"  # update\n",
    "YB_PATH=${1}\n",
    "DB_NAME=${2}\n",
    "cd $YB_PATH\n",
    "\n",
    "# DB_NAME=ks_ybu\n",
    "./ycqlsh -r -k $DB_NAME -e \"\n",
    "  update tbl_employees\n",
    "  set authorized_offices = {'Sunnyvale', 'Boston', 'Singapore', 'Tokyo', 'Banglore', 'Gothom'}\n",
    "  where id = 1\n",
    "    and full_name = 'Bruce Wayne';\n",
    "  ;\n",
    "\""
   ]
  },
  {
   "attachments": {},
   "cell_type": "markdown",
   "metadata": {},
   "source": [
    "Confirm the update."
   ]
  },
  {
   "cell_type": "code",
   "execution_count": null,
   "metadata": {
    "vscode": {
     "languageId": "shellscript"
    }
   },
   "outputs": [],
   "source": [
    "%%bash -s \"$NB_YB_PATH_BIN\"  \"$NB_DB_NAME\"  # Query for id\n",
    "YB_PATH=${1}\n",
    "DB_NAME=${2}\n",
    "cd $YB_PATH\n",
    "\n",
    "# DB_NAME=ks_ybu\n",
    "./ycqlsh -r -k $DB_NAME -e \"\n",
    "  select id,\n",
    "   full_name, \n",
    "   authorized_offices\n",
    " -- , authorized_offices[0] as first_office\n",
    "  from tbl_employees\n",
    "  where id = 1\n",
    "    and full_name = 'Bruce Wayne';\n",
    "  ;\n",
    "\""
   ]
  },
  {
   "attachments": {},
   "cell_type": "markdown",
   "metadata": {},
   "source": [
    "> 🤔 Question:\n",
    ">\n",
    "> Is the array of authorized offices sorted?\n",
    ">\n",
    "> 🙋 Answer:\n",
    ">\n",
    "> Yes. The elements of the array set are now sorted.\n",
    ">\n",
    "> 🤔 Question:\n",
    ">\n",
    "> Does a set support an array index?\n",
    ">\n",
    "> 🙋 Answer:\n",
    ">\n",
    "> No. A set collection does not support an index to query a specific element."
   ]
  },
  {
   "attachments": {},
   "cell_type": "markdown",
   "metadata": {},
   "source": [
    "#### map\n",
    "A map is a sorted collection of key-value pairs where the key and value elements each have a data type, and the values of the key element determine the sort order. \n",
    "\n",
    "\n",
    "Run the following cell to alter the employees table so as to add a map of roles."
   ]
  },
  {
   "cell_type": "code",
   "execution_count": null,
   "metadata": {
    "vscode": {
     "languageId": "shellscript"
    }
   },
   "outputs": [],
   "source": [
    "%%bash -s \"$NB_YB_PATH_BIN\"  \"$NB_DB_NAME\"  # Query for id\n",
    "YB_PATH=${1}\n",
    "DB_NAME=${2}\n",
    "cd $YB_PATH\n",
    "\n",
    "# DB_NAME=ks_ybu\n",
    "./ycqlsh -r -k $DB_NAME -e \"\n",
    "  alter table tbl_employees \n",
    "  add roles MAP<TEXT,TEXT>\n",
    "  ;\n",
    "\""
   ]
  },
  {
   "attachments": {},
   "cell_type": "markdown",
   "metadata": {},
   "source": [
    "Next, update the table with the map of key-values."
   ]
  },
  {
   "cell_type": "code",
   "execution_count": null,
   "metadata": {
    "vscode": {
     "languageId": "shellscript"
    }
   },
   "outputs": [],
   "source": [
    "%%bash -s \"$NB_YB_PATH_BIN\"  \"$NB_DB_NAME\"  # Query for id\n",
    "YB_PATH=${1}\n",
    "DB_NAME=${2}\n",
    "cd $YB_PATH\n",
    "\n",
    "# DB_NAME=ks_ybu\n",
    "./ycqlsh -r -k $DB_NAME -e \"\n",
    "update tbl_employees\n",
    "  set roles = {'role_security' : 'all', 'role_admin' : 'revoke_only'}\n",
    "  where id = 1\n",
    "    and full_name = 'Bruce Wayne';\n",
    "  ;\n",
    "\""
   ]
  },
  {
   "attachments": {},
   "cell_type": "markdown",
   "metadata": {},
   "source": [
    "Confirm the update and query for a specific key value."
   ]
  },
  {
   "cell_type": "code",
   "execution_count": null,
   "metadata": {
    "vscode": {
     "languageId": "shellscript"
    }
   },
   "outputs": [],
   "source": [
    "%%bash -s \"$NB_YB_PATH_BIN\"  \"$NB_DB_NAME\"  # Query for id\n",
    "YB_PATH=${1}\n",
    "DB_NAME=${2}\n",
    "cd $YB_PATH\n",
    "\n",
    "# DB_NAME=ks_ybu\n",
    "./ycqlsh -r -k $DB_NAME -e \"\n",
    "  select \n",
    "    id, \n",
    "    full_name, \n",
    "    roles,\n",
    "    roles['role_admin'] as key_value\n",
    "  from tbl_employees\n",
    "  where id = 1\n",
    "    and full_name = 'Bruce Wayne';\n",
    "  ;\n",
    "\""
   ]
  },
  {
   "attachments": {},
   "cell_type": "markdown",
   "metadata": {},
   "source": [
    "#### Frozen collection\n",
    "A frozen collection cannot have its elements added, updated, or removed. Only by overwriting the collection itself, can a frozen collection be changed. A column whose type is frozen can only have its value replaced as a whole.\n",
    "\n",
    " Data types that can be frozen include collections such as maps, sets, or lists, and user defined types. A user defined type is a data type that allows you to extend available data types into customized data types. \n",
    " \n",
    " >📝 Note\n",
    " >\n",
    " > Columns of type frozen can be part of the primary key.\n",
    "\n",
    "\n",
    "To begin, run the following cell to create a list collection for employees named `previous_employers`."
   ]
  },
  {
   "cell_type": "code",
   "execution_count": null,
   "metadata": {
    "vscode": {
     "languageId": "shellscript"
    }
   },
   "outputs": [],
   "source": [
    "%%bash -s \"$NB_YB_PATH_BIN\"  \"$NB_DB_NAME\"  # frozen collection alter\n",
    "YB_PATH=${1}\n",
    "DB_NAME=${2}\n",
    "cd $YB_PATH\n",
    "\n",
    "\n",
    "# DB_NAME=ks_ybu\n",
    "./ycqlsh -r -k $DB_NAME -e \"\n",
    "  alter table tbl_employees \n",
    "  drop previous_employers;\n",
    "\"\n",
    "\n",
    "# DB_NAME=ks_ybu\n",
    "./ycqlsh -r -k $DB_NAME -e \"\n",
    "  alter table tbl_employees \n",
    "  add previous_employers list<TEXT>;\n",
    "\""
   ]
  },
  {
   "attachments": {},
   "cell_type": "markdown",
   "metadata": {},
   "source": [
    "> You can ignore the initial error from the preceding cell. It is related to the drop column.\n",
    "\n",
    "Insert a row with into the table."
   ]
  },
  {
   "cell_type": "code",
   "execution_count": null,
   "metadata": {
    "vscode": {
     "languageId": "shellscript"
    }
   },
   "outputs": [],
   "source": [
    "  %%bash -s \"$NB_YB_PATH_BIN\"  \"$NB_DB_NAME\"  # frozen collection insert\n",
    "YB_PATH=${1}\n",
    "DB_NAME=${2}\n",
    "cd $YB_PATH\n",
    "\n",
    "# DB_NAME=ks_ybu\n",
    "./ycqlsh -r -k $DB_NAME -e \"\n",
    "  insert into tbl_employees (id, full_name, email, year, previous_employers) values (100, 'Barry Allen', 'theflash@yb.com', 2023, ['Airforce','Army','Marines','Navy']);\n",
    "\""
   ]
  },
  {
   "attachments": {},
   "cell_type": "markdown",
   "metadata": {},
   "source": [
    "Update the first element in the list."
   ]
  },
  {
   "cell_type": "code",
   "execution_count": null,
   "metadata": {
    "vscode": {
     "languageId": "shellscript"
    }
   },
   "outputs": [],
   "source": [
    "%%bash -s \"$NB_YB_PATH_BIN\"  \"$NB_DB_NAME\"  # frozen collection update\n",
    "YB_PATH=${1}\n",
    "DB_NAME=${2}\n",
    "cd $YB_PATH\n",
    "\n",
    "# DB_NAME=ks_ybu\n",
    "./ycqlsh -r -k $DB_NAME -e \"\n",
    "  update tbl_employees\n",
    "  set previous_employers[0] = 'Justice League'\n",
    "  where id = 100\n",
    "    and full_name = 'Barry Allen';\n",
    "\""
   ]
  },
  {
   "attachments": {},
   "cell_type": "markdown",
   "metadata": {},
   "source": [
    "Query to see the change from `Airforce` to `Justice Leauge`."
   ]
  },
  {
   "cell_type": "code",
   "execution_count": null,
   "metadata": {
    "vscode": {
     "languageId": "shellscript"
    }
   },
   "outputs": [],
   "source": [
    "%%bash -s \"$NB_YB_PATH_BIN\"  \"$NB_DB_NAME\"  # frozen collection update\n",
    "YB_PATH=${1}\n",
    "DB_NAME=${2}\n",
    "cd $YB_PATH\n",
    "\n",
    "# DB_NAME=ks_ybu\n",
    "./ycqlsh -r -k $DB_NAME -e \"\n",
    "  select id, full_name, email, year,  previous_employers\n",
    "  from tbl_employees\n",
    "  where id = 100\n",
    "    and full_name = 'Barry Allen';\n",
    "\""
   ]
  },
  {
   "attachments": {},
   "cell_type": "markdown",
   "metadata": {},
   "source": [
    "The update to the list collection was successful. \n",
    "\n",
    "To change this behavior, you can alter the DDL for the table to use a frozen collection."
   ]
  },
  {
   "cell_type": "code",
   "execution_count": null,
   "metadata": {
    "vscode": {
     "languageId": "shellscript"
    }
   },
   "outputs": [],
   "source": [
    "%%bash -s \"$NB_YB_PATH_BIN\"  \"$NB_DB_NAME\"  # frozen collection alter\n",
    "YB_PATH=${1}\n",
    "DB_NAME=${2}\n",
    "cd $YB_PATH\n",
    "\n",
    "# DB_NAME=ks_ybu\n",
    "./ycqlsh -r -k $DB_NAME -e \"\n",
    "  alter table tbl_employees \n",
    "  drop previous_employers;\n",
    "  \"\n",
    "  \n",
    "sleep 1;\n",
    "\n",
    "# DB_NAME=ks_ybu\n",
    "./ycqlsh -r -k $DB_NAME -e \"\n",
    "  alter table tbl_employees \n",
    "  add previous_employers frozen<list<TEXT>>;\n",
    "\""
   ]
  },
  {
   "attachments": {},
   "cell_type": "markdown",
   "metadata": {},
   "source": [
    "Insert a row into the table."
   ]
  },
  {
   "cell_type": "code",
   "execution_count": null,
   "metadata": {
    "vscode": {
     "languageId": "shellscript"
    }
   },
   "outputs": [],
   "source": [
    "  %%bash -s \"$NB_YB_PATH_BIN\"  \"$NB_DB_NAME\"  # frozen collection insert\n",
    "YB_PATH=${1}\n",
    "DB_NAME=${2}\n",
    "cd $YB_PATH\n",
    "\n",
    "# DB_NAME=ks_ybu\n",
    "./ycqlsh -r -k $DB_NAME -e \"\n",
    "  insert into tbl_employees (id, full_name, email, year, previous_employers) values (101, 'Barry Allen', 'theflash@yb.com', 2023, ['Airforce','Army','Marines','Navy']);\n",
    "\""
   ]
  },
  {
   "attachments": {},
   "cell_type": "markdown",
   "metadata": {},
   "source": [
    "Attempt to modify the first element in the frozen list. This will result in an exception in the an output cell."
   ]
  },
  {
   "cell_type": "code",
   "execution_count": null,
   "metadata": {
    "vscode": {
     "languageId": "shellscript"
    }
   },
   "outputs": [],
   "source": [
    "%%bash -s \"$NB_YB_PATH_BIN\"  \"$NB_DB_NAME\"  # frozen collection update, throw exception\n",
    "YB_PATH=${1}\n",
    "DB_NAME=${2}\n",
    "cd $YB_PATH\n",
    "\n",
    "# DB_NAME=ks_ybu\n",
    "./ycqlsh -r -k $DB_NAME -e \"\n",
    "  update tbl_employees\n",
    "  set previous_employers[0] = 'Justice League'\n",
    "  where id = 101\n",
    "    and full_name = 'Barry Allen';\n",
    "\""
   ]
  },
  {
   "attachments": {},
   "cell_type": "markdown",
   "metadata": {},
   "source": [
    "```<stdin>:1:SyntaxException: Invalid CQL Statement. Columns with elementary types cannot take arguments\n",
    "update tbl_employees\n",
    "  set previous_employers[0] = 'Justice League'\n",
    "   ^^^^^^^^^^^^^^^^^^^\n",
    "  where id = 101\n",
    "    and full_name = 'Barry Allen';\n",
    " (ql error -12)\n",
    " ```\n",
    "\n",
    " This is the exception thrown by the attempted update of a value in a frozen collection."
   ]
  },
  {
   "attachments": {},
   "cell_type": "markdown",
   "metadata": {},
   "source": [
    "---\n",
    "## Time to Live (TTL)\n",
    "Time to live or TTL is a data expiration property used to remove data that is time sensitive, private, or deprecated. An example use-case for TTL is an authorization application. After the new user creation. the application can only query the user data for 1 hours. After 3,600 seconds, the data is no longer available for the application to read.\n",
    "\n",
    "The TTL property can be set as a \n",
    "- table property\n",
    "- column property\n",
    "- row property\n",
    "\n",
    "\n",
    "> 📝 Note\n",
    "> \n",
    "> It is important to note that a table with transactions enabled does not support TTL."
   ]
  },
  {
   "attachments": {},
   "cell_type": "markdown",
   "metadata": {},
   "source": [
    "### DDL: TTL as a table property\n",
    "For all rows in a table, you can define a default time to live property. The property expires data systematically. The default value is `0` for zero seconds.\n",
    "\n",
    "First, review the DDL of the employees table."
   ]
  },
  {
   "cell_type": "code",
   "execution_count": null,
   "metadata": {
    "vscode": {
     "languageId": "shellscript"
    }
   },
   "outputs": [],
   "source": [
    "%%bash -s \"$NB_YB_PATH_BIN\"  \"$NB_DB_NAME\"  # describe table\n",
    "YB_PATH=${1}\n",
    "DB_NAME=${2}\n",
    "cd $YB_PATH\n",
    "\n",
    "# DB_NAME=ks_ybu\n",
    "./ycqlsh -r -k $DB_NAME -e \"\n",
    "  desc tbl_employees;\n",
    "\""
   ]
  },
  {
   "attachments": {},
   "cell_type": "markdown",
   "metadata": {},
   "source": [
    "Alter the table to modify the value of the  `default_time_to_live` property to `15` seconds.\n",
    "\n",
    "> ⚠️ Warning \n",
    ">\n",
    "> This DDL change affects all existing rows in the table. After execution of the following statement, all rows in the employees table will expire in 15 seconds."
   ]
  },
  {
   "cell_type": "code",
   "execution_count": null,
   "metadata": {
    "vscode": {
     "languageId": "shellscript"
    }
   },
   "outputs": [],
   "source": [
    "%%bash -s \"$NB_YB_PATH_BIN\"  \"$NB_DB_NAME\"  # alter default_time_to_live table property\n",
    "YB_PATH=${1}\n",
    "DB_NAME=${2}\n",
    "cd $YB_PATH\n",
    "\n",
    "# DB_NAME=ks_ybu\n",
    "./ycqlsh -r -k $DB_NAME -e \"\n",
    "  alter table tbl_employees \n",
    "  with default_time_to_live = 15;\n",
    "\""
   ]
  },
  {
   "attachments": {},
   "cell_type": "markdown",
   "metadata": {},
   "source": [
    "Confirm the DDL change."
   ]
  },
  {
   "cell_type": "code",
   "execution_count": null,
   "metadata": {
    "vscode": {
     "languageId": "shellscript"
    }
   },
   "outputs": [],
   "source": [
    "%%bash -s \"$NB_YB_PATH_BIN\"  \"$NB_DB_NAME\"  # describe table\n",
    "YB_PATH=${1}\n",
    "DB_NAME=${2}\n",
    "cd $YB_PATH\n",
    "\n",
    "# DB_NAME=ks_ybu\n",
    "./ycqlsh -r -k $DB_NAME -e \"\n",
    "  desc tbl_employees;\n",
    "\""
   ]
  },
  {
   "attachments": {},
   "cell_type": "markdown",
   "metadata": {},
   "source": [
    "Now that you've confirmed the property update, run the following to insert a new row, sleep, query for the new row value, sleep, and query for the row value again."
   ]
  },
  {
   "cell_type": "code",
   "execution_count": null,
   "metadata": {
    "vscode": {
     "languageId": "shellscript"
    }
   },
   "outputs": [],
   "source": [
    "%%bash -s \"$NB_YB_PATH_BIN\"  \"$NB_DB_NAME\"   # ttl, insert, tselect \n",
    "YB_PATH=${1}\n",
    "DB_NAME=${2}  \n",
    "\n",
    "cd $YB_PATH\n",
    "\n",
    "# DB_NAME=ks_ybu, insert\n",
    "./ycqlsh -r -k $DB_NAME  -e \"\n",
    "  insert into tbl_employees (id, full_name, email, year) values (100, 'Barry Allen', 'theflash@yb.com', 2023);\n",
    "  \"\n",
    "\n",
    "sleep 1;\n",
    "\n",
    "# DB_NAME=ks_ybu, select\n",
    "./ycqlsh -r -k $DB_NAME  -e \"\n",
    "  select id, full_name, email, year \n",
    "  from tbl_employees \n",
    "  where id = 100 \n",
    "    and full_name = 'Barry Allen';\n",
    "  \"\n",
    "\n",
    "sleep 14;\n",
    "\n",
    "# DB_NAME=ks_ybu, select\n",
    "./ycqlsh -r -k $DB_NAME  -e \"\n",
    "  select id, full_name, email, year \n",
    "  from tbl_employees \n",
    "  where id = 100 \n",
    "    and full_name = 'Barry Allen';\n",
    "  \"\n"
   ]
  },
  {
   "attachments": {},
   "cell_type": "markdown",
   "metadata": {},
   "source": [
    "The above output cell shows `1 rows` from the first `select` statement, and `0 rows` from the second `select` statement. "
   ]
  },
  {
   "attachments": {},
   "cell_type": "markdown",
   "metadata": {},
   "source": [
    "### DML: `update` using TTL for a column property\n",
    "You can set the row value of a non-primary key column to expire after a set amount of time. With the `using TTL` clause, you can add a time to live value. Before the set clause of an update statement, you specify the TTL in seconds as an integer value. Once the time expires, the TTL property will set the column value for the row to null.\n",
    "\n",
    "In the following example, you can set the life of the column to 5 seconds.\n"
   ]
  },
  {
   "cell_type": "code",
   "execution_count": null,
   "metadata": {
    "vscode": {
     "languageId": "shellscript"
    }
   },
   "outputs": [],
   "source": [
    "%%bash -s \"$NB_YB_PATH_BIN\"  \"$NB_DB_NAME\"   # insert, sleep, query by pk\n",
    "YB_PATH=${1}\n",
    "DB_NAME=${2}  \n",
    "\n",
    "cd $YB_PATH\n",
    "\n",
    "# DB_NAME=ks_ybu, insert\n",
    "./ycqlsh -r -k $DB_NAME  -e \"\n",
    "  insert into tbl_employees (id, full_name, email, year) values (100, 'Jay Garrick', 'theflash@yb.com', 2023);\n",
    "\"\n",
    "\n",
    "sleep 1;\n",
    "\n",
    "# update\n",
    "./ycqlsh -r -k $DB_NAME  -e \"\n",
    "  update tbl_employees\n",
    "  using ttl 5 \n",
    "    set email = 'realflash@yb.com'\n",
    "  where id = 100\n",
    "    and full_name = 'Jay Garrick';\n",
    "\"\n",
    "\n",
    "sleep 1;\n",
    "\n",
    "# select\n",
    "./ycqlsh -r -k $DB_NAME  -e \"\n",
    "  select id, full_name, email, year \n",
    "  from tbl_employees \n",
    "  where id = 100\n",
    "    and full_name = 'Jay Garrick';\n",
    "\"\n",
    "\n",
    "sleep 5;\n",
    "\n",
    "# select\n",
    "./ycqlsh -r -k $DB_NAME  -e \"\n",
    "  select id, full_name, email, year \n",
    "  from tbl_employees \n",
    "  where id = 100\n",
    "    and full_name = 'Jay Garrick';\n",
    "\"\n",
    "\n",
    "sleep 8;\n",
    "\n",
    "# select\n",
    "\n",
    "./ycqlsh -r -k $DB_NAME  -e \"\n",
    "  select id, full_name, email, year \n",
    "  from tbl_employees \n",
    "  where id = 100\n",
    "    and full_name = 'Jay Garrick';\n",
    "\""
   ]
  },
  {
   "attachments": {},
   "cell_type": "markdown",
   "metadata": {},
   "source": [
    "The above output cell shows `1 rows` from the first `select` statement. The second `select` statement shows `1 rows`, but the value for the `email` column is now `null`.\n",
    "\n",
    "As expected, since the TTL property for the table is set to `15` seconds, the last `select` statement shows `0 rows` for the query."
   ]
  },
  {
   "attachments": {},
   "cell_type": "markdown",
   "metadata": {},
   "source": [
    "### DML: `insert` using TTL for a row property\n",
    "You can insert a row that only exists in the table for a given amount of time. Known as TTL, the time to live property determines the number of seconds that a given row exists in a table. When the time expires, the row is deleted from the table.\n",
    "\n",
    "In the following example, you can set the life of the row to 15 seconds."
   ]
  },
  {
   "cell_type": "code",
   "execution_count": null,
   "metadata": {
    "vscode": {
     "languageId": "shellscript"
    }
   },
   "outputs": [],
   "source": [
    "%%bash -s \"$NB_YB_PATH_BIN\"  \"$NB_DB_NAME\"   # insert ttl, sleep, query by pk\n",
    "YB_PATH=${1}\n",
    "DB_NAME=${2}  \n",
    "\n",
    "cd $YB_PATH\n",
    "\n",
    "./ycqlsh -r -k $DB_NAME  -e \"\n",
    "  insert into tbl_employees (id, full_name, email, year) values (100, 'Wally West', 'theflash@yb.com', 2023) using TTL 15;\n",
    "\"\n",
    "\n",
    "sleep 1;\n",
    "\n",
    "./ycqlsh -r -k $DB_NAME  -e \"\n",
    "  select id, full_name, email, year \n",
    "  from tbl_employees \n",
    "  where id = 100 \n",
    "    and full_name = 'Wally West';\n",
    "\"\n",
    "\n",
    "sleep 9;\n",
    "\n",
    "./ycqlsh -r -k $DB_NAME  -e \"\n",
    "  select id, full_name, email, year \n",
    "  from tbl_employees \n",
    "  where id = 100 \n",
    "    and full_name = 'Wally West';\n",
    "\"\n",
    "\n",
    "sleep 5;\n",
    "\n",
    "./ycqlsh -r -k $DB_NAME  -e \"\n",
    "  select id, full_name, email, year \n",
    "  from tbl_employees \n",
    "  where id = 100 \n",
    "    and full_name = 'Wally West';\n",
    "\"\n"
   ]
  },
  {
   "attachments": {},
   "cell_type": "markdown",
   "metadata": {},
   "source": [
    "The above output cell shows `1 rows` from the first and second `select` statements,  and `0 rows` from last `select` statement. "
   ]
  },
  {
   "attachments": {},
   "cell_type": "markdown",
   "metadata": {},
   "source": [
    "---\n",
    "# 🌟🌟 Good job! \n",
    "\n",
    "In this notebook, you completed the following:\n",
    "\n",
    "- Language fundamentals\n",
    "  - Requirements\n",
    "  - DDL commands for YCQL\n",
    "  - DML: Write with `insert`\n",
    "  - Partition key, partition key hash, and the `partition_hash()` built-in function\n",
    "  - DML: Upsert with `insert`\n",
    "  - Distributed Document Store (DocDB)\n",
    "  - DML: Query with `select` \n",
    "  - DML: Upsert with `insert`\n",
    "  - DML: Modify with 'update'\n",
    "  - DML: Upsert with `update`\n",
    "  - DML: Deletions with `delete`\n",
    "  - DDL: Advanced data types\n",
    "  - Time to Live (TTL)\n",
    "\n",
    "\n",
    "## 😊 Next up!\n",
    "Continue your learning by opening the next notebook, `03_QDDM_query_plans.ipynb`. \n",
    "\n",
    "You can either open the file from the Explorer or simply run the following cell:"
   ]
  },
  {
   "cell_type": "code",
   "execution_count": null,
   "metadata": {
    "vscode": {
     "languageId": "shellscript"
    }
   },
   "outputs": [],
   "source": [
    "%%bash\n",
    "gp open '03_QDDM_query_plans.ipynb'"
   ]
  }
 ],
 "metadata": {
  "kernelspec": {
   "display_name": "Python 3",
   "language": "python",
   "name": "python3"
  },
  "language_info": {
   "codemirror_mode": {
    "name": "ipython",
    "version": 3
   },
   "file_extension": ".py",
   "mimetype": "text/x-python",
   "name": "python",
   "nbconvert_exporter": "python",
   "pygments_lexer": "ipython3",
   "version": "3.7.9 (v3.7.9:13c94747c7, Aug 15 2020, 01:31:08) \n[Clang 6.0 (clang-600.0.57)]"
  },
  "orig_nbformat": 4,
  "vscode": {
   "interpreter": {
    "hash": "aee8b7b246df8f9039afb4144a1f6fd8d2ca17a180786b69acc140d282b71a49"
   }
  }
 },
 "nbformat": 4,
 "nbformat_minor": 2
}
