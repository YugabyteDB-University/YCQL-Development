{
 "cells": [
  {
   "attachments": {},
   "cell_type": "markdown",
   "metadata": {},
   "source": [
    "<div style=\"width:100%; background-color: #121017;\"><a target=\"_blank\" href=\"http://university.yugabyte.com?utm_source=gitpod&utm_medium=notebook\"><img src=\"assets/YBU_Logo.png\" /></a></div><br>\n",
    "\n",
    "> **YugabyteDB YCQL Development**\n",
    ">\n",
    "> Enroll for free at [Yugabyte University](https://university.yugabyte.com/courses/yugabytedb-ycql-development?utm_source=gitpod&utm_medium=notebook).\n",
    ">\n",
    "<br>\n",
    "This notebook file is:\n",
    "\n",
    "`03_QDDM_query_plans.ipynb`"
   ]
  },
  {
   "cell_type": "markdown",
   "metadata": {},
   "source": [
    "# Query plans\n",
    "In this notebook, you will learn about an essential aspect of creating a query-drive data model in YCQL: query plans."
   ]
  },
  {
   "attachments": {},
   "cell_type": "markdown",
   "metadata": {
    "deletable": false,
    "editable": false
   },
   "source": [
    "## 🛠️ Requirements\n",
    "Here are the requirements for this notebook:\n",
    "- ✅ Create the notebook variables in `01_Introduction.ipynb`, which you previously did\n",
    "- ✅ Create the `ks_ybu` keyspace in `02_Language_fundamentals.ipynb`, which you previously did\n",
    "- ☑️ Select the **Python 3.11.8** for the notebook, *which you need to select right now!!!*\n",
    "- ☑️ Import the notebook variables, *which you must do next*\n",
    "- ☑️ Confirm the existence of the `ks_ybu` keyspace, *which you must do next*\n",
    "- ☑️ Run the DDL and DML scripts, *which you must do next*\n"
   ]
  },
  {
   "attachments": {},
   "cell_type": "markdown",
   "metadata": {},
   "source": [
    "### Select your notebook kernel\n",
    "- In the Notebook toolbar, click **Select Kernel**.\n",
    "<br>\n",
    "<img width=50% src=\"assets/01_01_Select_Kernel_Toolbar.png\" />\n",
    "\n",
    "- Next, in the dropdown, select **Python 3.11.8**.\n",
    "<br>\n",
    "<img width=50% src=\"assets/01_02_Select_Kernel_Dropdown.png\" />\n",
    "\n",
    "> 👉 **IMPORTANT!** 👈\n",
    "> \n",
    "> You must select Python **Python 3.11.8**. \n",
    "> \n",
    ">  Do **NOT** select _Python 3.12_ or higher!!! \n",
    ">\n",
    "\n",
    "\n",
    "That's it!"
   ]
  },
  {
   "cell_type": "markdown",
   "metadata": {},
   "source": [
    "## ⛑️ Getting help\n",
    "The best way to get help from the Yugabyte University team is to post your question on YugabyteDB Community Slack in the #training channels. To sign up, visit [YugabyteDB Community Slack](https://join.slack.com/t/yugabyte-db/shared_invite/zt-xbd652e9-3tN0N7UG0eLpsace4t1d2A?utm_source=gitpod&utm_medium=notebook)."
   ]
  },
  {
   "cell_type": "markdown",
   "metadata": {},
   "source": [
    "## 👣 Setup steps\n",
    "Here are the steps to setup this lab:\n",
    "- Create the notebook styles\n",
    "- Import the notebook variables\n",
    "- Confirm the existence of the  `ks_ybu` keyspace"
   ]
  },
  {
   "cell_type": "markdown",
   "metadata": {},
   "source": [
    "### 👇 Create the notebook styles"
   ]
  },
  {
   "cell_type": "code",
   "execution_count": null,
   "metadata": {},
   "outputs": [],
   "source": [
    "from IPython.core.display import HTML\n",
    "def css_styling():\n",
    "    styles = open(\"./styles/custom.css\", \"r\").read()\n",
    "    return HTML(styles)\n",
    "css_styling()"
   ]
  },
  {
   "attachments": {},
   "cell_type": "markdown",
   "metadata": {},
   "source": [
    "### 👇 Create the notebook variables \n",
    "\n",
    "> 👉 **IMPORTANT!** 👈\n",
    "> \n",
    "> Do **NOT** skip running this cell. \n",
    "> \n",
    "\n",
    "The following Python cell creates and stores variables that all the notebooks in this lab will use. You can view these variables in the Jupyter tab.\n",
    "\n",
    "- To run the script, select Execute Cell (Play Arrow) in the left gutter of the cell.\n",
    "- Verify the accuracy of the output values\n",
    "\n",
    "👇 👇 👇 "
   ]
  },
  {
   "cell_type": "code",
   "execution_count": null,
   "metadata": {},
   "outputs": [],
   "source": [
    "# Use %store -r to read 01_Lab_Setup variables\n",
    "%store -r"
   ]
  },
  {
   "attachments": {},
   "cell_type": "markdown",
   "metadata": {},
   "source": [
    "### Confirm the existence of the  `ks_ybu` keyspace\n",
    "You created this in the `02_Language_fundamentals.ipynb` notebook. Confirm that it exists."
   ]
  },
  {
   "cell_type": "code",
   "execution_count": null,
   "metadata": {
    "vscode": {
     "languageId": "shellscript"
    }
   },
   "outputs": [],
   "source": [
    "%%bash -s \"$NB_YB_PATH_BIN\"  \"$NB_DB_NAME\"  # describe the keysapce\n",
    "YB_PATH=${1}\n",
    "DB_NAME=${2}\n",
    "\n",
    "cd $YB_PATH\n",
    "\n",
    "# DB_NAME=ks_ybu\n",
    "./ycqlsh -r -e \"\n",
    "  describe keyspace $DB_NAME;\n",
    "\""
   ]
  },
  {
   "attachments": {},
   "cell_type": "markdown",
   "metadata": {},
   "source": [
    "> 🤔 Question:\n",
    ">  \n",
    "> Does the keyspace exist?\n",
    "> \n",
    "> If not, go back and  `02_Language_fundamentals.ipynb` notebook and create the `ks_ybu` keyspace!\n",
    ">\n",
    "\n",
    "Drop the existing tables in the keyspace.\n"
   ]
  },
  {
   "cell_type": "code",
   "execution_count": null,
   "metadata": {
    "vscode": {
     "languageId": "shellscript"
    }
   },
   "outputs": [],
   "source": [
    "%%bash -s \"$NB_YB_PATH_BIN\"  \"$NB_DB_NAME\" # Drop the table\n",
    "YB_PATH=${1}\n",
    "DB_NAME=${2}\n",
    "\n",
    "cd $YB_PATH\n",
    "\n",
    "# DB_NAME=ks_ybu\n",
    "./ycqlsh -r -k $DB_NAME -e \"\n",
    "  drop table if exists tbl_employees;\n",
    "\""
   ]
  },
  {
   "cell_type": "markdown",
   "metadata": {},
   "source": [
    "> About `ycsqlsh` flags\n",
    ">\n",
    "> `-e` or `--execute` allows you to execute a given statement and then exit. This is useful for running YCQL commands non-interactively from scripts or the command line.\n",
    ">\n",
    ">  `-k` or `--keyspace` allows you to specify a keyspace to authenticate to when connecting to YugabyteDB. It should be used in conjunction with the --user flag when authentication is required.\n",
    ">\n",
    ">\n",
    "> `-r` or `--refresh_on_describe` allows you to force a refresh of the schema metadata when using the DESCRIBE command in ycqlsh. This ensures you get the most up-to-date schema information when describing keyspaces, tables, or other database objects.\n",
    ">\n"
   ]
  },
  {
   "attachments": {},
   "cell_type": "markdown",
   "metadata": {},
   "source": [
    "### Run the DDL and DML scripts\n",
    "The DDL script creates tables for the Query-drive data model (QQDM). The DML script populates the tables.\n",
    "\n",
    "Run the following cells to create the tables and load the data."
   ]
  },
  {
   "cell_type": "code",
   "execution_count": null,
   "metadata": {
    "vscode": {
     "languageId": "shellscript"
    }
   },
   "outputs": [],
   "source": [
    "%%bash -s \"$NB_YB_PATH_BIN\" \"$NB_DB_NAME\" \"$NB_NOTEBOOK_DATA_FOLDER\" \"$NB_DATA_DDL_FILE\"  \"$NB_DATA_DML_FILE\"  \n",
    "# data directory\n",
    "YB_PATH=${1}\n",
    "DB_NAME=${2}\n",
    "DATA_FOLDER=${3}\n",
    "DATA_DDL_FILE=${4}\n",
    "DATA_DML_FILE=${5}\n",
    "\n",
    "WISHLIST_DDL_PATH=${DATA_FOLDER}/${DATA_DDL_FILE}\n",
    "WISHLIST_DML_PATH=${DATA_FOLDER}/${DATA_DML_FILE}\n",
    "\n",
    "cd $YB_PATH\n",
    "\n",
    "# DDL file\n",
    "./ycqlsh -k ${DB_NAME} -f ${WISHLIST_DDL_PATH} \n",
    "\n",
    "sleep 1;\n",
    "\n",
    "# DML file\n",
    "./ycqlsh -k ${DB_NAME} -f ${WISHLIST_DML_PATH} \n",
    "\n",
    "sleep 1;"
   ]
  },
  {
   "attachments": {},
   "cell_type": "markdown",
   "metadata": {},
   "source": [
    "Show the tables for the keyspace."
   ]
  },
  {
   "cell_type": "code",
   "execution_count": null,
   "metadata": {
    "vscode": {
     "languageId": "shellscript"
    }
   },
   "outputs": [],
   "source": [
    "%%bash -s \"$NB_YB_PATH_BIN\"  \"$NB_DB_NAME\" # describe the tables from the DDL script\n",
    "YB_PATH=${1}\n",
    "DB_NAME=${2}\n",
    "cd $YB_PATH\n",
    "\n",
    "# DB_NAME=ks_ybu\n",
    "./ycqlsh -r -k $DB_NAME -e \"\n",
    "  describe tables;\n",
    "\""
   ]
  },
  {
   "attachments": {},
   "cell_type": "markdown",
   "metadata": {},
   "source": [
    "Validate the data was loaded properly from the SQL scripts by running the following cells."
   ]
  },
  {
   "cell_type": "code",
   "execution_count": null,
   "metadata": {
    "vscode": {
     "languageId": "shellscript"
    }
   },
   "outputs": [],
   "source": [
    "%%bash -s \"$NB_YB_PATH_BIN\" \"$NB_DB_NAME\" \"$NB_NOTEBOOK_DATA_FOLDER\" \"$NB_DATA_DML_FILE\"   \n",
    "# query\n",
    "YB_PATH=${1}\n",
    "DB_NAME=${2}\n",
    "\n",
    "cd $YB_PATH\n",
    "\n",
    "# DB_NAME=ks_ybu , count = 15\n",
    "./ycqlsh -r -k $DB_NAME -e \"\n",
    "  select count(*) from tbl_products_by_brand;\n",
    "\""
   ]
  },
  {
   "cell_type": "code",
   "execution_count": null,
   "metadata": {
    "vscode": {
     "languageId": "shellscript"
    }
   },
   "outputs": [],
   "source": [
    "%%bash -s \"$NB_YB_PATH_BIN\" \"$NB_DB_NAME\" \"$NB_NOTEBOOK_DATA_FOLDER\" \"$NB_DATA_DML_FILE\"   \n",
    "# query\n",
    "YB_PATH=${1}\n",
    "DB_NAME=${2}\n",
    "\n",
    "cd $YB_PATH\n",
    "\n",
    "# DB_NAME=ks_ybu , count = 15\n",
    "./ycqlsh -r -k $DB_NAME -e \"\n",
    "  select count(*) from tbl_products_by_category;\n",
    "\""
   ]
  },
  {
   "cell_type": "code",
   "execution_count": null,
   "metadata": {
    "vscode": {
     "languageId": "shellscript"
    }
   },
   "outputs": [],
   "source": [
    "%%bash -s \"$NB_YB_PATH_BIN\" \"$NB_DB_NAME\" \"$NB_NOTEBOOK_DATA_FOLDER\" \"$NB_DATA_DML_FILE\"   \n",
    "\n",
    "YB_PATH=${1}\n",
    "DB_NAME=${2}\n",
    "cd $YB_PATH\n",
    "\n",
    "# DB_NAME=ks_ybu , count = 9\n",
    "./ycqlsh -r -k $DB_NAME -e \"\n",
    "  select count(*) from tbl_products_by_wishlist;\n",
    "\""
   ]
  },
  {
   "cell_type": "code",
   "execution_count": null,
   "metadata": {
    "vscode": {
     "languageId": "shellscript"
    }
   },
   "outputs": [],
   "source": [
    "%%bash -s \"$NB_YB_PATH_BIN\" \"$NB_DB_NAME\" \"$NB_NOTEBOOK_DATA_FOLDER\" \"$NB_DATA_DML_FILE\"   \n",
    "\n",
    "YB_PATH=${1}\n",
    "DB_NAME=${2}\n",
    "cd $YB_PATH\n",
    "\n",
    "# DB_NAME=ks_ybu , count = 7\n",
    "./ycqlsh -r -k $DB_NAME -e \"\n",
    "  select count(*) from tbl_wishlists_by_user;\n",
    "\""
   ]
  },
  {
   "attachments": {},
   "cell_type": "markdown",
   "metadata": {},
   "source": [
    "---\n",
    "## Execution plans\n",
    "\n",
    "In YCQL, an execution plan, known as a query plan, is similar in style to a YSQL query plan. A query plan consists of execution nodes. A plan node represents an action and may include one or more sub-actions. An action refers to a specific, internal operation. Nodes can be nested. Nested nodes are executed from the inside out. This means that the innermost node is executed before an outer node. This can be best thought of as a nested function call where the inner node returns its results to the outer node, often in a loop.\n",
    "\n",
    "To see an example of a query plan, run the following cell:"
   ]
  },
  {
   "cell_type": "code",
   "execution_count": null,
   "metadata": {
    "vscode": {
     "languageId": "shellscript"
    }
   },
   "outputs": [],
   "source": [
    "%%bash -s \"$NB_YB_PATH_BIN\" \"$NB_DB_NAME\"   # Query plan: Sequential scan with filter\n",
    "YB_PATH=${1}\n",
    "DB_NAME=${2}  \n",
    "\n",
    "cd $YB_PATH\n",
    "\n",
    "./ycqlsh -r -k $DB_NAME -e \"\n",
    "  select sum(quantity) as total_items\n",
    "  from tbl_products_by_wishlist\n",
    "  where quantity > 1;\n",
    "\"\n",
    "\n",
    "./ycqlsh -r -k $DB_NAME -e \"\n",
    "  explain select sum(quantity) as total_items\n",
    "  from tbl_products_by_wishlist\n",
    "  where quantity > 1;\n",
    "\"    "
   ]
  },
  {
   "attachments": {},
   "cell_type": "markdown",
   "metadata": {},
   "source": [
    "In the above output, the query plan shows that this is an aggregate query. An aggregate query illustrates a nested node. The innermost node is the sequence scan operation. The sequence scan applies a filter sub-action for a conditional expression. The sequence scan operation returns the subtotal value to the outermost operation, the aggregation operation.\n"
   ]
  },
  {
   "attachments": {},
   "cell_type": "markdown",
   "metadata": {},
   "source": [
    "### Query plan: Sequence scan\n",
    "A query that results in a sequential scan of a very large table can be very costly in YugabyteDB. For a sequential scan operation, each tablet must perform a seek operation. A seek operation requires CPU, memory, and disk operations. A seek operation consists of reading data from a SST file. The SST file contains the DocKey and document value. The SST file format consists of data and meta blocks. A sequential scan reads all the data blocks within a SST file. \n",
    "\n",
    "Coordinating the tablet operations and gathering tablet results require additional network, CPU, and memory consumption. The topology of a cluster can increase the network latency related to coordinating tablet operations and gathering tablet results. For these reasons, a sequential scan consumes numerous computing resources and often results in very poor query performance, especially for very large tables with billions of rows."
   ]
  },
  {
   "cell_type": "code",
   "execution_count": null,
   "metadata": {
    "vscode": {
     "languageId": "shellscript"
    }
   },
   "outputs": [],
   "source": [
    "%%bash -s \"$NB_YB_PATH_BIN\" \"$NB_DB_NAME\"   # Query plan: Sequential scan  \n",
    "YB_PATH=${1}\n",
    "DB_NAME=${2}  \n",
    "\n",
    "cd $YB_PATH\n",
    "\n",
    "./ycqlsh -r -k $DB_NAME -e \"\n",
    "  select * from tbl_products_by_category;\n",
    "\"  \n",
    "\n",
    "./ycqlsh -r -k $DB_NAME -e \"\n",
    "  explain select * from tbl_products_by_category;\n",
    "\"  "
   ]
  },
  {
   "attachments": {},
   "cell_type": "markdown",
   "metadata": {},
   "source": [
    "### Query plan: Range scan\n",
    "A range scan operation often returns multiple rows and is not guaranteed to return zero rows or one row. The equality operator indicates that operation is for a single partition query. All products that belong to a specific category reside on a single tablet. A seek operation consists of reading data from the SST files of a tablet. The number of seeks for a range scan is often far less than that of a sequential scan. In this case, the number of seeks may vary by the number of products related to the category. Each seek operation requires CPU, memory, and disk usage. In most cases, a range scan query is efficient and scalable. However, for a popular product category with millions of related products, this query may be problematic. One tablet may be accessed significantly more than the other tablets. This is known as a hot tablet or hot shard query. Depending on query frequency and the volume of data, a hot tablet query can quickly turn into a hot node problem. A hot node is a node that consistently utilizes a high percentage of computing resources.\n"
   ]
  },
  {
   "cell_type": "code",
   "execution_count": null,
   "metadata": {
    "vscode": {
     "languageId": "shellscript"
    }
   },
   "outputs": [],
   "source": [
    "%%bash -s \"$NB_YB_PATH_BIN\"  \"$NB_DB_NAME\"  # Query plan: range function\n",
    "YB_PATH=${1}\n",
    "DB_NAME=${2}  \n",
    "\n",
    "cd $YB_PATH\n",
    "\n",
    "./ycqlsh -r -k $DB_NAME -e \"\n",
    "  select category, product_name, product_id, brand, price, discount, description, gtin\n",
    "  from tbl_products_by_category \n",
    "  where category = 'H20';\n",
    "\" \n",
    "\n",
    "./ycqlsh -r -k $DB_NAME -e \"\n",
    "  explain select category, product_name, product_id, brand, price, discount, description, gtin\n",
    "  from tbl_products_by_category \n",
    "  where category = 'H20';\n",
    "\"  "
   ]
  },
  {
   "attachments": {},
   "cell_type": "markdown",
   "metadata": {},
   "source": [
    "### Query plan: Primary key lookup\n",
    "In this following example, the where expression contains three conditional expressions. Each conditional expression contains a primary key column and an equality operator. Because all three parts of the primary key are in the where expression and include equality operators, the query is a primary key lookup query. A primary key lookup is guaranteed to return zero or one row.\n"
   ]
  },
  {
   "cell_type": "code",
   "execution_count": null,
   "metadata": {
    "vscode": {
     "languageId": "shellscript"
    }
   },
   "outputs": [],
   "source": [
    "%%bash -s \"$NB_YB_PATH_BIN\" \"$NB_DB_NAME\"   # Query plan: PK lookup\n",
    "YB_PATH=${1}\n",
    "\n",
    "DB_NAME=${2}  \n",
    "cd $YB_PATH\n",
    "\n",
    "./ycqlsh -r -k $DB_NAME -e \"\n",
    "  select category, product_name, product_id, brand, price, discount, description, gtin\n",
    "  from tbl_products_by_category \n",
    "  where category = 'H20'\n",
    "    and product_name = 'Talc 5'\n",
    "    and product_id = 62362;\n",
    "\"  \n",
    "\n",
    "./ycqlsh -r -k $DB_NAME -e \"\n",
    "  explain select category, product_name, product_id, brand, price, discount, description, gtin\n",
    "  from tbl_products_by_category \n",
    "  where category = 'H20'\n",
    "    and product_name = 'Talc 5'\n",
    "    and product_id = 62362;\n",
    "\"    "
   ]
  },
  {
   "attachments": {},
   "cell_type": "markdown",
   "metadata": {},
   "source": [
    "### Primary key lookup: Tablet\n",
    "A primary key lookup operation uses the DocKey to determine the location of the row. The partition key hash encoded value of the DocKey informs the operation. The query reads from the tablet that contains the partition key hash. The clustering keys order the data on disk for the given encoded hash. The primary key lookup performs a single seek in the SST file of the related tablet in RocksDB. This is known as a single-key query. The Key-Conditions and Filter sub-actions are semantic artifacts of the query planner. There are no related operations for these sub-actions. "
   ]
  },
  {
   "attachments": {},
   "cell_type": "markdown",
   "metadata": {},
   "source": [
    "#### Select a YB-TServer host\n",
    "<a id=\"select-a-yb-tserver-host-1\"> </a>\n",
    "Set the host variable for one of the nodes. All three nodes in the cluster are running a Tablet Server (YB-TServer). You can comment/uncomment lines 7-9 as needed."
   ]
  },
  {
   "cell_type": "code",
   "execution_count": null,
   "metadata": {
    "vscode": {
     "languageId": "shellscript"
    }
   },
   "outputs": [],
   "source": [
    "%%bash -s \"$NB_HOST_IPv4_01\" \"$NB_HOST_IPv4_02\" \"$NB_HOST_IPv4_03\" --out NB_HOST_IPv4\n",
    "HOST_IPv4_01=$( echo \"${1}\" | tr -d \" \")\n",
    "HOST_IPv4_02=$( echo \"${2}\" | tr -d \" \")\n",
    "HOST_IPv4_03=$( echo \"${3}\" | tr -d \" \")\n",
    "\n",
    "# change the hosts for different tablet leaders by commenting out a line and removing a comment for a line\n",
    "NB_HOST_IPv4=$HOST_IPv4_01\n",
    "#NB_HOST_IPv4=$HOST_IPv4_02\n",
    "#NB_HOST_IPv4=$HOST_IPv4_03\n",
    "\n",
    "echo ${NB_HOST_IPv4}"
   ]
  },
  {
   "attachments": {},
   "cell_type": "markdown",
   "metadata": {},
   "source": [
    "Store the select host variable."
   ]
  },
  {
   "cell_type": "code",
   "execution_count": null,
   "metadata": {},
   "outputs": [],
   "source": [
    "%store NB_HOST_IPv4\n",
    "print(NB_HOST_IPv4)"
   ]
  },
  {
   "attachments": {},
   "cell_type": "markdown",
   "metadata": {},
   "source": [
    "Save the **OBJECT_NAME** as a variable."
   ]
  },
  {
   "cell_type": "code",
   "execution_count": null,
   "metadata": {},
   "outputs": [],
   "source": [
    "NB_OBJECT_NAME=\"tbl_products_by_category\"\n",
    "%store NB_OBJECT_NAME\n",
    "print(NB_OBJECT_NAME)"
   ]
  },
  {
   "attachments": {},
   "cell_type": "markdown",
   "metadata": {},
   "source": [
    "Grep the **TABLE_ID** for the the table using `curl` and `jq`."
   ]
  },
  {
   "cell_type": "code",
   "execution_count": null,
   "metadata": {
    "vscode": {
     "languageId": "shellscript"
    }
   },
   "outputs": [],
   "source": [
    "%%bash -s \"$NB_OBJECT_NAME\" \"$NB_HOST_IPv4\"  \"$NB_DB_NAME\"  \"$NB_TSERVER_WEBSERVER_PORT\"  --out NB_TABLE_ID\n",
    "OBJECT_NAME=$( echo \"${1}\" | tr -d \" \")\n",
    "HOST_IPv4=$( echo \"${2}\" | tr -d \" \")\n",
    "DB_NAME=$( echo \"${3}\" | tr -d \" \")\n",
    "TSERVER_WEBSERVER_PORT=$( echo \"${4}\" | tr -d \" \")\n",
    "\n",
    "\n",
    "MY_URL=\"http://${HOST_IPv4}:${TSERVER_WEBSERVER_PORT}/metrics\"\n",
    "\n",
    "TABLE_ID=`curl -s --compressed ${MY_URL} | jq -r 'limit(1;  .[] | select(.attributes.namespace_name==\"'${DB_NAME}'\" and .type==\"tablet\" and .attributes.table_name==\"'${OBJECT_NAME}'\") |  .attributes.table_id) '`\n",
    "\n",
    "echo ${TABLE_ID}"
   ]
  },
  {
   "attachments": {},
   "cell_type": "markdown",
   "metadata": {},
   "source": [
    "Store the **TABLE_ID** for the table."
   ]
  },
  {
   "cell_type": "code",
   "execution_count": null,
   "metadata": {},
   "outputs": [],
   "source": [
    "%store NB_TABLE_ID\n",
    "print(NB_TABLE_ID)"
   ]
  },
  {
   "attachments": {},
   "cell_type": "markdown",
   "metadata": {},
   "source": [
    "Get the **TABLET_ID** for the tablet leader for the select node host."
   ]
  },
  {
   "cell_type": "code",
   "execution_count": null,
   "metadata": {
    "vscode": {
     "languageId": "shellscript"
    }
   },
   "outputs": [],
   "source": [
    "%%bash -s \"$NB_OBJECT_NAME\" \"$NB_HOST_IPv4\" --out NB_TABLET_ID\n",
    "OBJECT_NAME=$( echo \"${1}\" | tr -d \" \")\n",
    "HOST_IPv4=$( echo \"${2}\" | tr -d \" \")\n",
    "\n",
    "MY_URL=\"http://${HOST_IPv4}:8200/metrics\"\n",
    "\n",
    "TABLET_ID=`curl -s --compressed ${MY_URL} | jq --raw-output ' .[] | select(.attributes.namespace_name==\"ks_ybu\" and .type==\"tablet\" and .attributes.table_name==\"'$OBJECT_NAME'\") | {tablet_id: .id, metrics: .metrics[] | select(.name == (\"is_raft_leader\") ) | select(.value == 1) } | select(.tablet_id) | {tablet_id} | .tablet_id '`\n",
    "\n",
    "echo ${TABLET_ID}"
   ]
  },
  {
   "attachments": {},
   "cell_type": "markdown",
   "metadata": {},
   "source": [
    "Store the **TABLET_ID** for the tablet leader."
   ]
  },
  {
   "cell_type": "code",
   "execution_count": null,
   "metadata": {},
   "outputs": [],
   "source": [
    "%store NB_TABLET_ID\n",
    "print(NB_TABLET_ID)"
   ]
  },
  {
   "attachments": {},
   "cell_type": "markdown",
   "metadata": {},
   "source": [
    "Flush the WAL file to a SST file for the given table_id."
   ]
  },
  {
   "cell_type": "code",
   "execution_count": null,
   "metadata": {
    "vscode": {
     "languageId": "shellscript"
    }
   },
   "outputs": [],
   "source": [
    "%%bash -s \"$NB_YB_PATH_BIN\" \"$NB_HOST_IPv4\" \"$NB_TABLE_ID\"  # Import file path of Yugabyte and DB name\n",
    "YB_PATH=$( echo \"${1}\" | tr -d \" \")\n",
    "HOST_IPv4=$( echo \"${2}\" | tr -d \" \")\n",
    "TABLE_ID=$( echo \"${3}\" | tr -d \" \")\n",
    "cd $YB_PATH\n",
    "\n",
    "./yb-admin -init_master_addrs ${HOST_IPv4}:7100 flush_table_by_id ${TABLE_ID} 600"
   ]
  },
  {
   "attachments": {},
   "cell_type": "markdown",
   "metadata": {},
   "source": [
    "Dump and decode the SST file in human-readable form.\n",
    "\n",
    "> 📝 Note \n",
    ">\n",
    "> If the following does **NOT** dump the SST file, it is most likely that there are not any rows written to this tablet. To resolve this issue, you need to select a different Tablet Server host. \n",
    "> \n",
    "> Return back to [Select a YB-TServer host](#select-a-yb-tserver-host-1) and select a different node host by commenting out (add a `#` sign) to line 7 and uncomment out (remove the`#` sign) line 8 or line 9."
   ]
  },
  {
   "cell_type": "code",
   "execution_count": null,
   "metadata": {
    "vscode": {
     "languageId": "shellscript"
    }
   },
   "outputs": [],
   "source": [
    "%%bash -s \"$NB_YB_PATH_BIN\" \"$NB_YB_PATH_DATA\" \"$NB_TABLE_ID\" \"$NB_TABLET_ID\"  # Import file path of Yugabyte and DB name\n",
    "YB_PATH=$( echo \"${1}\" | tr -d \" \")\n",
    "YB_PATH_DATA=$( echo \"${2}\" | tr -d \" \")\n",
    "TABLE_ID=$( echo \"${3}\" | tr -d \" \")\n",
    "TABLET_ID=$( echo \"${4}\" | tr -d \" \")\n",
    "\n",
    "cd $YB_PATH/\n",
    "\n",
    "TABLE_ID_PATH=${YB_PATH_DATA}/node1/data/yb-data/tserver/data/rocksdb/table-${TABLE_ID}/tablet-${TABLET_ID}\n",
    "ls -l  ${TABLE_ID_PATH}\n",
    "\n",
    "./sst_dump --command=scan --file=${TABLE_ID_PATH} --output_format=decoded_regulardb"
   ]
  },
  {
   "attachments": {},
   "cell_type": "markdown",
   "metadata": {},
   "source": [
    "> 🤔 Question:\n",
    ">\n",
    "> The query predicate is:\n",
    "> \n",
    "> ```where category = 'H20' and product_name = 'Talc 5' and product_id = 62362```\n",
    "> \n",
    "> How can you find the partition key hash in the SST dump for the query predicate?\n",
    "> \n",
    "> 🧩 Hint:\n",
    ">\n",
    "> Return back to [Select a YB-TServer host](#select-a-yb-tserver-host-1) and select a different node host by commenting out (add a `#` sign) to line 7 and uncomment out (remove the`#` sign) line 8 or line 9.\n",
    "> \n",
    "> Then, rerun the cells to dump and decode the SST file for a different tablet leader.\n"
   ]
  },
  {
   "attachments": {},
   "cell_type": "markdown",
   "metadata": {},
   "source": [
    "---\n",
    "# 🌟🌟🌟 Well done! \n",
    "In this notebook, you completed the following:\n",
    "- Query plans\n",
    "  - Requirements\n",
    "  - Executions plans\n",
    "\n",
    "\n",
    "## 😊 Next up!\n",
    "Continue your learning by opening the next notebook, `04_Secondary_indexes.ipynb`. \n",
    "\n",
    "You can either open the file from the Explorer or simply run the following cell:"
   ]
  },
  {
   "cell_type": "code",
   "execution_count": null,
   "metadata": {
    "vscode": {
     "languageId": "shellscript"
    }
   },
   "outputs": [],
   "source": [
    "%%bash\n",
    "gp open '04_QDDM_secondary_indexes.ipynb'"
   ]
  }
 ],
 "metadata": {
  "kernelspec": {
   "display_name": "Python 3",
   "language": "python",
   "name": "python3"
  },
  "language_info": {
   "codemirror_mode": {
    "name": "ipython",
    "version": 3
   },
   "file_extension": ".py",
   "mimetype": "text/x-python",
   "name": "python",
   "nbconvert_exporter": "python",
   "pygments_lexer": "ipython3",
   "version": "3.9.6"
  },
  "orig_nbformat": 4,
  "vscode": {
   "interpreter": {
    "hash": "31f2aee4e71d21fbe5cf8b01ff0e069b9275f58929596ceb00d14d90e3e16cd6"
   }
  }
 },
 "nbformat": 4,
 "nbformat_minor": 2
}
