{
 "cells": [
  {
   "attachments": {},
   "cell_type": "markdown",
   "metadata": {},
   "source": [
    "<div style=\"width:100%; background-color: #121017;\"><a target=\"_blank\" href=\"http://university.yugabyte.com?utm_source=gitpod&utm_medium=notebook\"><img src=\"assets/YBU_Logo.png\" /></a></div><br>\n",
    "\n",
    "> **YugabyteDB YCQL Development**\n",
    ">\n",
    "> Enroll for free at [Yugabyte University](https://university.yugabyte.com/courses/yugabytedb-ycql-development?utm_source=gitpod&utm_medium=notebook).\n",
    ">\n",
    "<br>\n",
    "This notebook file is:\n",
    "\n",
    "`05_JSONB.ipynb`\n"
   ]
  },
  {
   "cell_type": "markdown",
   "metadata": {},
   "source": [
    "# JSONB\n",
    "The Yugabyte Cloud Query Language API supports the JSONB data type. \n",
    "\n",
    "The JSONB data type stores valid JavaScript Object Notation (JSO) data in a serialized, binary format. \n",
    "\n",
    "A table column of type JSONB cannot be part of the primary key, including the partition key or clustering key.\n",
    "For a JSONB column value, YugabyteDB automatically sorts the JSON keys. A column of the type JSONB exists in DocDB as a subdocument just like any other non-primary key, regular column. A value of the type JSONB is not implicitly convertible to another data type. However, you can convert a text value that is in a valid JSON format to JSONB. It is also possible to compare a valid JSON text value to a JSONB value. \n",
    "\n",
    "In this lab, you will learn about how to perform common DML operations with JSONB as well as how to create a secondary index for JSONB data."
   ]
  },
  {
   "attachments": {},
   "cell_type": "markdown",
   "metadata": {
    "deletable": false,
    "editable": false
   },
   "source": [
    "## 🛠️ Requirements\n",
    "Here are the requirements for this notebook:\n",
    "- ✅ Create the notebook variables in `01_Introduction.ipynb`, which you did previously\n",
    "- ✅ Create the `ks_ybu` keyspace in `02_Language_fundamentals.ipynb`, which you did previously\n",
    "- ✅ Complete `03_QDDM_query_plans.ipynb`, which you did previously\n",
    "- ✅ Complete `04_QDDM_secondary_indexes.ipynb`, which you did previously\n",
    "- ☑️ Select the **Python 3.11.8** for the notebook, *which you need to select right now!!!*\n",
    "- ☑️ Import the notebook variables, *which you must do next*\n",
    "- ☑️ Confirm the existence of the `ks_ybu` keyspace and the child tables, *which you must do next*\n"
   ]
  },
  {
   "attachments": {},
   "cell_type": "markdown",
   "metadata": {},
   "source": [
    "### Select your notebook kernel\n",
    "- In the Notebook toolbar, click **Select Kernel**.\n",
    "<br>\n",
    "<img width=50% src=\"assets/01_01_Select_Kernel_Toolbar.png\" />\n",
    "\n",
    "- Next, in the dropdown, select **Python 3.11.8**.\n",
    "<br>\n",
    "<img width=50% src=\"assets/01_02_Select_Kernel_Dropdown.png\" />\n",
    "\n",
    "> 👉 **IMPORTANT!** 👈\n",
    "> \n",
    "> You must select Python **Python 3.11.8**. \n",
    "> \n",
    "> Do **NOT** select _Python 3.12_ or higher!!! \n",
    ">\n",
    "\n",
    "\n",
    "That's it!"
   ]
  },
  {
   "cell_type": "markdown",
   "metadata": {},
   "source": [
    "## ⛑️ Getting help\n",
    "The best way to get help from the Yugabyte University team is to post your question on YugabyteDB Community Slack in the #training channels. To sign up, visit [YugabyteDB Community Slack](https://join.slack.com/t/yugabyte-db/shared_invite/zt-xbd652e9-3tN0N7UG0eLpsace4t1d2A?utm_source=gitpod&utm_medium=notebook)."
   ]
  },
  {
   "cell_type": "markdown",
   "metadata": {},
   "source": [
    "## 👣 Setup steps\n",
    "Here are the steps to setup this lab:\n",
    "- Create the notebook styles\n",
    "- Import the notebook variables\n",
    "- Confirm the existence of the  `ks_ybu` keyspace"
   ]
  },
  {
   "cell_type": "markdown",
   "metadata": {},
   "source": [
    "### 👇 Create the notebook styles"
   ]
  },
  {
   "cell_type": "code",
   "execution_count": null,
   "metadata": {},
   "outputs": [],
   "source": [
    "from IPython.core.display import HTML\n",
    "def css_styling():\n",
    "    styles = open(\"./styles/custom.css\", \"r\").read()\n",
    "    return HTML(styles)\n",
    "css_styling()"
   ]
  },
  {
   "cell_type": "markdown",
   "metadata": {},
   "source": [
    "### 👇 Create the notebook variables \n",
    "\n",
    "> 👉 **IMPORTANT!** 👈\n",
    "> \n",
    "> Do **NOT** skip running this cell. \n",
    "> \n",
    "\n",
    "The following Python cell creates and stores variables that all the notebooks in this lab will use. You can view these variables in the Jupyter tab.\n",
    "\n",
    "- To run the script, select Execute Cell (Play Arrow) in the left gutter of the cell.\n",
    "- Verify the accuracy of the output values\n",
    "\n",
    "👇 👇 👇 "
   ]
  },
  {
   "cell_type": "code",
   "execution_count": null,
   "metadata": {},
   "outputs": [],
   "source": [
    "# Use %store -r to read 01_Lab_Setup variables\n",
    "%store -r"
   ]
  },
  {
   "attachments": {},
   "cell_type": "markdown",
   "metadata": {},
   "source": [
    "### Confirm the existence of the `ks_ybu` keyspace and the child tables\n",
    "You created...\n",
    "- the keyspace in the `02_Language_fundamentals.ipynb` notebook\n",
    "- tables in the  `03_QDDM_query_plans.ipynb` notebook\n",
    "\n",
    "Run the following cell to describe the keyspace."
   ]
  },
  {
   "cell_type": "code",
   "execution_count": null,
   "metadata": {
    "vscode": {
     "languageId": "shellscript"
    }
   },
   "outputs": [],
   "source": [
    "%%bash -s \"$NB_YB_PATH_BIN\"  \"$NB_DB_NAME\" # describe the keyspace\n",
    "YB_PATH=${1}\n",
    "DB_NAME=${2}\n",
    "\n",
    "cd $YB_PATH\n",
    "\n",
    "# sDB_NAME=ks_ybu\n",
    "./ycqlsh -r -e \"\n",
    "  describe keyspace $DB_NAME;\n",
    "\""
   ]
  },
  {
   "attachments": {},
   "cell_type": "markdown",
   "metadata": {},
   "source": [
    "> 🤔 Question:\n",
    ">  \n",
    "> Does the `ks_ybu` keyspace exist?\n",
    "> \n",
    "> If not, go back to the  `02_Language_fundamentals.ipynb` notebook and create the `ks_ybu` keyspace!\n",
    ">\n",
    "\n",
    "> 🤔 Question:\n",
    ">  \n",
    "> Does the `ks_ybu` keyspace have tables for products and wishlists?\n",
    "> \n",
    "> If not, go back to the `03_QDDM_query_plans.ipynb` notebook and create the tables!\n",
    " "
   ]
  },
  {
   "attachments": {},
   "cell_type": "markdown",
   "metadata": {},
   "source": [
    "---\n",
    "## JSONB key path operators\n",
    "\n",
    "Using JSONB path operators, you can select JSONB key-values, insert new values, and modify existing values. This makes it easy to change the JSON schema.\n",
    "\n",
    "There are two types of key path operators available to YCQL. The key name in a key path is case sensitive. The `->` operator returns the JSON for the key. The `->>` operator returns the value for the key. There are two ways you can use key path operators in a select statement: the select clause and the where clause.\n",
    "\n",
    "Review the following cell to see how query utilizes the JSONB operators in the select clause and the where clause. Then, run the following cell to view the query results."
   ]
  },
  {
   "cell_type": "code",
   "execution_count": null,
   "metadata": {
    "vscode": {
     "languageId": "shellscript"
    }
   },
   "outputs": [],
   "source": [
    "%%bash -s \"$NB_YB_PATH_BIN\" \"$NB_DB_NAME\"   # Query using key path operators  \n",
    "YB_PATH=${1}\n",
    "DB_NAME=${2}  \n",
    "\n",
    "cd $YB_PATH\n",
    "\n",
    "# DB_NAME=ks_ybu\n",
    "./ycqlsh -r -k $DB_NAME -e \"\n",
    "  select category, product_name, product_id, price, \n",
    "    (sku_details->>'sku') as sku, \n",
    "    (sku_details->'colors'->>0) as color0,\n",
    "    (sku_details->'colors'->>1) as color2,\n",
    "    (sku_details->>'kid_friendly') as kid_friendly\n",
    "  from tbl_products_by_category\n",
    "  where  (sku_details->'tags'->>0) = 'baby'\n",
    "  and (sku_details->>'kid_friendly')= 'true'\n",
    "  ;\n",
    "\""
   ]
  },
  {
   "attachments": {},
   "cell_type": "markdown",
   "metadata": {},
   "source": [
    "## DML: `insert` a row with a JSONB value\n",
    "You can use an insert statement to add JSON data to a table. You need to provide a table name, a list of columns, and a list of values. The column list must contain the primary key columns for the table and the JSONB column. This includes one or more partition keys and any clustering keys. \n",
    "\n",
    "The JSONB column must be a non-primary key, regular column. The value list must match the column list in terms of both the number of values and the data type. The value of the JSON must be in a valid JSON data format. \n",
    "\n",
    "By default, an insert statement exhibits upsert behavior. An upsert does one of two things. If the row does not exist, it adds a new row to the table. If the row already exists, it updates the existing row. A primary key collision determines that the row already exists. \n",
    "\n",
    "Depending on the application and related drivers, the JSON data may need to include backslash escaping for double quotes and other special characters. \n",
    "\n",
    "Run the following cell to insert a row into the table."
   ]
  },
  {
   "cell_type": "code",
   "execution_count": null,
   "metadata": {
    "vscode": {
     "languageId": "shellscript"
    }
   },
   "outputs": [],
   "source": [
    "%%bash -s \"$NB_YB_PATH_BIN\" \"$NB_DB_NAME\"   # insert\n",
    "YB_PATH=${1}\n",
    "DB_NAME=${2}  \n",
    "cd $YB_PATH\n",
    "\n",
    "# DB_NAME=ks_ybu\n",
    "./ycqlsh -r -k $DB_NAME -e \"\n",
    "  insert into tbl_products_by_category (category, product_name, product_id, brand, price, discount, description, gtin, sku_details) \n",
    "  values ('H20','Talc 10',62373,'Yeah',19.99,7,'2 liter ','006237337326','{\\\"sku\\\":\\\"YH_62373\\\",\\\"country\\\":\\\"UK\\\",\\\"tags\\\":[\\\"water\\\",\\\"bottle\\\",\\\"everyday\\\",\\\"workout\\\"],\\\"colors\\\":[\\\"blue\\\",\\\"green\\\",\\\"orange\\\",\\\"red\\\"],\\\"dimensions\\\":{\\\"dm_unit\\\":\\\"in\\\",\\\"dm_length\\\":\\\"19\\\",\\\"dm_width\\\":\\\"19\\\",\\\"dm_height\\\":\\\"19\\\"}, \\\"kid_friendly\\\":true}');\n",
    " \""
   ]
  },
  {
   "attachments": {},
   "cell_type": "markdown",
   "metadata": {},
   "source": [
    "Confirm the insertion of the new row."
   ]
  },
  {
   "cell_type": "code",
   "execution_count": null,
   "metadata": {
    "vscode": {
     "languageId": "shellscript"
    }
   },
   "outputs": [],
   "source": [
    "%%bash -s \"$NB_YB_PATH_BIN\" \"$NB_DB_NAME\"   # Query plan using key path operators\n",
    "YB_PATH=${1}\n",
    "DB_NAME=${2}  \n",
    "cd $YB_PATH\n",
    "\n",
    "# DB_NAME=ks_ybu\n",
    "./ycqlsh -r -k $DB_NAME -e \"\n",
    "  select category, product_name, product_id, brand, sku_details\n",
    "  from tbl_products_by_category\n",
    "  where (sku_details->>'sku')='YH_62373' \n",
    "  ;\n",
    "\""
   ]
  },
  {
   "attachments": {},
   "cell_type": "markdown",
   "metadata": {},
   "source": [
    "> 🤔 Question:\n",
    ">\n",
    "> What is the order of the keys in the `sku_details` column?\n",
    ">\n",
    "> 🙋 Answer:\n",
    ">\n",
    "> The keys are lexicographically ordered."
   ]
  },
  {
   "attachments": {},
   "cell_type": "markdown",
   "metadata": {},
   "source": [
    "## DML: `update` JSONB with a new key-value pair\n",
    "With an update statement, you can modify a JSONB value for a single row in a table. The update statement requires a table name, a set clause, and a where clause. The set clause specifies the JSONB column to update with a given value. An update statement requires a where clause. The where clause contains a conditional expression. The expression must contain all the primary keys in the table. \n",
    "\n",
    "Using an update statement, the set clause can specify the entire JSON value. You can also use the key path operators in the set clause. With the key path operators, you can either add a new key-value pair to the JSON object or modify an existing value of a key.\n",
    "\n",
    "Run the following to add a new key-value pair."
   ]
  },
  {
   "cell_type": "code",
   "execution_count": null,
   "metadata": {
    "vscode": {
     "languageId": "shellscript"
    }
   },
   "outputs": [],
   "source": [
    "%%bash -s \"$NB_YB_PATH_BIN\" \"$NB_DB_NAME\"   # Update and add new key-value pair\n",
    "YB_PATH=${1}\n",
    "DB_NAME=${2}  \n",
    "cd $YB_PATH\n",
    "\n",
    "# DB_NAME=ks_ybu\n",
    "./ycqlsh -r -k $DB_NAME -e \"\n",
    " update tbl_products_by_category\n",
    "   set sku_details->'rating' = '3'\n",
    "   where category = 'H20'\n",
    "     and product_name = 'Talc 10'\n",
    "     and product_id = 62373 \n",
    "    ;\n",
    " \""
   ]
  },
  {
   "attachments": {},
   "cell_type": "markdown",
   "metadata": {},
   "source": [
    "Confirm the new key-value pair."
   ]
  },
  {
   "cell_type": "code",
   "execution_count": null,
   "metadata": {
    "vscode": {
     "languageId": "shellscript"
    }
   },
   "outputs": [],
   "source": [
    "%%bash -s \"$NB_YB_PATH_BIN\" \"$NB_DB_NAME\"   # Query using key path operators \n",
    "YB_PATH=${1}\n",
    "DB_NAME=${2}  \n",
    "cd $YB_PATH\n",
    "\n",
    "# DB_NAME=ks_ybu\n",
    "./ycqlsh -r -k $DB_NAME -e \"\n",
    "  select category, product_name, product_id, brand, sku_details->'rating' as rating\n",
    "  from tbl_products_by_category\n",
    "  where (sku_details->>'sku')='YH_62373' \n",
    "  ;\n",
    "\""
   ]
  },
  {
   "attachments": {},
   "cell_type": "markdown",
   "metadata": {},
   "source": [
    "## DML: `update` a value for a key in JSONB\n",
    "Using an update statement, the set clause can specify the entire JSON value. You can also use the key path operators in the set clause. With the key path operators, you can either add a new key-value pair to the JSON object or modify an existing value of a key.\n",
    "\n",
    "Run the following to add a modify a value for a key."
   ]
  },
  {
   "cell_type": "code",
   "execution_count": null,
   "metadata": {
    "vscode": {
     "languageId": "shellscript"
    }
   },
   "outputs": [],
   "source": [
    "%%bash -s \"$NB_YB_PATH_BIN\" \"$NB_DB_NAME\"   # Update a value for a key \n",
    "YB_PATH=${1}\n",
    "DB_NAME=${2}  \n",
    "cd $YB_PATH\n",
    "\n",
    "# DB_NAME=ks_ybu\n",
    "./ycqlsh -r -k $DB_NAME -e \"\n",
    " update tbl_products_by_category\n",
    "   set sku_details->'rating' = '5'\n",
    "   where category = 'H20'\n",
    "     and product_name = 'Talc 10'\n",
    "     and product_id = 62373 \n",
    "    ;\n",
    " \""
   ]
  },
  {
   "attachments": {},
   "cell_type": "markdown",
   "metadata": {},
   "source": [
    "Confirm the update."
   ]
  },
  {
   "cell_type": "code",
   "execution_count": null,
   "metadata": {
    "vscode": {
     "languageId": "shellscript"
    }
   },
   "outputs": [],
   "source": [
    "%%bash -s \"$NB_YB_PATH_BIN\" \"$NB_DB_NAME\"   # Query with key path operators\n",
    "YB_PATH=${1}\n",
    "DB_NAME=${2}  \n",
    "cd $YB_PATH\n",
    "\n",
    "# DB_NAME=ks_ybu\n",
    "./ycqlsh -r -k $DB_NAME -e \"\n",
    "  select category, product_name, product_id, brand, sku_details->'rating' as rating\n",
    "  from tbl_products_by_category\n",
    "  where (sku_details->>'sku')='YH_62373' \n",
    "  ;\n",
    "\""
   ]
  },
  {
   "attachments": {},
   "cell_type": "markdown",
   "metadata": {},
   "source": [
    "## DML: `update` the entire JSONB value\n",
    "Using an update statement, the set clause can specify the entire JSON value. \n",
    "\n",
    "Run the following to modify the entire column value."
   ]
  },
  {
   "cell_type": "code",
   "execution_count": null,
   "metadata": {
    "vscode": {
     "languageId": "shellscript"
    }
   },
   "outputs": [],
   "source": [
    "%%bash -s \"$NB_YB_PATH_BIN\" \"$NB_DB_NAME\"   # Update entire row JSONB with escape for double quotes\n",
    "YB_PATH=${1}\n",
    "DB_NAME=${2}  \n",
    "cd $YB_PATH\n",
    "\n",
    "# DB_NAME=ks_ybu\n",
    "./ycqlsh -r -k $DB_NAME -e \"\n",
    "\n",
    "  update tbl_products_by_category\n",
    "   set sku_details = '{\\\"sku\\\":\\\"YH_62373\\\",\\\"country\\\":\\\"UK\\\",\\\"tags\\\":[\\\"water\\\",\\\"bottle\\\",\\\"everyday\\\",\\\"workout\\\"],\\\"colors\\\":[\\\"purple\\\",\\\"green\\\",\\\"orange\\\",\\\"red\\\"],\\\"dimensions\\\":{\\\"dm_unit\\\":\\\"in\\\",\\\"dm_length\\\":\\\"18\\\",\\\"dm_width\\\":\\\"18\\\",\\\"dm_height\\\":\\\"18\\\"}, \\\"kid_friendly\\\":false,  \\\"rating\\\":4}'\n",
    "   where category = 'H20'\n",
    "     and product_name = 'Talc 10'\n",
    "     and product_id = 62373  \n",
    "  ;\n",
    " \""
   ]
  },
  {
   "attachments": {},
   "cell_type": "markdown",
   "metadata": {},
   "source": [
    "Confirm the update. "
   ]
  },
  {
   "cell_type": "code",
   "execution_count": null,
   "metadata": {
    "vscode": {
     "languageId": "shellscript"
    }
   },
   "outputs": [],
   "source": [
    "%%bash -s \"$NB_YB_PATH_BIN\" \"$NB_DB_NAME\"   # Query with key path operators\n",
    "YB_PATH=${1}\n",
    "DB_NAME=${2}  \n",
    "cd $YB_PATH\n",
    "\n",
    "# DB_NAME=ks_ybu\n",
    "./ycqlsh -r -k $DB_NAME -e \"\n",
    "  select category, product_name, product_id, brand, sku_details\n",
    "  from tbl_products_by_category\n",
    "  where (sku_details->>'sku')='YH_62373' \n",
    "  ;\n",
    "\""
   ]
  },
  {
   "attachments": {},
   "cell_type": "markdown",
   "metadata": {},
   "source": [
    "---\n",
    "## Secondary index for JSONB\n",
    "\n",
    "To see how a secondary index for JSONB can improve query performance, begin by creating an query plan for a query that uses a JSONB key path operator in the predicate where expression."
   ]
  },
  {
   "cell_type": "code",
   "execution_count": null,
   "metadata": {
    "vscode": {
     "languageId": "shellscript"
    }
   },
   "outputs": [],
   "source": [
    "%%bash -s \"$NB_YB_PATH_BIN\" \"$NB_DB_NAME\"   # Query plan: Sequential scan  \n",
    "YB_PATH=${1}\n",
    "DB_NAME=${2}  \n",
    "cd $YB_PATH\n",
    "\n",
    "# DB_NAME=ks_ybu\n",
    "./ycqlsh -r -k $DB_NAME -e \"\n",
    "  explain select category, \n",
    "     product_name, \n",
    "     product_id,\n",
    "     brand,\n",
    "     description,\n",
    "     price, \n",
    "     gtin, \n",
    "     sku_details->> 'sku' as sku\n",
    "  from tbl_products_by_category\n",
    "  where\n",
    "    sku_details ->> 'sku' = '?'\n",
    "  ;\n",
    "\""
   ]
  },
  {
   "attachments": {},
   "cell_type": "markdown",
   "metadata": {},
   "source": [
    "A query that results in a sequential scan of a very large table can be very costly in YugabyteDB. For a sequential scan operation, each tablet must perform a seek operation. A seek operation requires CPU, memory, and disk operations. A seek operation consists of reading data from a SST file. The SST file contains the DocKey and document value. \n",
    "\n",
    "Coordinating the tablet operations and gathering tablet results require additional network, CPU, and memory consumption. The topology of a cluster can increase the network latency related to coordinating tablet operations and gathering tablet results. For these reasons, a sequential scan consumes numerous computing resources and often results in very poor query performance, especially for very large tables with billions of rows.\n",
    "\n",
    "> 📝 Note\n",
    ">\n",
    "> Unlike a where expression with a regular data type column, the query plan does note show a *Filter* operation."
   ]
  },
  {
   "attachments": {},
   "cell_type": "markdown",
   "metadata": {},
   "source": [
    "### JSONB index with key path operators\n",
    "For a table with the transactions property enabled, you can create a secondary index for a JSONB column using key path operators. You can only use key path operators for the index key including both the definition of the partition key and any clustering keys. The operators must return a value, not a JSON object. It is not possible to declare a composite partition key. It is also not possible to include a JSONB column in an include column or where expression, even when using key path operators to return a value.\n",
    "\n",
    "Using key path operators, create an index for the required keys in `sku_details`."
   ]
  },
  {
   "attachments": {},
   "cell_type": "markdown",
   "metadata": {},
   "source": [
    "First, drop the index if it exists."
   ]
  },
  {
   "cell_type": "code",
   "execution_count": null,
   "metadata": {
    "vscode": {
     "languageId": "shellscript"
    }
   },
   "outputs": [],
   "source": [
    "%%bash -s \"$NB_YB_PATH_BIN\" \"$NB_DB_NAME\"   # Drop the index \n",
    "YB_PATH=${1}\n",
    "DB_NAME=${2}  \n",
    "cd $YB_PATH\n",
    "\n",
    "# DB_NAME=ks_ybu\n",
    "./ycqlsh -r -k $DB_NAME -e \"\n",
    "  drop index if exists idx_products_by_catgegory_jsonb\n",
    "  ;\n",
    "\""
   ]
  },
  {
   "attachments": {},
   "cell_type": "markdown",
   "metadata": {},
   "source": [
    "Next, create the index."
   ]
  },
  {
   "cell_type": "code",
   "execution_count": null,
   "metadata": {
    "vscode": {
     "languageId": "shellscript"
    }
   },
   "outputs": [],
   "source": [
    "%%bash -s \"$NB_YB_PATH_BIN\" \"$NB_DB_NAME\"   # create the index for jsonb\n",
    "YB_PATH=${1}\n",
    "DB_NAME=${2}  \n",
    "cd $YB_PATH\n",
    "\n",
    "# DB_NAME=ks_ybu\n",
    "./ycqlsh -r -k $DB_NAME -e \"\n",
    "  create index if not exists idx_products_by_catgegory_jsonb\n",
    "  on tbl_products_by_category ( (\n",
    "     sku_details->>'sku'\n",
    "      ) )\n",
    "  include (\n",
    "    brand,\n",
    "    price,\n",
    "    description,\n",
    "    gtin\n",
    "    )\n",
    "  ;\n",
    "\""
   ]
  },
  {
   "attachments": {},
   "cell_type": "markdown",
   "metadata": {},
   "source": [
    "The above index is a covering index for the initial query plan. The term, covering index, describes a secondary index that a query uses to only access the index and not the table. "
   ]
  },
  {
   "attachments": {},
   "cell_type": "markdown",
   "metadata": {},
   "source": [
    "View the query plan again to validate the use of the index."
   ]
  },
  {
   "cell_type": "code",
   "execution_count": null,
   "metadata": {
    "vscode": {
     "languageId": "shellscript"
    }
   },
   "outputs": [],
   "source": [
    "%%bash -s \"$NB_YB_PATH_BIN\" \"$NB_DB_NAME\"   # Query with key path operators uses index\n",
    "YB_PATH=${1}\n",
    "DB_NAME=${2}  \n",
    "cd $YB_PATH\n",
    "\n",
    "# DB_NAME=ks_ybu\n",
    "./ycqlsh -r -k $DB_NAME -e \"\n",
    "  explain select category, \n",
    "     product_name, \n",
    "     product_id,\n",
    "     brand,\n",
    "     description,\n",
    "     price, \n",
    "     gtin, \n",
    "     sku_details->> 'sku' as sku\n",
    "  from tbl_products_by_category\n",
    "  where\n",
    "    sku_details ->> 'sku' = '?'\n",
    "  ;\n",
    "\""
   ]
  },
  {
   "attachments": {},
   "cell_type": "markdown",
   "metadata": {},
   "source": [
    "This query plan contains one node. The action is an index only scan. Key Conditions is a sub-action that specifies the use of the partition key for the index. The equality operator indicates that the internal operation is to locate a specific partition key on a single tablet. The index contains the partition key for the index, the primary key columns of the index table, and any included columns from the index table.\n",
    "\n",
    "A query plan with an index-only-scan operation accesses a single tablet for the index. The seek operation reads data from the SST file for the index tablet. Depending on the number of products for a given brand, there may be multiple seeks. However, because brand is the partition key for this index, the query locates the tablet with the partition key hash almost immediately. The partition key hash for the index is the DocKey hash. The DocKey consists of the index partition key hash, the index partition key, and clustering keys. The clustering keys are the primary key columns of the index table. The DocKey maps to subdocuments. The subdocuments in this example are for the included columns: price and description. Each subdocument contains a column value. The covering index efficiently processes the query.\n",
    "\n",
    "To learn why the secondary index for JSONB is efficient for this query, you can perform an SST dump for the index itself. "
   ]
  },
  {
   "attachments": {},
   "cell_type": "markdown",
   "metadata": {},
   "source": [
    "#### Select a YB-TServer host\n",
    "<a id=\"select-a-yb-tserver-host-1\"> </a>\n",
    "Set the host variable for one of the nodes. All three nodes in the cluster are running a Tablet Server (YB-TServer). You can comment/uncomment lines 7-9 as needed."
   ]
  },
  {
   "cell_type": "code",
   "execution_count": null,
   "metadata": {
    "vscode": {
     "languageId": "shellscript"
    }
   },
   "outputs": [],
   "source": [
    "%%bash -s \"$NB_HOST_IPv4_01\" \"$NB_HOST_IPv4_02\" \"$NB_HOST_IPv4_03\" --out NB_HOST_IPv4\n",
    "HOST_IPv4_01=$( echo \"${1}\" | tr -d \" \")\n",
    "HOST_IPv4_02=$( echo \"${2}\" | tr -d \" \")\n",
    "HOST_IPv4_03=$( echo \"${3}\" | tr -d \" \")\n",
    "\n",
    "# change the hosts for different tablet leaders by commenting out a line and removing a comment for a line\n",
    "MY_HOST_IPv4=$HOST_IPv4_01\n",
    "#MY_HOST_IPv4=$HOST_IPv4_02\n",
    "#MY_HOST_IPv4=$HOST_IPv4_03\n",
    "\n",
    "echo ${MY_HOST_IPv4}"
   ]
  },
  {
   "attachments": {},
   "cell_type": "markdown",
   "metadata": {},
   "source": [
    "Store the select host variable."
   ]
  },
  {
   "cell_type": "code",
   "execution_count": null,
   "metadata": {},
   "outputs": [],
   "source": [
    "%store NB_HOST_IPv4\n",
    "print(NB_HOST_IPv4)"
   ]
  },
  {
   "attachments": {},
   "cell_type": "markdown",
   "metadata": {},
   "source": [
    "Save the `OBJET_NAME` as a variable."
   ]
  },
  {
   "cell_type": "code",
   "execution_count": null,
   "metadata": {},
   "outputs": [],
   "source": [
    "NB_OBJECT_NAME=\"idx_products_by_catgegory_jsonb\"\n",
    "%store NB_OBJECT_NAME\n",
    "print(NB_OBJECT_NAME)"
   ]
  },
  {
   "attachments": {},
   "cell_type": "markdown",
   "metadata": {},
   "source": [
    "Grep the `INDEX_ID` for the index using `curl` and `jq`."
   ]
  },
  {
   "cell_type": "code",
   "execution_count": null,
   "metadata": {
    "vscode": {
     "languageId": "shellscript"
    }
   },
   "outputs": [],
   "source": [
    "%%bash -s \"$NB_OBJECT_NAME\" \"$NB_HOST_IPv4\"  \"$NB_DB_NAME\"  \"$NB_TSERVER_WEBSERVER_PORT\"  --out NB_INDEX_ID\n",
    "OBJECT_NAME=$( echo \"${1}\" | tr -d \" \")\n",
    "HOST_IPv4=$( echo \"${2}\" | tr -d \" \")\n",
    "DB_NAME=$( echo \"${3}\" | tr -d \" \")\n",
    "TSERVER_WEBSERVER_PORT=$( echo \"${4}\" | tr -d \" \")\n",
    "\n",
    "\n",
    "MY_URL=\"http://${HOST_IPv4}:${TSERVER_WEBSERVER_PORT}/metrics\"\n",
    "\n",
    "MY_INDEX_ID=`curl -s --compressed ${MY_URL} | jq -r 'limit(1;  .[] | select(.attributes.namespace_name==\"'${DB_NAME}'\" and .type==\"tablet\" and .attributes.table_name==\"'${OBJECT_NAME}'\") |  .attributes.table_id) '`\n",
    "\n",
    "echo ${MY_INDEX_ID}"
   ]
  },
  {
   "attachments": {},
   "cell_type": "markdown",
   "metadata": {},
   "source": [
    "Store the `INDEX_ID` for the index."
   ]
  },
  {
   "cell_type": "code",
   "execution_count": null,
   "metadata": {},
   "outputs": [],
   "source": [
    "%store NB_INDEX_ID\n",
    "print(NB_INDEX_ID)"
   ]
  },
  {
   "attachments": {},
   "cell_type": "markdown",
   "metadata": {},
   "source": [
    "Get the `TABLET_ID` for the tablet leader for the select node host."
   ]
  },
  {
   "cell_type": "code",
   "execution_count": null,
   "metadata": {
    "vscode": {
     "languageId": "shellscript"
    }
   },
   "outputs": [],
   "source": [
    "%%bash -s \"$NB_OBJECT_NAME\" \"$NB_HOST_IPv4\" --out NB_INDEX_TABLET_ID\n",
    "OBJECT_NAME=$( echo \"${1}\" | tr -d \" \")\n",
    "HOST_IPv4=$( echo \"${2}\" | tr -d \" \")\n",
    "\n",
    "MY_URL=\"http://${HOST_IPv4}:8200/metrics\"\n",
    "\n",
    "MY_INDEX_TABLET_ID=`curl -s --compressed ${MY_URL} | jq --raw-output ' .[] | select(.attributes.namespace_name==\"ks_ybu\" and .type==\"tablet\" and .attributes.table_name==\"'$OBJECT_NAME'\") | {tablet_id: .id, metrics: .metrics[] | select(.name == (\"is_raft_leader\") ) | select(.value == 1) } | select(.tablet_id) | {tablet_id} | .tablet_id '`\n",
    "\n",
    "echo ${MY_INDEX_TABLET_ID}"
   ]
  },
  {
   "attachments": {},
   "cell_type": "markdown",
   "metadata": {},
   "source": [
    "Store the `TABLET_ID` for the tablet leader."
   ]
  },
  {
   "cell_type": "code",
   "execution_count": null,
   "metadata": {},
   "outputs": [],
   "source": [
    "%store NB_INDEX_TABLET_ID\n",
    "print(NB_INDEX_TABLET_ID)"
   ]
  },
  {
   "attachments": {},
   "cell_type": "markdown",
   "metadata": {},
   "source": [
    "Flush the WAL file to a SST file for the given index_id."
   ]
  },
  {
   "cell_type": "code",
   "execution_count": null,
   "metadata": {
    "vscode": {
     "languageId": "shellscript"
    }
   },
   "outputs": [],
   "source": [
    "%%bash -s \"$NB_YB_PATH_BIN\" \"$NB_HOST_IPv4\" \"$NB_INDEX_ID\"  # Import file path of Yugabyte and DB name\n",
    "YB_PATH=$( echo \"${1}\" | tr -d \" \")\n",
    "HOST_IPv4=$( echo \"${2}\" | tr -d \" \")\n",
    "INDEX_ID=$( echo \"${3}\" | tr -d \" \")\n",
    "cd $YB_PATH\n",
    "\n",
    "./yb-admin -init_master_addrs ${HOST_IPv4}:7100 flush_table_by_id ${INDEX_ID} 600"
   ]
  },
  {
   "attachments": {},
   "cell_type": "markdown",
   "metadata": {},
   "source": [
    "Dump and decode the SST file in human-readable form.\n",
    "\n",
    "> 📝 Note\n",
    ">\n",
    "> If the following does **NOT** dump the SST file, it is most likely that there are not any rows written to this tablet. To resolve this issue, you need to select a different Tablet Server host. \n",
    "> \n",
    "> Return back to [Select a YB-TServer host](#select-a-yb-tserver-host-1) and select a different node host by commenting out (add a `#` sign) to line 7 and uncomment out (remove the`#` sign) line 8 or line 9."
   ]
  },
  {
   "cell_type": "code",
   "execution_count": null,
   "metadata": {
    "vscode": {
     "languageId": "shellscript"
    }
   },
   "outputs": [],
   "source": [
    "%%bash -s \"$NB_YB_PATH_BIN\" \"$NB_YB_PATH_DATA\" \"$NB_INDEX_ID\" \"$NB_INDEX_TABLET_ID\" # Import file path of Yugabyte and DB name\n",
    "YB_PATH=$( echo \"${1}\" | tr -d \" \")\n",
    "YB_PATH_DATA=$( echo \"${2}\" | tr -d \" \")\n",
    "INDEX_ID=$( echo \"${3}\" | tr -d \" \")\n",
    "INDEX_TABLET_ID=$( echo \"${4}\" | tr -d \" \")\n",
    "\n",
    "cd $YB_PATH\n",
    "\n",
    "INDEX_ID_PATH=${YB_PATH_DATA}/node1/data/yb-data/tserver/data/rocksdb/table-${INDEX_ID}/tablet-${INDEX_TABLET_ID}\n",
    "\n",
    "# ls -l  ${TABLE_ID_PATH}\n",
    "\n",
    "./sst_dump --command=scan --file=${INDEX_ID_PATH} --output_format=decoded_regulardb "
   ]
  },
  {
   "attachments": {},
   "cell_type": "markdown",
   "metadata": {},
   "source": [
    "> 🤔 Question:\n",
    ">\n",
    "> What is in the DocKey for this index tablet?\n",
    ">\n",
    "> 🙋 Answer:\n",
    ">\n",
    "> The DocKey contains the partition key hash, the partition key, and the clustering keys. The partition key is the `sku` value for the index key path of the JSONB column, `sku_details`. The partition key hash is the hash of this value. The clustering keys are the primary key columns of the index table.\n",
    ">\n",
    ">\n",
    "> 🤔 Question:\n",
    ">\n",
    "> Why does the query plan show an Index Only Scan?\n",
    ">\n",
    "> 🙋 Answer:\n",
    ">\n",
    "> The query plan shows an Index Only Scan because the secondary index covers all the columns in the index. In addition to the index partition key and index table primary key columns, the SST dump of the index shows the included columns. Together, these columns cover the query."
   ]
  },
  {
   "attachments": {},
   "cell_type": "markdown",
   "metadata": {},
   "source": [
    "---\n",
    "# 🌟🌟🌟🌟🌟 All done!\n",
    "\n",
    "You completed this notebook:\n",
    "\n",
    "- JSONB\n",
    "  - Requirements\n",
    "  - JSONB key path operators\n",
    "  - DML: `insert` a row with a JSONB value\n",
    "  - DML: `update` a value for a key in JSONB\n",
    "  - DML: `update` the entire JSONB value\n",
    "  - Secondary index for JSONB\n",
    "\n",
    "And, you completed all the notebooks in this YCQL lab. \n",
    "\n",
    "You are now ready for the YCQL Development Certification exam!\n",
    "\n",
    "\n",
    "## 😊 What's Next ???\n",
    "\n",
    "That's it! \n",
    "\n",
    "You're done, but make sure to give yourself credit. \n",
    "\n",
    "Return to the course player, and mark this lab as complete!\n",
    "\n",
    "> **YugabyteDB YCQL Development**\n",
    ">\n",
    "> Enroll for free at [Yugabyte University](https://university.yugabyte.com/courses/yugabytedb-ycql-development?utm_source=gitpod&utm_medium=notebook).\n",
    ">"
   ]
  }
 ],
 "metadata": {
  "kernelspec": {
   "display_name": "Python 3",
   "language": "python",
   "name": "python3"
  },
  "language_info": {
   "codemirror_mode": {
    "name": "ipython",
    "version": 3
   },
   "file_extension": ".py",
   "mimetype": "text/x-python",
   "name": "python",
   "nbconvert_exporter": "python",
   "pygments_lexer": "ipython3",
   "version": "3.9.6"
  },
  "orig_nbformat": 4,
  "vscode": {
   "interpreter": {
    "hash": "31f2aee4e71d21fbe5cf8b01ff0e069b9275f58929596ceb00d14d90e3e16cd6"
   }
  }
 },
 "nbformat": 4,
 "nbformat_minor": 2
}
