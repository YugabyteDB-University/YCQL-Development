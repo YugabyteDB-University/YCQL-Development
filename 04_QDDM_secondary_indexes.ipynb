{
 "cells": [
  {
   "attachments": {},
   "cell_type": "markdown",
   "metadata": {},
   "source": [
    "<div style=\"width:100%; background-color: #121017;\"><a target=\"_blank\" href=\"http://university.yugabyte.com?utm_source=gitpod&utm_medium=notebook\"><img src=\"assets/YBU_Logo.png\" /></a></div><br>\n",
    "\n",
    "> **YugabyteDB YCQL Development**\n",
    ">\n",
    "> Enroll for free at [Yugabyte University](https://university.yugabyte.com/courses/yugabytedb-ycql-development?utm_source=gitpod&utm_medium=notebook).\n",
    ">\n",
    "<br>\n",
    "This notebook file is:\n",
    "\n",
    "`04_QDDM_secondary_indexes.ipynb`\n",
    "\n"
   ]
  },
  {
   "cell_type": "markdown",
   "metadata": {},
   "source": [
    "# Secondary indexes\n",
    " A secondary index is a data structure that contains some of the columns of the index table and an index key that supports one or more data access patterns. In this notebook, you will learn how to create secondary indexes to not only improve query performance, but also remove unnecessary tables from the data model."
   ]
  },
  {
   "attachments": {},
   "cell_type": "markdown",
   "metadata": {},
   "source": [
    "## 🛠️ Requirements\n",
    "Here are the requirements for this notebook:\n",
    "- ✅ Create the notebook variables in `01_Introduction.ipynb`, which you did previously\n",
    "- ✅ Create the `ks_ybu` keyspace in `02_Language_fundamentals.ipynb`, which you did previously\n",
    "- ✅ Complete `03_QDDM_query_plans.ipynb`, which you did previously\n",
    "- ☑️ Select the **Python 3.11.8** for the notebook, *which you need to select right now!!!*\n",
    "- ☑️ Import the notebook variables, *which you must do next*\n",
    "- ☑️ Confirm that the existence of the `ks_ybu` keyspace and the child tables, *which you must do next*"
   ]
  },
  {
   "attachments": {},
   "cell_type": "markdown",
   "metadata": {},
   "source": [
    "### Select your notebook kernel\n",
    "- In the Notebook toolbar, click **Select Kernel**.\n",
    "<br>\n",
    "<img width=50% src=\"assets/01_01_Select_Kernel_Toolbar.png\" />\n",
    "\n",
    "- Next, in the dropdown, select **Python 3.11.8**.\n",
    "<br>\n",
    "<img width=50% src=\"assets/01_02_Select_Kernel_Dropdown.png\" />\n",
    "\n",
    "> 👉 **IMPORTANT!** 👈\n",
    "> \n",
    "> You must select Python **Python 3.11.8**. \n",
    "> \n",
    "> Do **NOT** select _Python 3.12_ or higher!!! \n",
    ">\n",
    "\n",
    "\n",
    "That's it!"
   ]
  },
  {
   "cell_type": "markdown",
   "metadata": {},
   "source": [
    "## ⛑️ Getting help\n",
    "The best way to get help from the Yugabyte University team is to post your question on YugabyteDB Community Slack in the #training channels. To sign up, visit [YugabyteDB Community Slack](https://join.slack.com/t/yugabyte-db/shared_invite/zt-xbd652e9-3tN0N7UG0eLpsace4t1d2A?utm_source=gitpod&utm_medium=notebook)."
   ]
  },
  {
   "cell_type": "markdown",
   "metadata": {},
   "source": [
    "## 👣 Setup steps\n",
    "Here are the steps to setup this lab:\n",
    "- Create the notebook styles\n",
    "- Import the notebook variables"
   ]
  },
  {
   "cell_type": "markdown",
   "metadata": {},
   "source": [
    "### 👇 Create the notebook styles"
   ]
  },
  {
   "cell_type": "code",
   "execution_count": null,
   "metadata": {},
   "outputs": [],
   "source": [
    "from IPython.core.display import HTML\n",
    "def css_styling():\n",
    "    styles = open(\"./styles/custom.css\", \"r\").read()\n",
    "    return HTML(styles)\n",
    "css_styling()"
   ]
  },
  {
   "cell_type": "markdown",
   "metadata": {},
   "source": [
    "### 👇 Create the notebook variables \n",
    "\n",
    "> 👉 **IMPORTANT!** 👈\n",
    "> \n",
    "> Do **NOT** skip running this cell. \n",
    "> \n",
    "\n",
    "The following Python cell creates and stores variables that all the notebooks in this lab will use. You can view these variables in the Jupyter tab.\n",
    "\n",
    "- To run the script, select Execute Cell (Play Arrow) in the left gutter of the cell.\n",
    "- Verify the accuracy of the output values\n",
    "\n",
    "👇 👇 👇 "
   ]
  },
  {
   "cell_type": "code",
   "execution_count": null,
   "metadata": {},
   "outputs": [],
   "source": [
    "# Use %store -r to read 01_Lab_Setup variables\n",
    "%store -r"
   ]
  },
  {
   "attachments": {},
   "cell_type": "markdown",
   "metadata": {},
   "source": [
    "### Confirm the existence of the  `ks_ybu` keyspace and the child tables\n",
    "You created...\n",
    "- the keyspace in the `02_Language_fundamentals.ipynb` notebook\n",
    "- tables in the  `03_QDDM_query_plans.ipynb` notebook\n",
    "\n",
    "Run the following cell to describe the keyspace."
   ]
  },
  {
   "cell_type": "code",
   "execution_count": null,
   "metadata": {
    "vscode": {
     "languageId": "shellscript"
    }
   },
   "outputs": [],
   "source": [
    "%%bash -s \"$NB_YB_PATH_BIN\"  \"$NB_DB_NAME\" # describe the keyspace, ks_ybu\n",
    "YB_PATH=${1}\n",
    "DB_NAME=${2}\n",
    "\n",
    "cd $YB_PATH\n",
    "\n",
    "# DB_NAME=ks_ybu\n",
    "./ycqlsh -r -e \"\n",
    "  describe keyspace $DB_NAME;\n",
    "\""
   ]
  },
  {
   "attachments": {},
   "cell_type": "markdown",
   "metadata": {},
   "source": [
    "> 🤔 Question:\n",
    ">  \n",
    "> Does the `ks_ybu` keyspace exist?\n",
    "> \n",
    "> If not, go back to the  `02_Language_fundamentals.ipynb` notebook and create the `ks_ybu` keyspace!\n",
    ">\n",
    "\n",
    "> 🤔 Question:\n",
    ">  \n",
    "> Does the `ks_ybu` keyspace have tables for products and wishlists?\n",
    "> \n",
    "> If not, go back to the `03_QDDM_query_plans.ipynb` notebook and create the tables!"
   ]
  },
  {
   "attachments": {},
   "cell_type": "markdown",
   "metadata": {},
   "source": [
    "---\n",
    "## Secondary index: `Index Scan` query plan\n",
    "A secondary index is a data structure that often contains some of the columns of the index table and an index key that supports one or more data access patterns. You can often create a secondary index so that a given query plan uses the secondary index.\n",
    "\n",
    "An `index scan` query plan uses a secondary index. However, after accessing the index, the query accesses the index table. This type of query plan is often better than a `sequence scan` query plan.\n",
    "\n",
    "To begin, examine the query plan without the implementation of a secondary index."
   ]
  },
  {
   "cell_type": "code",
   "execution_count": null,
   "metadata": {
    "vscode": {
     "languageId": "shellscript"
    }
   },
   "outputs": [],
   "source": [
    "%%bash -s \"$NB_YB_PATH_BIN\" \"$NB_DB_NAME\"   # new query plan\n",
    "YB_PATH=${1}\n",
    "DB_NAME=${2}  \n",
    "cd $YB_PATH\n",
    "\n",
    "./ycqlsh -r -k $DB_NAME -e \"\n",
    "  select  category, brand, product_name, description, product_id \n",
    "  from tbl_products_by_category \n",
    "  where brand='Bear';\n",
    "\"  \n",
    "\n",
    "./ycqlsh -r -k $DB_NAME -e \"\n",
    "  explain select  category, brand, product_name, description, product_id \n",
    "  from tbl_products_by_category \n",
    "  where brand=?;\n",
    "\"  "
   ]
  },
  {
   "attachments": {},
   "cell_type": "markdown",
   "metadata": {},
   "source": [
    "The query plan reveals that the query uses a sequence scan."
   ]
  },
  {
   "attachments": {},
   "cell_type": "markdown",
   "metadata": {},
   "source": [
    "### Create the secondary index\n",
    "\n",
    "> 👉 **IMPORTANT!** 👈\n",
    ">\n",
    "> You can only create a secondary index for a table with the `transactions` property enabled.\n",
    "> \n",
    "\n",
    "To begin, drop the secondary index if it exists."
   ]
  },
  {
   "cell_type": "code",
   "execution_count": null,
   "metadata": {
    "vscode": {
     "languageId": "shellscript"
    }
   },
   "outputs": [],
   "source": [
    "%%bash -s \"$NB_YB_PATH_BIN\" \"$NB_DB_NAME\"   # drop if index exists\n",
    "YB_PATH=${1}\n",
    "DB_NAME=${2}  \n",
    "cd $YB_PATH\n",
    "\n",
    "\n",
    "./ycqlsh -r -k $DB_NAME -e \"\n",
    "  drop index if exists idx_products_by_category_brand;\n",
    "\"\n",
    "\n",
    "sleep 1;"
   ]
  },
  {
   "attachments": {},
   "cell_type": "markdown",
   "metadata": {},
   "source": [
    "Run the following cell to create an index by describing the `tbl_products_by_category` table."
   ]
  },
  {
   "cell_type": "code",
   "execution_count": null,
   "metadata": {
    "vscode": {
     "languageId": "shellscript"
    }
   },
   "outputs": [],
   "source": [
    "%%bash -s \"$NB_YB_PATH_BIN\" \"$NB_DB_NAME\"   # create the secondary index\n",
    "YB_PATH=${1}\n",
    "DB_NAME=${2}  \n",
    "cd $YB_PATH\n",
    "\n",
    "\n",
    "./ycqlsh -r -k $DB_NAME -e \"\n",
    "  create index if not exists idx_products_by_category_brand \n",
    "  on tbl_products_by_category (brand);\n",
    "\""
   ]
  },
  {
   "attachments": {},
   "cell_type": "markdown",
   "metadata": {},
   "source": [
    "Use the `describe` keyword  to verify if the index was created for the given table. \n"
   ]
  },
  {
   "cell_type": "code",
   "execution_count": null,
   "metadata": {
    "vscode": {
     "languageId": "shellscript"
    }
   },
   "outputs": [],
   "source": [
    "%%bash -s \"$NB_YB_PATH_BIN\" \"$NB_DB_NAME\"   # describe table to view index\n",
    "YB_PATH=${1}\n",
    "DB_NAME=${2}  \n",
    "cd $YB_PATH\n",
    "\n",
    "./ycqlsh -r -k $DB_NAME -e \"\n",
    "  describe tbl_products_by_category;\n",
    "\""
   ]
  },
  {
   "attachments": {},
   "cell_type": "markdown",
   "metadata": {},
   "source": [
    "The index key consists of a partition key and zero or more clustering keys. In the previous example, you can see that the index key is `brand`. The index inherits the primary key from the index table. The clustering keys are `category`,`product_name`, and `product_id`. "
   ]
  },
  {
   "attachments": {},
   "cell_type": "markdown",
   "metadata": {},
   "source": [
    "### Index backfill\n",
    "By default, YugabyteDB will automatically backfill an index. You can check the status of the index backfill operation using the YB-Master web ui at `http://yb-master-url:7000/tasks`. You can also grep the html output of the web ui. "
   ]
  },
  {
   "cell_type": "code",
   "execution_count": null,
   "metadata": {
    "vscode": {
     "languageId": "shellscript"
    }
   },
   "outputs": [],
   "source": [
    "%%bash -s \"$NB_HOST_IPv4_01\" \n",
    "HOST_IPv4=$( echo \"${1}\" | tr -d \" \")\n",
    "MY_URL=\"http://${HOST_IPv4}:7000/tasks\"\n",
    "\n",
    "curl -s  ${MY_URL} | html2text"
   ]
  },
  {
   "attachments": {},
   "cell_type": "markdown",
   "metadata": {},
   "source": [
    "There are multiple tasks associated with the creation of the index. For an index on a very large table, you will want to check for these task names associated with the given index:\n",
    "- `Backfill Table` or  `Backfill Index Table` \n",
    "- `Mark backfill done.`\n",
    "\n",
    "\n",
    "> 👉 **IMPORTANT!** 👈\n",
    ">\n",
    "> In certain cases, the backfill may fail. \n",
    ">\n",
    "> The state will show `kFailed` instead of `kComplete`.\n",
    "> "
   ]
  },
  {
   "attachments": {},
   "cell_type": "markdown",
   "metadata": {},
   "source": [
    "### View the query plan for the secondary index\n",
    "Run the following cell to verify if adding a secondary index for the `brand` can make the product_name query on the `tbl_products_by_category` more efficient."
   ]
  },
  {
   "cell_type": "code",
   "execution_count": null,
   "metadata": {
    "vscode": {
     "languageId": "shellscript"
    }
   },
   "outputs": [],
   "source": [
    "%%bash -s \"$NB_YB_PATH_BIN\" \"$NB_DB_NAME\"   # new query plan\n",
    "YB_PATH=${1}\n",
    "DB_NAME=${2}  \n",
    "cd $YB_PATH\n",
    "\n",
    "./ycqlsh -r -k $DB_NAME -e \"\n",
    "  explain select  category, brand, product_name, description, product_id \n",
    "  from tbl_products_by_category \n",
    "  where brand = 'Bear';\n",
    "\"  \n",
    "\n",
    "./ycqlsh -r -k $DB_NAME -e \"\n",
    "  explain select  category, brand, product_name, description, product_id \n",
    "  from tbl_products_by_category \n",
    "  where brand = ?;\n",
    "\"  "
   ]
  },
  {
   "attachments": {},
   "cell_type": "markdown",
   "metadata": {},
   "source": [
    "#### `Index Scan`\n",
    "With the introduction of a secondary index for the table, there is a new query plan. This query plan contains one node. The action is an index scan. Key Conditions is a sub-action that specifies the use of the partition key for the index. The index contains the partition key for the index and the primary key columns of the index table. After accessing the index, the query accesses the table. The table contains the description column. The action to access the index table is similar to a primary key lookup. Since the index contains the primary key columns, the query is able to lookup the rows in the table using the primary key values."
   ]
  },
  {
   "attachments": {},
   "cell_type": "markdown",
   "metadata": {},
   "source": [
    "### Index tablet and `index scan` query\n",
    "YugabyteDB stores a secondary index in the same way as it does for a table. A secondary index exists as tablets. The data structure is also similar. It is DocDB. "
   ]
  },
  {
   "attachments": {},
   "cell_type": "markdown",
   "metadata": {},
   "source": [
    "#### Select a YB-TServer host\n",
    "<a id=\"select-a-yb-tserver-host-1\"> </a>\n",
    "Set the host variable for one of the nodes. All three nodes in the cluster are running a Tablet Server (YB-TServer). You can comment/uncomment lines 7-9 as needed."
   ]
  },
  {
   "cell_type": "code",
   "execution_count": null,
   "metadata": {
    "vscode": {
     "languageId": "shellscript"
    }
   },
   "outputs": [],
   "source": [
    "%%bash -s \"$NB_HOST_IPv4_01\" \"$NB_HOST_IPv4_02\" \"$NB_HOST_IPv4_03\" --out NB_HOST_IPv4\n",
    "HOST_IPv4_01=$( echo \"${1}\" | tr -d \" \")\n",
    "HOST_IPv4_02=$( echo \"${2}\" | tr -d \" \")\n",
    "HOST_IPv4_03=$( echo \"${3}\" | tr -d \" \")\n",
    "\n",
    "# change the hosts for different tablet leaders\n",
    "MY_HOST_IPv4=$HOST_IPv4_01\n",
    "#MY_HOST_IPv4=$HOST_IPv4_02\n",
    "#MY_HOST_IPv4=$HOST_IPv4_03\n",
    "\n",
    "echo ${MY_HOST_IPv4}"
   ]
  },
  {
   "attachments": {},
   "cell_type": "markdown",
   "metadata": {},
   "source": [
    "Store the select host variable."
   ]
  },
  {
   "cell_type": "code",
   "execution_count": null,
   "metadata": {},
   "outputs": [],
   "source": [
    "%store NB_HOST_IPv4\n",
    "print(NB_HOST_IPv4)"
   ]
  },
  {
   "attachments": {},
   "cell_type": "markdown",
   "metadata": {},
   "source": [
    "Save the `OBJECT_NAME` as a variable."
   ]
  },
  {
   "cell_type": "code",
   "execution_count": null,
   "metadata": {},
   "outputs": [],
   "source": [
    "NB_OBJECT_NAME=\"idx_products_by_category_brand\"\n",
    "%store NB_OBJECT_NAME\n",
    "print(NB_OBJECT_NAME)"
   ]
  },
  {
   "attachments": {},
   "cell_type": "markdown",
   "metadata": {},
   "source": [
    "Grep the `INDEX_ID` for the index using `curl` and `jq`."
   ]
  },
  {
   "cell_type": "code",
   "execution_count": null,
   "metadata": {
    "vscode": {
     "languageId": "shellscript"
    }
   },
   "outputs": [],
   "source": [
    "%%bash -s \"$NB_OBJECT_NAME\" \"$NB_HOST_IPv4\"  \"$NB_DB_NAME\"  \"$NB_TSERVER_WEBSERVER_PORT\"  --out NB_INDEX_ID\n",
    "OBJECT_NAME=$( echo \"${1}\" | tr -d \" \")\n",
    "HOST_IPv4=$( echo \"${2}\" | tr -d \" \")\n",
    "DB_NAME=$( echo \"${3}\" | tr -d \" \")\n",
    "TSERVER_WEBSERVER_PORT=$( echo \"${4}\" | tr -d \" \")\n",
    "\n",
    "MY_URL=\"http://${HOST_IPv4}:${TSERVER_WEBSERVER_PORT}/metrics\"\n",
    "\n",
    "MY_INDEX_ID=`curl -s --compressed ${MY_URL} | jq -r 'limit(1;  .[] | select(.attributes.namespace_name==\"'${DB_NAME}'\" and .type==\"tablet\" and .attributes.table_name==\"'${OBJECT_NAME}'\") |  .attributes.table_id) '`\n",
    "\n",
    "echo ${MY_INDEX_ID}"
   ]
  },
  {
   "attachments": {},
   "cell_type": "markdown",
   "metadata": {},
   "source": [
    "Store the `INDEX_ID` for the index."
   ]
  },
  {
   "cell_type": "code",
   "execution_count": null,
   "metadata": {},
   "outputs": [],
   "source": [
    "%store NB_INDEX_ID\n",
    "print(NB_INDEX_ID)"
   ]
  },
  {
   "attachments": {},
   "cell_type": "markdown",
   "metadata": {},
   "source": [
    "Get the `TABLET_ID` for the tablet leader for the select node host."
   ]
  },
  {
   "cell_type": "code",
   "execution_count": null,
   "metadata": {
    "vscode": {
     "languageId": "shellscript"
    }
   },
   "outputs": [],
   "source": [
    "%%bash -s \"$NB_OBJECT_NAME\" \"$NB_HOST_IPv4\" --out NB_INDEX_TABLET_ID\n",
    "OBJECT_NAME=$( echo \"${1}\" | tr -d \" \")\n",
    "HOST_IPv4=$( echo \"${2}\" | tr -d \" \")\n",
    "\n",
    "MY_URL=\"http://${HOST_IPv4}:8200/metrics\"\n",
    "\n",
    "MY_INDEX_TABLET_ID=`curl -s --compressed ${MY_URL} | jq --raw-output ' .[] | select(.attributes.namespace_name==\"ks_ybu\" and .type==\"tablet\" and .attributes.table_name==\"'$OBJECT_NAME'\") | {tablet_id: .id, metrics: .metrics[] | select(.name == (\"is_raft_leader\") ) | select(.value == 1) } | select(.tablet_id) | {tablet_id} | .tablet_id '`\n",
    "\n",
    "echo ${MY_INDEX_TABLET_ID}"
   ]
  },
  {
   "attachments": {},
   "cell_type": "markdown",
   "metadata": {},
   "source": [
    "Store the `TABLET_ID` for the tablet leader."
   ]
  },
  {
   "cell_type": "code",
   "execution_count": null,
   "metadata": {
    "vscode": {
     "languageId": "shellscript"
    }
   },
   "outputs": [],
   "source": []
  },
  {
   "cell_type": "code",
   "execution_count": null,
   "metadata": {
    "vscode": {
     "languageId": "shellscript"
    }
   },
   "outputs": [],
   "source": []
  },
  {
   "cell_type": "code",
   "execution_count": null,
   "metadata": {},
   "outputs": [],
   "source": [
    "%store NB_INDEX_TABLET_ID\n",
    "print(NB_INDEX_TABLET_ID)"
   ]
  },
  {
   "attachments": {},
   "cell_type": "markdown",
   "metadata": {},
   "source": [
    "Flush the WAL file to a SST file for the given index_id."
   ]
  },
  {
   "cell_type": "code",
   "execution_count": null,
   "metadata": {
    "vscode": {
     "languageId": "shellscript"
    }
   },
   "outputs": [],
   "source": [
    "%%bash -s \"$NB_YB_PATH_BIN\" \"$NB_HOST_IPv4\" \"$NB_INDEX_ID\"  # Import file path of Yugabyte and DB name\n",
    "YB_PATH=$( echo \"${1}\" | tr -d \" \")\n",
    "HOST_IPv4=$( echo \"${2}\" | tr -d \" \")\n",
    "INDEX_ID=$( echo \"${3}\" | tr -d \" \")\n",
    "cd $YB_PATH\n",
    "\n",
    "./yb-admin -init_master_addrs ${HOST_IPv4}:7100 flush_table_by_id ${INDEX_ID} 600"
   ]
  },
  {
   "attachments": {},
   "cell_type": "markdown",
   "metadata": {},
   "source": [
    "Dump and decode the SST file in human-readable form.\n",
    "\n",
    "> 📝 Note\n",
    ">\n",
    "> If the following does **NOT** dump the SST file, it is most likely that there are not any rows written to this tablet. To resolve this issue, you need to select a different Tablet Server host. \n",
    "> \n",
    "> Return back to [Select a YB-TServer host](#select-a-yb-tserver-host-1) and select a different node host by commenting out (add a `#` sign) to line 7 and uncomment out (remove the`#` sign) line 8 or line 9."
   ]
  },
  {
   "cell_type": "code",
   "execution_count": null,
   "metadata": {
    "vscode": {
     "languageId": "shellscript"
    }
   },
   "outputs": [],
   "source": [
    "%%bash -s \"$NB_YB_PATH_BIN\" \"$NB_YB_PATH_DATA\" \"$NB_INDEX_ID\" \"$NB_INDEX_TABLET_ID\" # Import file path of Yugabyte and DB name\n",
    "YB_PATH=$( echo \"${1}\" | tr -d \" \")\n",
    "YB_PATH_DATA=$( echo \"${2}\" | tr -d \" \")\n",
    "INDEX_ID=$( echo \"${3}\" | tr -d \" \")\n",
    "INDEX_TABLET_ID=$( echo \"${4}\" | tr -d \" \")\n",
    "\n",
    "cd $YB_PATH/\n",
    "\n",
    "INDEX_ID_PATH=${YB_PATH_DATA}/node1/data/yb-data/tserver/data/rocksdb/table-${INDEX_ID}/tablet-${INDEX_TABLET_ID}\n",
    "\n",
    "\n",
    "./sst_dump --command=scan --file=${INDEX_ID_PATH} --output_format=decoded_regulardb "
   ]
  },
  {
   "attachments": {},
   "cell_type": "markdown",
   "metadata": {},
   "source": [
    "The DocKey consists of the partition key hash, the partition key, and the clustering keys. \n",
    "\n",
    "The index scan query begins by accessing a single tablet for the index. The seek operation reads data from the SST file for the index tablet using the partition key hash. Because the brand column contains non-unique values, there may be multiple seeks in the related SST file. The seek operation gathers the DocKeys. The DocKeys contains the primary key values for the index table. Using this list, a second operation accesses the index table tablets. \n",
    "\n",
    "When there is more than a single index table tablet, this is a batch operation. Often, the index and table tablets reside on different nodes. This means that the batch operation requires at least one or more remote procedure calls to one or more nodes in the cluster. The goal with the batch operation is to optimize the number of seek operations for a given table tablet by using a list of primary keys that fall within the tablet hash value range. Although this query is not as costly as a sequential scan query, it does require accessing one index tablet and at least one tablet for the index table. "
   ]
  },
  {
   "attachments": {},
   "cell_type": "markdown",
   "metadata": {},
   "source": [
    "## Secondary index: `Index Only Scan` query plan\n",
    "\n",
    "The previous index required the query to access both the tablets for the index and for the table. A covering index only utilizes the index itself for the query. The term, covering index, describes a secondary index that a query uses to only access the index and not the index table. \n",
    " \n",
    "You can define one or more `include` columns to cover a query with the index alone.  There are some restrictions for defining an `include` column in a secondary index. The `include` column needs to be a column with a basic data type."
   ]
  },
  {
   "attachments": {},
   "cell_type": "markdown",
   "metadata": {},
   "source": [
    "### Create the secondary index\n",
    "\n",
    "To begin, drop the secondary index if it exists."
   ]
  },
  {
   "cell_type": "code",
   "execution_count": null,
   "metadata": {
    "vscode": {
     "languageId": "shellscript"
    }
   },
   "outputs": [],
   "source": [
    "%%bash -s \"$NB_YB_PATH_BIN\" \"$NB_DB_NAME\"   # drop secondary index\n",
    "YB_PATH=${1}\n",
    "DB_NAME=${2}  \n",
    "cd $YB_PATH\n",
    "\n",
    "./ycqlsh -r -k $DB_NAME -e \"\n",
    "  drop index if exists idx_products_by_category_brand_inc;\n",
    "\"\n",
    "\n",
    "sleep 1;"
   ]
  },
  {
   "attachments": {},
   "cell_type": "markdown",
   "metadata": {},
   "source": [
    "Run the following cell to create the index the uses the `include` clause."
   ]
  },
  {
   "cell_type": "code",
   "execution_count": null,
   "metadata": {
    "vscode": {
     "languageId": "shellscript"
    }
   },
   "outputs": [],
   "source": [
    "%%bash -s \"$NB_YB_PATH_BIN\" \"$NB_DB_NAME\"   # create secondary index\n",
    "YB_PATH=${1}\n",
    "DB_NAME=${2}  \n",
    "cd $YB_PATH\n",
    "\n",
    "./ycqlsh -r -k $DB_NAME -e \"\n",
    "  create index if not exists idx_products_by_category_brand_inc \n",
    "    on tbl_products_by_category (brand) \n",
    "    include (description);\n",
    "\""
   ]
  },
  {
   "attachments": {},
   "cell_type": "markdown",
   "metadata": {},
   "source": [
    "Use the `describe` keyword  to verify if the index was created for the given table. \n"
   ]
  },
  {
   "cell_type": "code",
   "execution_count": null,
   "metadata": {
    "vscode": {
     "languageId": "shellscript"
    }
   },
   "outputs": [],
   "source": [
    "%%bash -s \"$NB_YB_PATH_BIN\" \"$NB_DB_NAME\"   # describe table to view index\n",
    "YB_PATH=${1}\n",
    "DB_NAME=${2}  \n",
    "cd $YB_PATH\n",
    "\n",
    "./ycqlsh -r -k $DB_NAME -e \"\n",
    "  describe tbl_products_by_category;\n",
    "\""
   ]
  },
  {
   "attachments": {},
   "cell_type": "markdown",
   "metadata": {},
   "source": [
    "There are now two indexes for the table. \n",
    "\n",
    "The index key for the `idx_products_by_category_brand_inc` index consists of a partition key and zero or more clustering keys.  The the index key is `brand`. The clustering keys are `category`, `product_name`, and `product_id`.  In addition, the `description` column is added to the index. This helps cover a query using this index alone.\n"
   ]
  },
  {
   "attachments": {},
   "cell_type": "markdown",
   "metadata": {},
   "source": [
    "### View the query plan that uses the covering index\n",
    "Run the following to view the plan."
   ]
  },
  {
   "cell_type": "code",
   "execution_count": null,
   "metadata": {
    "vscode": {
     "languageId": "shellscript"
    }
   },
   "outputs": [],
   "source": [
    "%%bash -s \"$NB_YB_PATH_BIN\" \"$NB_DB_NAME\"   # new query plan\n",
    "YB_PATH=${1}\n",
    "DB_NAME=${2}  \n",
    "cd $YB_PATH\n",
    "\n",
    "./ycqlsh -r -k $DB_NAME -e \"\n",
    "  select  category, brand, product_name, description, product_id \n",
    "  from tbl_products_by_category \n",
    "  where brand = 'Bear';\n",
    "\"  \n",
    "\n",
    "./ycqlsh -r -k $DB_NAME -e \"\n",
    "  explain select  category, brand, product_name, description, product_id \n",
    "  from tbl_products_by_category \n",
    "  where brand = ?;\n",
    "\"  "
   ]
  },
  {
   "attachments": {},
   "cell_type": "markdown",
   "metadata": {},
   "source": [
    "#### `Index Only Scan`\n",
    "The introduction of a new covering index results in a new query plan. This query plan contains one node. The action is an `index only scan`. Key Conditions is a sub-action that specifies the use of the partition key for the index. The equality operator indicates that the internal operation is to locate a specific partition key on a single tablet. The index contains the partition key for the index, the primary key columns of the index table, and any `include` columns from the index table. In this example, the `include` column is the description column from the index table."
   ]
  },
  {
   "attachments": {},
   "cell_type": "markdown",
   "metadata": {},
   "source": [
    "### Index tablet and `index only scan` query\n",
    "To learn more about why this is an  `index only scan` query, take a look at the SST files for an index tablet."
   ]
  },
  {
   "attachments": {},
   "cell_type": "markdown",
   "metadata": {},
   "source": [
    "#### Select a YB-TServer host\n",
    "<a id=\"select-a-yb-tserver-host-2\"> </a>\n",
    "Set the host variable for one of the nodes. All three nodes in the cluster are running a Tablet Server (YB-TServer). You can comment/uncomment lines 7-9 as needed."
   ]
  },
  {
   "cell_type": "code",
   "execution_count": null,
   "metadata": {
    "vscode": {
     "languageId": "shellscript"
    }
   },
   "outputs": [],
   "source": [
    "%%bash -s \"$NB_HOST_IPv4_01\" \"$NB_HOST_IPv4_02\" \"$NB_HOST_IPv4_03\" --out NB_HOST_IPv4\n",
    "HOST_IPv4_01=$( echo \"${1}\" | tr -d \" \")\n",
    "HOST_IPv4_02=$( echo \"${2}\" | tr -d \" \")\n",
    "HOST_IPv4_03=$( echo \"${3}\" | tr -d \" \")\n",
    "\n",
    "# change the hosts for different tablet leaders\n",
    "MY_HOST_IPv4=$HOST_IPv4_01\n",
    "#MY_HOST_IPv4=$HOST_IPv4_02\n",
    "#MY_HOST_IPv4=$HOST_IPv4_03\n",
    "\n",
    "echo ${MY_HOST_IPv4}"
   ]
  },
  {
   "attachments": {},
   "cell_type": "markdown",
   "metadata": {},
   "source": [
    "Store the select host variable."
   ]
  },
  {
   "cell_type": "code",
   "execution_count": null,
   "metadata": {},
   "outputs": [],
   "source": [
    "%store NB_HOST_IPv4\n",
    "print(NB_HOST_IPv4)"
   ]
  },
  {
   "attachments": {},
   "cell_type": "markdown",
   "metadata": {},
   "source": [
    "Save the `OBJECT_NAME` as a variable."
   ]
  },
  {
   "cell_type": "code",
   "execution_count": null,
   "metadata": {},
   "outputs": [],
   "source": [
    "NB_OBJECT_NAME=\"idx_products_by_category_brand_inc\"\n",
    "%store NB_OBJECT_NAME\n",
    "print(NB_OBJECT_NAME)"
   ]
  },
  {
   "attachments": {},
   "cell_type": "markdown",
   "metadata": {},
   "source": [
    "Grep the `INDEX_ID` for the index using `curl` and `jq`."
   ]
  },
  {
   "cell_type": "code",
   "execution_count": null,
   "metadata": {
    "vscode": {
     "languageId": "shellscript"
    }
   },
   "outputs": [],
   "source": [
    "%%bash -s \"$NB_OBJECT_NAME\" \"$NB_HOST_IPv4\"  \"$NB_DB_NAME\"  \"$NB_TSERVER_WEBSERVER_PORT\"  --out NB_INDEX_ID\n",
    "OBJECT_NAME=$( echo \"${1}\" | tr -d \" \")\n",
    "HOST_IPv4=$( echo \"${2}\" | tr -d \" \")\n",
    "DB_NAME=$( echo \"${3}\" | tr -d \" \")\n",
    "TSERVER_WEBSERVER_PORT=$( echo \"${4}\" | tr -d \" \")\n",
    "\n",
    "\n",
    "MY_URL=\"http://${HOST_IPv4}:${TSERVER_WEBSERVER_PORT}/metrics\"\n",
    "\n",
    "MY_INDEX_ID=`curl -s --compressed ${MY_URL} | jq -r 'limit(1;  .[] | select(.attributes.namespace_name==\"'${DB_NAME}'\" and .type==\"tablet\" and .attributes.table_name==\"'${OBJECT_NAME}'\") |  .attributes.table_id) '`\n",
    "\n",
    "echo ${MY_INDEX_ID}"
   ]
  },
  {
   "attachments": {},
   "cell_type": "markdown",
   "metadata": {},
   "source": [
    "Store the `INDEX_ID` for the index."
   ]
  },
  {
   "cell_type": "code",
   "execution_count": null,
   "metadata": {},
   "outputs": [],
   "source": [
    "%store NB_INDEX_ID\n",
    "print(NB_INDEX_ID)"
   ]
  },
  {
   "attachments": {},
   "cell_type": "markdown",
   "metadata": {},
   "source": [
    "Get the `TABLET_ID` for the tablet leader for the select node host."
   ]
  },
  {
   "cell_type": "code",
   "execution_count": null,
   "metadata": {
    "vscode": {
     "languageId": "shellscript"
    }
   },
   "outputs": [],
   "source": [
    "%%bash -s \"$NB_OBJECT_NAME\" \"$NB_HOST_IPv4\" --out NB_INDEX_TABLET_ID\n",
    "OBJECT_NAME=$( echo \"${1}\" | tr -d \" \")\n",
    "HOST_IPv4=$( echo \"${2}\" | tr -d \" \")\n",
    "\n",
    "MY_URL=\"http://${HOST_IPv4}:8200/metrics\"\n",
    "\n",
    "MY_INDEX_TABLET_ID=`curl -s --compressed ${MY_URL} | jq --raw-output ' .[] | select(.attributes.namespace_name==\"ks_ybu\" and .type==\"tablet\" and .attributes.table_name==\"'$OBJECT_NAME'\") | {tablet_id: .id, metrics: .metrics[] | select(.name == (\"is_raft_leader\") ) | select(.value == 1) } | select(.tablet_id) | {tablet_id} | .tablet_id '`\n",
    "\n",
    "echo ${MY_INDEX_TABLET_ID}"
   ]
  },
  {
   "attachments": {},
   "cell_type": "markdown",
   "metadata": {},
   "source": [
    "Store the `TABLET_ID` for the tablet leader."
   ]
  },
  {
   "cell_type": "code",
   "execution_count": null,
   "metadata": {},
   "outputs": [],
   "source": [
    "%store NB_INDEX_TABLET_ID\n",
    "print(NB_INDEX_TABLET_ID)"
   ]
  },
  {
   "attachments": {},
   "cell_type": "markdown",
   "metadata": {},
   "source": [
    "Flush the WAL file to a SST file for the given index_id."
   ]
  },
  {
   "cell_type": "code",
   "execution_count": null,
   "metadata": {
    "vscode": {
     "languageId": "shellscript"
    }
   },
   "outputs": [],
   "source": [
    "%%bash -s \"$NB_YB_PATH_BIN\" \"$NB_HOST_IPv4\" \"$NB_INDEX_ID\"  # Import file path of Yugabyte and DB name\n",
    "YB_PATH=$( echo \"${1}\" | tr -d \" \")\n",
    "HOST_IPv4=$( echo \"${2}\" | tr -d \" \")\n",
    "INDEX_ID=$( echo \"${3}\" | tr -d \" \")\n",
    "cd $YB_PATH\n",
    "\n",
    "./yb-admin -init_master_addrs ${HOST_IPv4}:7100 flush_table_by_id ${INDEX_ID} 600"
   ]
  },
  {
   "attachments": {},
   "cell_type": "markdown",
   "metadata": {},
   "source": [
    "Dump and decode the SST file in human-readable form.\n",
    "\n",
    "> 📝 Note \n",
    ">\n",
    "> If the following does **NOT** dump the SST file, it is most likely that there are not any rows written to this tablet. To resolve this issue, you need to select a different Tablet Server host. \n",
    "> \n",
    "> Return back to [Select a YB-TServer host](#select-a-yb-tserver-host-2) and select a different node host by commenting out (add a `#` sign) to line 7 and uncomment out (remove the`#` sign) line 8 or line 9."
   ]
  },
  {
   "cell_type": "code",
   "execution_count": null,
   "metadata": {
    "vscode": {
     "languageId": "shellscript"
    }
   },
   "outputs": [],
   "source": [
    "%%bash -s \"$NB_YB_PATH_BIN\" \"$NB_YB_PATH_DATA\" \"$NB_INDEX_ID\" \"$NB_INDEX_TABLET_ID\" # Import file path of Yugabyte and DB name\n",
    "YB_PATH=$( echo \"${1}\" | tr -d \" \")\n",
    "YB_PATH_DATA=$( echo \"${2}\" | tr -d \" \")\n",
    "INDEX_ID=$( echo \"${3}\" | tr -d \" \")\n",
    "INDEX_TABLET_ID=$( echo \"${4}\" | tr -d \" \")\n",
    "\n",
    "cd $YB_PATH/\n",
    "\n",
    "INDEX_ID_PATH=${YB_PATH_DATA}/node1/data/yb-data/tserver/data/rocksdb/table-${INDEX_ID}/tablet-${INDEX_TABLET_ID}\n",
    "\n",
    "\n",
    "./sst_dump --command=scan --file=${INDEX_ID_PATH} --output_format=decoded_regulardb "
   ]
  },
  {
   "attachments": {},
   "cell_type": "markdown",
   "metadata": {},
   "source": [
    "A query plan with an `index only scan` operation accesses a single tablet for the index. The seek operation reads data from the SST file for the index tablet. Depending on the number of products for a given brand, there may be multiple seeks. However, because brand is the partition key for this index, the query locates the tablet with the partition key hash almost immediately. The partition key hash for the index is the DocKey hash. The DocKey consists of the index partition key hash, the index partition key, and clustering keys. The clustering keys are the primary key columns of the index table. The DocKey maps to subdocuments. The subdocuments in this example are any include columns, and in this case, just `description`. Each subdocument contains a column value. \n",
    "\n",
    "The covering index efficiently processes the query without needing to access the data for the index table."
   ]
  },
  {
   "attachments": {},
   "cell_type": "markdown",
   "metadata": {},
   "source": [
    "> 🤔 Question:\n",
    "> \n",
    "> With a covering index for the query, which table can be dropped?\n",
    ">\n",
    "> 🙋 Answer:\n",
    ">\n",
    "> You can drop `tbl_products_by_brand`."
   ]
  },
  {
   "attachments": {},
   "cell_type": "markdown",
   "metadata": {},
   "source": [
    "## Unique index\n",
    "A unique index creates a unique constraint for the index column in the index table. This is especially useful when maintaining data integrity for rows of data that must have unique values such as identifiers, phone numbers, or emails. In this example, the unique index constraint prevents the insertion of a row with a duplicate global trade identification number.\n",
    "\n",
    "To begin, first drop the index if it exists."
   ]
  },
  {
   "cell_type": "code",
   "execution_count": null,
   "metadata": {
    "vscode": {
     "languageId": "shellscript"
    }
   },
   "outputs": [],
   "source": [
    "%%bash -s \"$NB_YB_PATH_BIN\" \"$NB_DB_NAME\"   # if exists, drop index\n",
    "YB_PATH=${1}\n",
    "DB_NAME=${2}  \n",
    "cd $YB_PATH\n",
    "\n",
    "\n",
    "./ycqlsh -r -k $DB_NAME -e \"\n",
    "  drop index if exists idx_products_by_category_unq;\n",
    "\""
   ]
  },
  {
   "attachments": {},
   "cell_type": "markdown",
   "metadata": {},
   "source": [
    "Next, create the unique index."
   ]
  },
  {
   "cell_type": "code",
   "execution_count": null,
   "metadata": {
    "vscode": {
     "languageId": "shellscript"
    }
   },
   "outputs": [],
   "source": [
    "%%bash -s \"$NB_YB_PATH_BIN\" \"$NB_DB_NAME\"   # if not exists, create index\n",
    "YB_PATH=${1}\n",
    "DB_NAME=${2}  \n",
    "cd $YB_PATH\n",
    "\n",
    "./ycqlsh -r -k $DB_NAME -e \"\n",
    "  create unique index if not exists idx_products_by_category_unq\n",
    "  on tbl_products_by_category (gtin);\n",
    "\""
   ]
  },
  {
   "attachments": {},
   "cell_type": "markdown",
   "metadata": {},
   "source": [
    "Review the index creation."
   ]
  },
  {
   "cell_type": "code",
   "execution_count": null,
   "metadata": {
    "vscode": {
     "languageId": "shellscript"
    }
   },
   "outputs": [],
   "source": [
    "%%bash -s \"$NB_YB_PATH_BIN\" \"$NB_DB_NAME\"   # describe table to view index\n",
    "YB_PATH=${1}\n",
    "DB_NAME=${2}  \n",
    "cd $YB_PATH\n",
    "\n",
    "./ycqlsh -r -k $DB_NAME -e \"\n",
    "  desc tbl_products_by_category;\n",
    "\"  "
   ]
  },
  {
   "attachments": {},
   "cell_type": "markdown",
   "metadata": {},
   "source": [
    "This following `insert` statement will generate an error since there already is a row with `gtin=006236226326`:"
   ]
  },
  {
   "cell_type": "code",
   "execution_count": null,
   "metadata": {
    "vscode": {
     "languageId": "shellscript"
    }
   },
   "outputs": [],
   "source": [
    "%%bash -s \"$NB_YB_PATH_BIN\" \"$NB_DB_NAME\"   # insert statement that throws error\n",
    "YB_PATH=${1}\n",
    "DB_NAME=${2}  \n",
    "cd $YB_PATH\n",
    "\n",
    "\n",
    "./ycqlsh -r -k $DB_NAME -e \"\n",
    "  insert into tbl_products_by_category (category, product_name, product_id, brand, price, discount, description, gtin) \n",
    "  values ('H20','Talc 9',62569,'Yeah',29.99,8,'3 liter','006236226326');\n",
    "\""
   ]
  },
  {
   "attachments": {},
   "cell_type": "markdown",
   "metadata": {},
   "source": [
    "The thrown exception (error) is:\n",
    "```\n",
    "Duplicate value disallowed by unique index idx_products_by_category_unq\n",
    "```"
   ]
  },
  {
   "attachments": {},
   "cell_type": "markdown",
   "metadata": {},
   "source": [
    "### Index tablet for unique index\n",
    "YugabyteDB stores a secondary unique index in the same way as it does for a table. The data structure is also similar. It is DocDB. However, the implementation is a bit different for unique indexes. To see how it differs, you will need to first flush the WAL file for the index tablet and then dump the SST file for the tablet."
   ]
  },
  {
   "attachments": {},
   "cell_type": "markdown",
   "metadata": {},
   "source": [
    "#### Select a YB-TServer host\n",
    "<a id=\"select-a-yb-tserver-host-3\"> </a>\n",
    "Set the host variable for one of the nodes. All three nodes in the cluster are running a Tablet Server (YB-TServer). You can comment/uncomment lines 7-9 as needed."
   ]
  },
  {
   "cell_type": "code",
   "execution_count": null,
   "metadata": {
    "vscode": {
     "languageId": "shellscript"
    }
   },
   "outputs": [],
   "source": [
    "%%bash -s \"$NB_HOST_IPv4_01\" \"$NB_HOST_IPv4_02\" \"$NB_HOST_IPv4_03\" --out NB_HOST_IPv4\n",
    "HOST_IPv4_01=$( echo \"${1}\" | tr -d \" \")\n",
    "HOST_IPv4_02=$( echo \"${2}\" | tr -d \" \")\n",
    "HOST_IPv4_03=$( echo \"${3}\" | tr -d \" \")\n",
    "\n",
    "# change the hosts for different tablet leaders\n",
    "MY_HOST_IPv4=$HOST_IPv4_01\n",
    "#MY_HOST_IPv4=$HOST_IPv4_02\n",
    "#MY_HOST_IPv4=$HOST_IPv4_03\n",
    "\n",
    "echo ${MY_HOST_IPv4}"
   ]
  },
  {
   "attachments": {},
   "cell_type": "markdown",
   "metadata": {},
   "source": [
    "Store the select host variable."
   ]
  },
  {
   "cell_type": "code",
   "execution_count": null,
   "metadata": {},
   "outputs": [],
   "source": [
    "%store NB_HOST_IPv4\n",
    "print(NB_HOST_IPv4)"
   ]
  },
  {
   "attachments": {},
   "cell_type": "markdown",
   "metadata": {},
   "source": [
    "Save the `OBJECT_NAME` as a variable."
   ]
  },
  {
   "cell_type": "code",
   "execution_count": null,
   "metadata": {},
   "outputs": [],
   "source": [
    "NB_OBJECT_NAME=\"idx_products_by_category_unq\"\n",
    "%store NB_OBJECT_NAME\n",
    "print(NB_OBJECT_NAME)"
   ]
  },
  {
   "attachments": {},
   "cell_type": "markdown",
   "metadata": {},
   "source": [
    "Grep the `INDEX_ID` for the index using `curl` and `jq`."
   ]
  },
  {
   "cell_type": "code",
   "execution_count": null,
   "metadata": {
    "vscode": {
     "languageId": "shellscript"
    }
   },
   "outputs": [],
   "source": [
    "%%bash -s \"$NB_OBJECT_NAME\" \"$NB_HOST_IPv4\"  \"$NB_DB_NAME\"  \"$NB_TSERVER_WEBSERVER_PORT\"  --out NB_INDEX_ID\n",
    "OBJECT_NAME=$( echo \"${1}\" | tr -d \" \")\n",
    "HOST_IPv4=$( echo \"${2}\" | tr -d \" \")\n",
    "DB_NAME=$( echo \"${3}\" | tr -d \" \")\n",
    "TSERVER_WEBSERVER_PORT=$( echo \"${4}\" | tr -d \" \")\n",
    "\n",
    "\n",
    "MY_URL=\"http://${HOST_IPv4}:${TSERVER_WEBSERVER_PORT}/metrics\"\n",
    "\n",
    "MY_INDEX_ID=`curl -s --compressed ${MY_URL} | jq -r 'limit(1;  .[] | select(.attributes.namespace_name==\"'${DB_NAME}'\" and .type==\"tablet\" and .attributes.table_name==\"'${OBJECT_NAME}'\") |  .attributes.table_id) '`\n",
    "\n",
    "echo ${MY_INDEX_ID}"
   ]
  },
  {
   "attachments": {},
   "cell_type": "markdown",
   "metadata": {},
   "source": [
    "Store the `INDEX_ID` for the index."
   ]
  },
  {
   "cell_type": "code",
   "execution_count": null,
   "metadata": {},
   "outputs": [],
   "source": [
    "%store NB_INDEX_ID\n",
    "print(NB_INDEX_ID)"
   ]
  },
  {
   "attachments": {},
   "cell_type": "markdown",
   "metadata": {},
   "source": [
    "Get the `TABLET_ID` for the tablet leader for the select node host."
   ]
  },
  {
   "cell_type": "code",
   "execution_count": null,
   "metadata": {
    "vscode": {
     "languageId": "shellscript"
    }
   },
   "outputs": [],
   "source": [
    "%%bash -s \"$NB_OBJECT_NAME\" \"$NB_HOST_IPv4\" --out NB_INDEX_TABLET_ID\n",
    "OBJECT_NAME=$( echo \"${1}\" | tr -d \" \")\n",
    "HOST_IPv4=$( echo \"${2}\" | tr -d \" \")\n",
    "\n",
    "MY_URL=\"http://${HOST_IPv4}:8200/metrics\"\n",
    "\n",
    "MY_INDEX_TABLET_ID=`curl -s --compressed ${MY_URL} | jq --raw-output ' .[] | select(.attributes.namespace_name==\"ks_ybu\" and .type==\"tablet\" and .attributes.table_name==\"'$OBJECT_NAME'\") | {tablet_id: .id, metrics: .metrics[] | select(.name == (\"is_raft_leader\") ) | select(.value == 1) } | select(.tablet_id) | {tablet_id} | .tablet_id '`\n",
    "\n",
    "echo ${MY_INDEX_TABLET_ID}"
   ]
  },
  {
   "attachments": {},
   "cell_type": "markdown",
   "metadata": {},
   "source": [
    "Store the `TABLET_ID` for the tablet leader."
   ]
  },
  {
   "cell_type": "code",
   "execution_count": null,
   "metadata": {},
   "outputs": [],
   "source": [
    "%store NB_INDEX_TABLET_ID\n",
    "print(NB_INDEX_TABLET_ID)"
   ]
  },
  {
   "attachments": {},
   "cell_type": "markdown",
   "metadata": {},
   "source": [
    "Flush the WAL file to a SST file for the given index_id."
   ]
  },
  {
   "cell_type": "code",
   "execution_count": null,
   "metadata": {
    "vscode": {
     "languageId": "shellscript"
    }
   },
   "outputs": [],
   "source": [
    "%%bash -s \"$NB_YB_PATH_BIN\" \"$NB_HOST_IPv4\" \"$NB_INDEX_ID\"  # Import file path of Yugabyte and DB name\n",
    "YB_PATH=$( echo \"${1}\" | tr -d \" \")\n",
    "HOST_IPv4=$( echo \"${2}\" | tr -d \" \")\n",
    "INDEX_ID=$( echo \"${3}\" | tr -d \" \")\n",
    "cd $YB_PATH\n",
    "\n",
    "./yb-admin -init_master_addrs ${HOST_IPv4}:7100 flush_table_by_id ${INDEX_ID} 600"
   ]
  },
  {
   "attachments": {},
   "cell_type": "markdown",
   "metadata": {},
   "source": [
    "Dump and decode the SST file in human-readable form.\n",
    "\n",
    "> 📝 Note \n",
    ">\n",
    "> If the following does **NOT** dump the SST file, it is most likely that there are no rows written to this tablet. To resolve this issue, you need to select a different Tablet Server host. \n",
    "> \n",
    "> Return back to [Select a YB-TServer host](#select-a-yb-tserver-host-3) and select a different node host by commenting out (add a `#` sign) to line 7 and uncomment out (remove the`#` sign) line 8 or line 9."
   ]
  },
  {
   "cell_type": "code",
   "execution_count": null,
   "metadata": {
    "vscode": {
     "languageId": "shellscript"
    }
   },
   "outputs": [],
   "source": [
    "%%bash -s \"$NB_YB_PATH_BIN\" \"$NB_YB_PATH_DATA\" \"$NB_INDEX_ID\" \"$NB_INDEX_TABLET_ID\" # Import file path of Yugabyte and DB name\n",
    "YB_PATH=$( echo \"${1}\" | tr -d \" \")\n",
    "YB_PATH_DATA=$( echo \"${2}\" | tr -d \" \")\n",
    "INDEX_ID=$( echo \"${3}\" | tr -d \" \")\n",
    "INDEX_TABLET_ID=$( echo \"${4}\" | tr -d \" \")\n",
    "\n",
    "cd $YB_PATH/\n",
    "\n",
    "INDEX_ID_PATH=${YB_PATH_DATA}/node1/data/yb-data/tserver/data/rocksdb/table-${INDEX_ID}/tablet-${INDEX_TABLET_ID}\n",
    "\n",
    "# ls -l  ${TABLE_ID_PATH}\n",
    "\n",
    "./sst_dump --command=scan --file=${INDEX_ID_PATH} --output_format=decoded_regulardb "
   ]
  },
  {
   "attachments": {},
   "cell_type": "markdown",
   "metadata": {},
   "source": [
    "The DocKey for the index consists solely of the hash encoded partition key and the index value itself. The subdocuments of the DocKey contain the other document values."
   ]
  },
  {
   "attachments": {},
   "cell_type": "markdown",
   "metadata": {},
   "source": [
    "### View the query plan for the unique index\n",
    "Run the following to view the plan."
   ]
  },
  {
   "cell_type": "code",
   "execution_count": null,
   "metadata": {
    "vscode": {
     "languageId": "shellscript"
    }
   },
   "outputs": [],
   "source": [
    "%%bash -s \"$NB_YB_PATH_BIN\" \"$NB_DB_NAME\"   # new query plan\n",
    "YB_PATH=${1}\n",
    "DB_NAME=${2}  \n",
    "cd $YB_PATH\n",
    "\n",
    "./ycqlsh -r -k $DB_NAME -e \"\n",
    "  select category, brand, product_name, description, product_id \n",
    "  from tbl_products_by_category \n",
    "  where gtin = '006236226326';\n",
    "\"  \n",
    "\n",
    "./ycqlsh -r -k $DB_NAME -e \"\n",
    "  explain select category, brand, product_name, description, product_id \n",
    "  from tbl_products_by_category \n",
    "  where gtin = ?;\n",
    "\"  "
   ]
  },
  {
   "attachments": {},
   "cell_type": "markdown",
   "metadata": {},
   "source": [
    "The DocKey for the index consists solely of the hash encoded partition key and the index value itself. The query reads from the exact tablet that contains the partition key hash. However, the primary key columns of the index table are not included in the DocKey. This means that each column in the primary key of the index table maps to an individual subdocument. Any included columns for the unique index have the same SubDocKey column mapping. Each subdocument for a column has a document value. \n",
    "\n",
    "In order to get the primary key for the index table, the query must read the related subdocuments. A second operation then accesses the  tablet of the index table. Often, the index and table tablets reside on different nodes. This means that the operation requires at least one or more remote procedure calls to one or more nodes in the cluster. In other words, the index key lookup query requires that the query accesses both the tablets for the index and the table.\n",
    "\n",
    "That said, it is possible to create a unique index that includes columns from the index table. A covering index eliminates the need for a query to access both the index and table tablets. "
   ]
  },
  {
   "attachments": {},
   "cell_type": "markdown",
   "metadata": {},
   "source": [
    "### 🏆 Challenge: Create a unique covering index\n",
    "In the code cells below, create a unique covering index. The challenge is to answer the following question:\n",
    "\n",
    "> 🤔 Question:\n",
    ">  \n",
    "> What is the resulting query plan for unique covering index? Here is the explain query:\n",
    ">\n",
    "> \n",
    "```\n",
    "  explain select category, brand, product_name, description, product_id \n",
    "  from tbl_products_by_category \n",
    "  where gtin=?;\n",
    "```"
   ]
  },
  {
   "attachments": {},
   "cell_type": "markdown",
   "metadata": {},
   "source": [
    "First, drop the existing unique index."
   ]
  },
  {
   "cell_type": "code",
   "execution_count": null,
   "metadata": {
    "vscode": {
     "languageId": "shellscript"
    }
   },
   "outputs": [],
   "source": [
    "%%bash -s \"$NB_YB_PATH_BIN\" \"$NB_DB_NAME\"   # if exists, drop index\n",
    "YB_PATH=${1}\n",
    "DB_NAME=${2}  \n",
    "cd $YB_PATH\n",
    "\n",
    "# DB_NAME=ks_ybu\n",
    "\n",
    "./ycqlsh -r -k $DB_NAME -e \"\n",
    "  drop index if exists idx_products_by_category_unq;\n",
    "\""
   ]
  },
  {
   "attachments": {},
   "cell_type": "markdown",
   "metadata": {},
   "source": [
    "To create the unique, covering index, complete the create index statement below and then run the cell."
   ]
  },
  {
   "cell_type": "code",
   "execution_count": null,
   "metadata": {
    "vscode": {
     "languageId": "shellscript"
    }
   },
   "outputs": [],
   "source": [
    "%%bash -s \"$NB_YB_PATH_BIN\" \"$NB_DB_NAME\"   # you must complete this code\n",
    "YB_PATH=${1}\n",
    "DB_NAME=${2}  \n",
    "cd $YB_PATH\n",
    "\n",
    "\n",
    "./ycqlsh -r -k $DB_NAME -e \"\n",
    "  create unique index if not exists idx_products_by_category_unq_inc\n",
    "  on ...\n",
    "\""
   ]
  },
  {
   "attachments": {},
   "cell_type": "markdown",
   "metadata": {},
   "source": [
    "> ☝️ Have an error above? \n",
    "> \n",
    "> You need to edit and complete the code above and run it again!"
   ]
  },
  {
   "attachments": {},
   "cell_type": "markdown",
   "metadata": {},
   "source": [
    "Verify the new query plan that uses the unique, covering index."
   ]
  },
  {
   "cell_type": "code",
   "execution_count": null,
   "metadata": {
    "vscode": {
     "languageId": "shellscript"
    }
   },
   "outputs": [],
   "source": [
    "%%bash -s \"$NB_YB_PATH_BIN\" \"$NB_DB_NAME\"   # new query plan\n",
    "YB_PATH=${1}\n",
    "DB_NAME=${2}  \n",
    "cd $YB_PATH\n",
    "\n",
    "./ycqlsh -r -k $DB_NAME -e \"\n",
    "  select category, brand, product_name, description, product_id \n",
    "  from tbl_products_by_category \n",
    "  where gtin = '006236226326';\n",
    "\"  \n",
    "\n",
    "./ycqlsh -r -k $DB_NAME -e \"\n",
    "  explain select category, brand, product_name, description, product_id \n",
    "  from tbl_products_by_category \n",
    "  where gtin = ?;\n",
    "\"  "
   ]
  },
  {
   "attachments": {},
   "cell_type": "markdown",
   "metadata": {},
   "source": [
    "> 🙋 Answer:\n",
    ">\n",
    "> The query plan indicates an `Index Only Key Lookup` action.\n",
    ">\n",
    "> \n",
    "```\n",
    "create unique index if not exists idx_products_by_category_unq\n",
    "  on tbl_products_by_category (gtin)\n",
    "  include (category, brand, product_name, description, product_id);\n",
    "```"
   ]
  },
  {
   "attachments": {},
   "cell_type": "markdown",
   "metadata": {},
   "source": [
    "## Partial Index\n",
    "\n",
    "A partial index contains only the rows that satisfy the where expression in the index predicate. The predicate column in the sub-expression can be an integer type, a boolean, or text. The supported operators are equal, not equal, greater than, less than, greater than or equal to, or less than or equal to. \n",
    "\n",
    "The logical implication holds if all sub-expressions of the index predicate are present in the where expression of the select query.\n",
    "\n",
    "In this exercise, you will create a partial index."
   ]
  },
  {
   "attachments": {},
   "cell_type": "markdown",
   "metadata": {},
   "source": [
    "Drop the index if it exists."
   ]
  },
  {
   "cell_type": "code",
   "execution_count": null,
   "metadata": {
    "vscode": {
     "languageId": "shellscript"
    }
   },
   "outputs": [],
   "source": [
    "%%bash -s \"$NB_YB_PATH_BIN\" \"$NB_DB_NAME\"   # drop index\n",
    "YB_PATH=${1}\n",
    "DB_NAME=${2}  \n",
    "cd $YB_PATH\n",
    "\n",
    "\n",
    "./ycqlsh -r -k $DB_NAME -e \"\n",
    "  drop index if exists idx_products_by_category_high_discount;\n",
    "\""
   ]
  },
  {
   "attachments": {},
   "cell_type": "markdown",
   "metadata": {},
   "source": [
    "Create the partial index."
   ]
  },
  {
   "cell_type": "code",
   "execution_count": null,
   "metadata": {
    "vscode": {
     "languageId": "shellscript"
    }
   },
   "outputs": [],
   "source": [
    "%%bash -s \"$NB_YB_PATH_BIN\" \"$NB_DB_NAME\"   # create index\n",
    "YB_PATH=${1}\n",
    "DB_NAME=${2}  \n",
    "cd $YB_PATH\n",
    "\n",
    "# DB_NAME=ks_ybu\n",
    "./ycqlsh -r -k $DB_NAME -e \"\n",
    "  create index idx_products_by_category_high_discount\n",
    "  on tbl_products_by_category\n",
    "  (discount)\n",
    "  include (brand, description, price) \n",
    "  where discount > 9;\n",
    "\""
   ]
  },
  {
   "attachments": {},
   "cell_type": "markdown",
   "metadata": {},
   "source": [
    "To view the DDL for the index, describe the table."
   ]
  },
  {
   "cell_type": "code",
   "execution_count": null,
   "metadata": {
    "vscode": {
     "languageId": "shellscript"
    }
   },
   "outputs": [],
   "source": [
    "%%bash -s \"$NB_YB_PATH_BIN\" \"$NB_DB_NAME\"   # describe table\n",
    "YB_PATH=${1}\n",
    "DB_NAME=${2}  \n",
    "cd $YB_PATH\n",
    "\n",
    "# DB_NAME=ks_ybu\n",
    "./ycqlsh -r -k $DB_NAME -e \"\n",
    "  desc tbl_products_by_category;\n",
    "\""
   ]
  },
  {
   "attachments": {},
   "cell_type": "markdown",
   "metadata": {},
   "source": [
    "### Index tablet for partial index\n",
    "In the following cells, you can flush the WAL file and dump the SST file for a partial index tablet."
   ]
  },
  {
   "attachments": {},
   "cell_type": "markdown",
   "metadata": {},
   "source": [
    "#### Select a YB-TServer host\n",
    "<a id=\"select-a-yb-tserver-host-4\"> </a>\n",
    "Set the host variable for one of the nodes. All three nodes in the cluster are running a Tablet Server (YB-TServer). You can comment/uncomment lines 7-9 as needed.\n",
    "\n",
    "> Important!\n",
    ">\n",
    "> You most likely will need to return here and change the host as there are very few rows that apply to the partial index."
   ]
  },
  {
   "cell_type": "code",
   "execution_count": null,
   "metadata": {
    "vscode": {
     "languageId": "shellscript"
    }
   },
   "outputs": [],
   "source": [
    "%%bash -s \"$NB_HOST_IPv4_01\" \"$NB_HOST_IPv4_02\" \"$NB_HOST_IPv4_03\" --out NB_HOST_IPv4\n",
    "HOST_IPv4_01=$( echo \"${1}\" | tr -d \" \")\n",
    "HOST_IPv4_02=$( echo \"${2}\" | tr -d \" \")\n",
    "HOST_IPv4_03=$( echo \"${3}\" | tr -d \" \")\n",
    "\n",
    "# change the hosts for different tablet leaders\n",
    "MY_HOST_IPv4=$HOST_IPv4_01\n",
    "#MY_HOST_IPv4=$HOST_IPv4_02\n",
    "#MY_HOST_IPv4=$HOST_IPv4_03\n",
    "\n",
    "echo ${MY_HOST_IPv4}"
   ]
  },
  {
   "attachments": {},
   "cell_type": "markdown",
   "metadata": {},
   "source": [
    "Store the select host variable."
   ]
  },
  {
   "cell_type": "code",
   "execution_count": null,
   "metadata": {},
   "outputs": [],
   "source": [
    "%store NB_HOST_IPv4\n",
    "print(NB_HOST_IPv4)"
   ]
  },
  {
   "attachments": {},
   "cell_type": "markdown",
   "metadata": {},
   "source": [
    "Save the `OBJECT_NAME` name as a variable."
   ]
  },
  {
   "cell_type": "code",
   "execution_count": null,
   "metadata": {},
   "outputs": [],
   "source": [
    "NB_OBJECT_NAME=\"idx_products_by_category_high_discount\"\n",
    "%store NB_OBJECT_NAME\n",
    "print(NB_OBJECT_NAME)"
   ]
  },
  {
   "attachments": {},
   "cell_type": "markdown",
   "metadata": {},
   "source": [
    "Grep the `INDEX_ID` for the index using `curl` and `jq`."
   ]
  },
  {
   "cell_type": "code",
   "execution_count": null,
   "metadata": {
    "vscode": {
     "languageId": "shellscript"
    }
   },
   "outputs": [],
   "source": [
    "%%bash -s \"$NB_OBJECT_NAME\" \"$NB_HOST_IPv4\"  \"$NB_DB_NAME\"  \"$NB_TSERVER_WEBSERVER_PORT\"  --out NB_INDEX_ID\n",
    "OBJECT_NAME=$( echo \"${1}\" | tr -d \" \")\n",
    "HOST_IPv4=$( echo \"${2}\" | tr -d \" \")\n",
    "DB_NAME=$( echo \"${3}\" | tr -d \" \")\n",
    "TSERVER_WEBSERVER_PORT=$( echo \"${4}\" | tr -d \" \")\n",
    "\n",
    "\n",
    "MY_URL=\"http://${HOST_IPv4}:${TSERVER_WEBSERVER_PORT}/metrics\"\n",
    "\n",
    "MY_INDEX_ID=`curl -s --compressed ${MY_URL} | jq -r 'limit(1;  .[] | select(.attributes.namespace_name==\"'${DB_NAME}'\" and .type==\"tablet\" and .attributes.table_name==\"'${OBJECT_NAME}'\") |  .attributes.table_id) '`\n",
    "\n",
    "echo ${MY_INDEX_ID}"
   ]
  },
  {
   "attachments": {},
   "cell_type": "markdown",
   "metadata": {},
   "source": [
    "Store the `INDEX_ID` for the index."
   ]
  },
  {
   "cell_type": "code",
   "execution_count": null,
   "metadata": {},
   "outputs": [],
   "source": [
    "%store NB_INDEX_ID\n",
    "print(NB_INDEX_ID)"
   ]
  },
  {
   "attachments": {},
   "cell_type": "markdown",
   "metadata": {},
   "source": [
    "Get the `TABLET_ID` for the tablet leader for the select node host."
   ]
  },
  {
   "cell_type": "code",
   "execution_count": null,
   "metadata": {
    "vscode": {
     "languageId": "shellscript"
    }
   },
   "outputs": [],
   "source": [
    "%%bash -s \"$NB_OBJECT_NAME\" \"$NB_HOST_IPv4\" --out NB_INDEX_TABLET_ID\n",
    "OBJECT_NAME=$( echo \"${1}\" | tr -d \" \")\n",
    "HOST_IPv4=$( echo \"${2}\" | tr -d \" \")\n",
    "\n",
    "MY_URL=\"http://${HOST_IPv4}:8200/metrics\"\n",
    "\n",
    "MY_INDEX_TABLET_ID=`curl -s --compressed ${MY_URL} | jq --raw-output ' .[] | select(.attributes.namespace_name==\"ks_ybu\" and .type==\"tablet\" and .attributes.table_name==\"'$OBJECT_NAME'\") | {tablet_id: .id, metrics: .metrics[] | select(.name == (\"is_raft_leader\") ) | select(.value == 1) } | select(.tablet_id) | {tablet_id} | .tablet_id '`\n",
    "\n",
    "echo ${MY_INDEX_TABLET_ID}"
   ]
  },
  {
   "attachments": {},
   "cell_type": "markdown",
   "metadata": {},
   "source": [
    "Store the `TABLET_ID` for the tablet leader."
   ]
  },
  {
   "cell_type": "code",
   "execution_count": null,
   "metadata": {},
   "outputs": [],
   "source": [
    "%store NB_INDEX_TABLET_ID\n",
    "print(NB_INDEX_TABLET_ID)"
   ]
  },
  {
   "attachments": {},
   "cell_type": "markdown",
   "metadata": {},
   "source": [
    "Flush the WAL file to a SST file for the given index_id."
   ]
  },
  {
   "cell_type": "code",
   "execution_count": null,
   "metadata": {
    "vscode": {
     "languageId": "shellscript"
    }
   },
   "outputs": [],
   "source": [
    "%%bash -s \"$NB_YB_PATH_BIN\" \"$NB_HOST_IPv4\" \"$NB_INDEX_ID\"  # Import file path of Yugabyte and DB name\n",
    "YB_PATH=$( echo \"${1}\" | tr -d \" \")\n",
    "HOST_IPv4=$( echo \"${2}\" | tr -d \" \")\n",
    "INDEX_ID=$( echo \"${3}\" | tr -d \" \")\n",
    "cd $YB_PATH\n",
    "\n",
    "./yb-admin -init_master_addrs ${HOST_IPv4}:7100 flush_table_by_id ${INDEX_ID} 600"
   ]
  },
  {
   "attachments": {},
   "cell_type": "markdown",
   "metadata": {},
   "source": [
    "Dump and decode the SST file in human-readable form.\n",
    "\n",
    "> 📝 Note \n",
    ">\n",
    "> If the following does **NOT** dump the SST file, it is most likely that there are not any rows written to this tablet. To resolve this issue, you need to select a different Tablet Server host. \n",
    "> \n",
    "> Return back to [Select a YB-TServer host](#select-a-yb-tserver-host-4) and select a different node host by commenting out (add a `#` sign) to line 7 and uncomment out (remove the`#` sign) line 8 or line 9."
   ]
  },
  {
   "cell_type": "code",
   "execution_count": null,
   "metadata": {
    "vscode": {
     "languageId": "shellscript"
    }
   },
   "outputs": [],
   "source": [
    "%%bash -s \"$NB_YB_PATH_BIN\" \"$NB_YB_PATH_DATA\" \"$NB_INDEX_ID\" \"$NB_INDEX_TABLET_ID\" # Import file path of Yugabyte and DB name\n",
    "YB_PATH=$( echo \"${1}\" | tr -d \" \")\n",
    "YB_PATH_DATA=$( echo \"${2}\" | tr -d \" \")\n",
    "INDEX_ID=$( echo \"${3}\" | tr -d \" \")\n",
    "INDEX_TABLET_ID=$( echo \"${4}\" | tr -d \" \")\n",
    "\n",
    "cd $YB_PATH/\n",
    "\n",
    "INDEX_ID_PATH=${YB_PATH_DATA}/node1/data/yb-data/tserver/data/rocksdb/table-${INDEX_ID}/tablet-${INDEX_TABLET_ID}\n",
    "\n",
    "# ls -l  ${INDEX_ID_PATH}\n",
    "\n",
    "./sst_dump --command=scan --file=${INDEX_ID_PATH} --output_format=decoded_regulardb "
   ]
  },
  {
   "attachments": {},
   "cell_type": "markdown",
   "metadata": {},
   "source": [
    "The DocKey for the partial index consists of the index partition key hash, the index partition key, and clustering keys. The clustering keys are the primary key columns of the index table. The include columns exist as subdocument values. The partial index only contains the index table rows that meet the where expression."
   ]
  },
  {
   "attachments": {},
   "cell_type": "markdown",
   "metadata": {},
   "source": [
    "### View the query plan for the partial index\n",
    "Run the following to view the plan."
   ]
  },
  {
   "cell_type": "code",
   "execution_count": null,
   "metadata": {
    "vscode": {
     "languageId": "shellscript"
    }
   },
   "outputs": [],
   "source": [
    "%%bash -s \"$NB_YB_PATH_BIN\" \"$NB_DB_NAME\"   # new query plan\n",
    "YB_PATH=${1}\n",
    "DB_NAME=${2}  \n",
    "cd $YB_PATH\n",
    "\n",
    "./ycqlsh -r -k $DB_NAME -e \"\n",
    "  select category, brand, product_name, description, product_id, discount\n",
    "  from tbl_products_by_category \n",
    "  where discount > 9 ;\n",
    "\"  \n",
    "\n",
    "./ycqlsh -r -k $DB_NAME -e \"\n",
    "  explain select category, brand, product_name, description, product_id, discount\n",
    "  from tbl_products_by_category \n",
    "  where discount > 9 ;\n",
    "\"  "
   ]
  },
  {
   "attachments": {},
   "cell_type": "markdown",
   "metadata": {},
   "source": [
    "> 🤔 Question:\n",
    ">  \n",
    "> What happens when the query plan contains a similar where expression such as `where discount > 8`?\n",
    ">"
   ]
  },
  {
   "cell_type": "code",
   "execution_count": null,
   "metadata": {
    "vscode": {
     "languageId": "shellscript"
    }
   },
   "outputs": [],
   "source": [
    "%%bash -s \"$NB_YB_PATH_BIN\" \"$NB_DB_NAME\"   # new query plan\n",
    "YB_PATH=${1}\n",
    "DB_NAME=${2}  \n",
    "cd $YB_PATH\n",
    "\n",
    "./ycqlsh -r -k $DB_NAME -e \"\n",
    "  select category, brand, product_name, description, product_id, discount\n",
    "  from tbl_products_by_category \n",
    "  where discount > 8 ;\n",
    "\"  \n",
    "\n",
    "./ycqlsh -r -k $DB_NAME -e \"\n",
    "  explain select category, brand, product_name, description, product_id, discount\n",
    "  from tbl_products_by_category \n",
    "  where discount > 8 ;\n",
    "\"  "
   ]
  },
  {
   "attachments": {},
   "cell_type": "markdown",
   "metadata": {},
   "source": [
    "> 🙋 Answer:\n",
    ">  \n",
    "> Even though there is a mathematical implication to use the index as in the sense the index needs to be grater that some value, the query plan results in a sequence scan and does not use the partial index. The DDL for the partial index specifies how YugabyteDB fills the index base on the literal value in the expression.\n",
    ">"
   ]
  },
  {
   "attachments": {},
   "cell_type": "markdown",
   "metadata": {
    "deletable": false,
    "editable": false
   },
   "source": [
    "---\n",
    "# 🌟🌟🌟🌟 Great work! \n",
    "In this notebook, you completed the following:\n",
    "\n",
    "- Secondary indexes\n",
    "  - Requirements\n",
    "  - Secondary index: Index Scan query plan\n",
    "  - Secondary index: Index Only Scan query plan\n",
    "  - Unique index\n",
    "  - Partial index\n",
    "\n",
    "\n",
    "## 😊 Next up!\n",
    "Continue your learning by opening the next notebook, `05_JSONB.ipynb`. "
   ]
  },
  {
   "cell_type": "code",
   "execution_count": null,
   "metadata": {
    "vscode": {
     "languageId": "shellscript"
    }
   },
   "outputs": [],
   "source": [
    "%%bash\n",
    "gp open '05_JSONB.ipynb'"
   ]
  }
 ],
 "metadata": {
  "kernelspec": {
   "display_name": "Python 3",
   "language": "python",
   "name": "python3"
  },
  "language_info": {
   "codemirror_mode": {
    "name": "ipython",
    "version": 3
   },
   "file_extension": ".py",
   "mimetype": "text/x-python",
   "name": "python",
   "nbconvert_exporter": "python",
   "pygments_lexer": "ipython3",
   "version": "3.9.6"
  },
  "orig_nbformat": 4,
  "vscode": {
   "interpreter": {
    "hash": "31f2aee4e71d21fbe5cf8b01ff0e069b9275f58929596ceb00d14d90e3e16cd6"
   }
  }
 },
 "nbformat": 4,
 "nbformat_minor": 2
}
